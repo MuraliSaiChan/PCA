{
 "cells": [
  {
   "cell_type": "code",
   "execution_count": 1,
   "id": "e43b841f",
   "metadata": {},
   "outputs": [],
   "source": [
    "import pandas as pd\n",
    "import numpy as np\n",
    "from scipy.stats import zscore\n",
    "from scipy.cluster.hierarchy import fcluster, linkage, dendrogram\n",
    "from sklearn.cluster import KMeans"
   ]
  },
  {
   "cell_type": "code",
   "execution_count": 2,
   "id": "3059061b",
   "metadata": {},
   "outputs": [],
   "source": [
    "import matplotlib.pyplot as plt\n",
    "import seaborn as sns"
   ]
  },
  {
   "cell_type": "code",
   "execution_count": 3,
   "id": "1d7cc5e7",
   "metadata": {},
   "outputs": [
    {
     "data": {
      "text/html": [
       "<div>\n",
       "<style scoped>\n",
       "    .dataframe tbody tr th:only-of-type {\n",
       "        vertical-align: middle;\n",
       "    }\n",
       "\n",
       "    .dataframe tbody tr th {\n",
       "        vertical-align: top;\n",
       "    }\n",
       "\n",
       "    .dataframe thead th {\n",
       "        text-align: right;\n",
       "    }\n",
       "</style>\n",
       "<table border=\"1\" class=\"dataframe\">\n",
       "  <thead>\n",
       "    <tr style=\"text-align: right;\">\n",
       "      <th></th>\n",
       "      <th>Timestamp</th>\n",
       "      <th>InventoryType</th>\n",
       "      <th>Ad - Length</th>\n",
       "      <th>Ad- Width</th>\n",
       "      <th>Ad Size</th>\n",
       "      <th>Ad Type</th>\n",
       "      <th>Platform</th>\n",
       "      <th>Device Type</th>\n",
       "      <th>Format</th>\n",
       "      <th>Available_Impressions</th>\n",
       "      <th>Matched_Queries</th>\n",
       "      <th>Impressions</th>\n",
       "      <th>Clicks</th>\n",
       "      <th>Spend</th>\n",
       "      <th>Fee</th>\n",
       "      <th>Revenue</th>\n",
       "      <th>CTR</th>\n",
       "      <th>CPM</th>\n",
       "      <th>CPC</th>\n",
       "    </tr>\n",
       "  </thead>\n",
       "  <tbody>\n",
       "    <tr>\n",
       "      <th>0</th>\n",
       "      <td>2020-9-2-17</td>\n",
       "      <td>Format1</td>\n",
       "      <td>300</td>\n",
       "      <td>250</td>\n",
       "      <td>75000</td>\n",
       "      <td>Inter222</td>\n",
       "      <td>Video</td>\n",
       "      <td>Desktop</td>\n",
       "      <td>Display</td>\n",
       "      <td>1806</td>\n",
       "      <td>325</td>\n",
       "      <td>323</td>\n",
       "      <td>1</td>\n",
       "      <td>0.0</td>\n",
       "      <td>0.35</td>\n",
       "      <td>0.0</td>\n",
       "      <td>0.0031</td>\n",
       "      <td>0.0</td>\n",
       "      <td>0.0</td>\n",
       "    </tr>\n",
       "    <tr>\n",
       "      <th>1</th>\n",
       "      <td>2020-9-2-10</td>\n",
       "      <td>Format1</td>\n",
       "      <td>300</td>\n",
       "      <td>250</td>\n",
       "      <td>75000</td>\n",
       "      <td>Inter227</td>\n",
       "      <td>App</td>\n",
       "      <td>Mobile</td>\n",
       "      <td>Video</td>\n",
       "      <td>1780</td>\n",
       "      <td>285</td>\n",
       "      <td>285</td>\n",
       "      <td>1</td>\n",
       "      <td>0.0</td>\n",
       "      <td>0.35</td>\n",
       "      <td>0.0</td>\n",
       "      <td>0.0035</td>\n",
       "      <td>0.0</td>\n",
       "      <td>0.0</td>\n",
       "    </tr>\n",
       "    <tr>\n",
       "      <th>2</th>\n",
       "      <td>2020-9-1-22</td>\n",
       "      <td>Format1</td>\n",
       "      <td>300</td>\n",
       "      <td>250</td>\n",
       "      <td>75000</td>\n",
       "      <td>Inter222</td>\n",
       "      <td>Video</td>\n",
       "      <td>Desktop</td>\n",
       "      <td>Display</td>\n",
       "      <td>2727</td>\n",
       "      <td>356</td>\n",
       "      <td>355</td>\n",
       "      <td>1</td>\n",
       "      <td>0.0</td>\n",
       "      <td>0.35</td>\n",
       "      <td>0.0</td>\n",
       "      <td>0.0028</td>\n",
       "      <td>0.0</td>\n",
       "      <td>0.0</td>\n",
       "    </tr>\n",
       "    <tr>\n",
       "      <th>3</th>\n",
       "      <td>2020-9-3-20</td>\n",
       "      <td>Format1</td>\n",
       "      <td>300</td>\n",
       "      <td>250</td>\n",
       "      <td>75000</td>\n",
       "      <td>Inter228</td>\n",
       "      <td>Video</td>\n",
       "      <td>Mobile</td>\n",
       "      <td>Video</td>\n",
       "      <td>2430</td>\n",
       "      <td>497</td>\n",
       "      <td>495</td>\n",
       "      <td>1</td>\n",
       "      <td>0.0</td>\n",
       "      <td>0.35</td>\n",
       "      <td>0.0</td>\n",
       "      <td>0.0020</td>\n",
       "      <td>0.0</td>\n",
       "      <td>0.0</td>\n",
       "    </tr>\n",
       "    <tr>\n",
       "      <th>4</th>\n",
       "      <td>2020-9-4-15</td>\n",
       "      <td>Format1</td>\n",
       "      <td>300</td>\n",
       "      <td>250</td>\n",
       "      <td>75000</td>\n",
       "      <td>Inter217</td>\n",
       "      <td>Web</td>\n",
       "      <td>Desktop</td>\n",
       "      <td>Video</td>\n",
       "      <td>1218</td>\n",
       "      <td>242</td>\n",
       "      <td>242</td>\n",
       "      <td>1</td>\n",
       "      <td>0.0</td>\n",
       "      <td>0.35</td>\n",
       "      <td>0.0</td>\n",
       "      <td>0.0041</td>\n",
       "      <td>0.0</td>\n",
       "      <td>0.0</td>\n",
       "    </tr>\n",
       "  </tbody>\n",
       "</table>\n",
       "</div>"
      ],
      "text/plain": [
       "     Timestamp InventoryType  Ad - Length  Ad- Width  Ad Size   Ad Type  \\\n",
       "0  2020-9-2-17       Format1          300        250    75000  Inter222   \n",
       "1  2020-9-2-10       Format1          300        250    75000  Inter227   \n",
       "2  2020-9-1-22       Format1          300        250    75000  Inter222   \n",
       "3  2020-9-3-20       Format1          300        250    75000  Inter228   \n",
       "4  2020-9-4-15       Format1          300        250    75000  Inter217   \n",
       "\n",
       "  Platform Device Type   Format  Available_Impressions  Matched_Queries  \\\n",
       "0    Video     Desktop  Display                   1806              325   \n",
       "1      App      Mobile    Video                   1780              285   \n",
       "2    Video     Desktop  Display                   2727              356   \n",
       "3    Video      Mobile    Video                   2430              497   \n",
       "4      Web     Desktop    Video                   1218              242   \n",
       "\n",
       "   Impressions  Clicks  Spend   Fee  Revenue     CTR  CPM  CPC  \n",
       "0          323       1    0.0  0.35      0.0  0.0031  0.0  0.0  \n",
       "1          285       1    0.0  0.35      0.0  0.0035  0.0  0.0  \n",
       "2          355       1    0.0  0.35      0.0  0.0028  0.0  0.0  \n",
       "3          495       1    0.0  0.35      0.0  0.0020  0.0  0.0  \n",
       "4          242       1    0.0  0.35      0.0  0.0041  0.0  0.0  "
      ]
     },
     "execution_count": 3,
     "metadata": {},
     "output_type": "execute_result"
    }
   ],
   "source": [
    "df = pd.read_excel('Clustering Clean Ads_Data-2.xlsx')\n",
    "df.head()"
   ]
  },
  {
   "cell_type": "code",
   "execution_count": 4,
   "id": "5dac40e5",
   "metadata": {},
   "outputs": [
    {
     "name": "stdout",
     "output_type": "stream",
     "text": [
      "<class 'pandas.core.frame.DataFrame'>\n",
      "RangeIndex: 23066 entries, 0 to 23065\n",
      "Data columns (total 19 columns):\n",
      " #   Column                 Non-Null Count  Dtype  \n",
      "---  ------                 --------------  -----  \n",
      " 0   Timestamp              23066 non-null  object \n",
      " 1   InventoryType          23066 non-null  object \n",
      " 2   Ad - Length            23066 non-null  int64  \n",
      " 3   Ad- Width              23066 non-null  int64  \n",
      " 4   Ad Size                23066 non-null  int64  \n",
      " 5   Ad Type                23066 non-null  object \n",
      " 6   Platform               23066 non-null  object \n",
      " 7   Device Type            23066 non-null  object \n",
      " 8   Format                 23066 non-null  object \n",
      " 9   Available_Impressions  23066 non-null  int64  \n",
      " 10  Matched_Queries        23066 non-null  int64  \n",
      " 11  Impressions            23066 non-null  int64  \n",
      " 12  Clicks                 23066 non-null  int64  \n",
      " 13  Spend                  23066 non-null  float64\n",
      " 14  Fee                    23066 non-null  float64\n",
      " 15  Revenue                23066 non-null  float64\n",
      " 16  CTR                    18330 non-null  float64\n",
      " 17  CPM                    18330 non-null  float64\n",
      " 18  CPC                    18330 non-null  float64\n",
      "dtypes: float64(6), int64(7), object(6)\n",
      "memory usage: 3.3+ MB\n"
     ]
    }
   ],
   "source": [
    "df.info()"
   ]
  },
  {
   "cell_type": "code",
   "execution_count": 5,
   "id": "75d3172c",
   "metadata": {},
   "outputs": [
    {
     "name": "stdout",
     "output_type": "stream",
     "text": [
      "<class 'pandas.core.frame.DataFrame'>\n",
      "RangeIndex: 23066 entries, 0 to 23065\n",
      "Data columns (total 13 columns):\n",
      " #   Column                 Non-Null Count  Dtype  \n",
      "---  ------                 --------------  -----  \n",
      " 0   Ad - Length            23066 non-null  int64  \n",
      " 1   Ad- Width              23066 non-null  int64  \n",
      " 2   Ad Size                23066 non-null  int64  \n",
      " 3   Available_Impressions  23066 non-null  int64  \n",
      " 4   Matched_Queries        23066 non-null  int64  \n",
      " 5   Impressions            23066 non-null  int64  \n",
      " 6   Clicks                 23066 non-null  int64  \n",
      " 7   Spend                  23066 non-null  float64\n",
      " 8   Fee                    23066 non-null  float64\n",
      " 9   Revenue                23066 non-null  float64\n",
      " 10  CTR                    18330 non-null  float64\n",
      " 11  CPM                    18330 non-null  float64\n",
      " 12  CPC                    18330 non-null  float64\n",
      "dtypes: float64(6), int64(7)\n",
      "memory usage: 2.3 MB\n"
     ]
    }
   ],
   "source": [
    "df_sel = df.drop([i for i in df.columns if df[i].dtype=='object'],axis=1)\n",
    "df_sel.info()"
   ]
  },
  {
   "cell_type": "code",
   "execution_count": 6,
   "id": "403536ca",
   "metadata": {},
   "outputs": [
    {
     "data": {
      "text/html": [
       "<div>\n",
       "<style scoped>\n",
       "    .dataframe tbody tr th:only-of-type {\n",
       "        vertical-align: middle;\n",
       "    }\n",
       "\n",
       "    .dataframe tbody tr th {\n",
       "        vertical-align: top;\n",
       "    }\n",
       "\n",
       "    .dataframe thead th {\n",
       "        text-align: right;\n",
       "    }\n",
       "</style>\n",
       "<table border=\"1\" class=\"dataframe\">\n",
       "  <thead>\n",
       "    <tr style=\"text-align: right;\">\n",
       "      <th></th>\n",
       "      <th>Ad - Length</th>\n",
       "      <th>Ad- Width</th>\n",
       "      <th>Ad Size</th>\n",
       "      <th>Available_Impressions</th>\n",
       "      <th>Matched_Queries</th>\n",
       "      <th>Impressions</th>\n",
       "      <th>Clicks</th>\n",
       "      <th>Spend</th>\n",
       "      <th>Fee</th>\n",
       "      <th>Revenue</th>\n",
       "      <th>CTR</th>\n",
       "      <th>CPM</th>\n",
       "      <th>CPC</th>\n",
       "    </tr>\n",
       "  </thead>\n",
       "  <tbody>\n",
       "    <tr>\n",
       "      <th>0</th>\n",
       "      <td>300</td>\n",
       "      <td>250</td>\n",
       "      <td>75000</td>\n",
       "      <td>1806</td>\n",
       "      <td>325</td>\n",
       "      <td>323</td>\n",
       "      <td>1</td>\n",
       "      <td>0.0</td>\n",
       "      <td>0.35</td>\n",
       "      <td>0.0</td>\n",
       "      <td>0.0031</td>\n",
       "      <td>0.0</td>\n",
       "      <td>0.0</td>\n",
       "    </tr>\n",
       "    <tr>\n",
       "      <th>1</th>\n",
       "      <td>300</td>\n",
       "      <td>250</td>\n",
       "      <td>75000</td>\n",
       "      <td>1780</td>\n",
       "      <td>285</td>\n",
       "      <td>285</td>\n",
       "      <td>1</td>\n",
       "      <td>0.0</td>\n",
       "      <td>0.35</td>\n",
       "      <td>0.0</td>\n",
       "      <td>0.0035</td>\n",
       "      <td>0.0</td>\n",
       "      <td>0.0</td>\n",
       "    </tr>\n",
       "    <tr>\n",
       "      <th>2</th>\n",
       "      <td>300</td>\n",
       "      <td>250</td>\n",
       "      <td>75000</td>\n",
       "      <td>2727</td>\n",
       "      <td>356</td>\n",
       "      <td>355</td>\n",
       "      <td>1</td>\n",
       "      <td>0.0</td>\n",
       "      <td>0.35</td>\n",
       "      <td>0.0</td>\n",
       "      <td>0.0028</td>\n",
       "      <td>0.0</td>\n",
       "      <td>0.0</td>\n",
       "    </tr>\n",
       "    <tr>\n",
       "      <th>3</th>\n",
       "      <td>300</td>\n",
       "      <td>250</td>\n",
       "      <td>75000</td>\n",
       "      <td>2430</td>\n",
       "      <td>497</td>\n",
       "      <td>495</td>\n",
       "      <td>1</td>\n",
       "      <td>0.0</td>\n",
       "      <td>0.35</td>\n",
       "      <td>0.0</td>\n",
       "      <td>0.0020</td>\n",
       "      <td>0.0</td>\n",
       "      <td>0.0</td>\n",
       "    </tr>\n",
       "    <tr>\n",
       "      <th>4</th>\n",
       "      <td>300</td>\n",
       "      <td>250</td>\n",
       "      <td>75000</td>\n",
       "      <td>1218</td>\n",
       "      <td>242</td>\n",
       "      <td>242</td>\n",
       "      <td>1</td>\n",
       "      <td>0.0</td>\n",
       "      <td>0.35</td>\n",
       "      <td>0.0</td>\n",
       "      <td>0.0041</td>\n",
       "      <td>0.0</td>\n",
       "      <td>0.0</td>\n",
       "    </tr>\n",
       "  </tbody>\n",
       "</table>\n",
       "</div>"
      ],
      "text/plain": [
       "   Ad - Length  Ad- Width  Ad Size  Available_Impressions  Matched_Queries  \\\n",
       "0          300        250    75000                   1806              325   \n",
       "1          300        250    75000                   1780              285   \n",
       "2          300        250    75000                   2727              356   \n",
       "3          300        250    75000                   2430              497   \n",
       "4          300        250    75000                   1218              242   \n",
       "\n",
       "   Impressions  Clicks  Spend   Fee  Revenue     CTR  CPM  CPC  \n",
       "0          323       1    0.0  0.35      0.0  0.0031  0.0  0.0  \n",
       "1          285       1    0.0  0.35      0.0  0.0035  0.0  0.0  \n",
       "2          355       1    0.0  0.35      0.0  0.0028  0.0  0.0  \n",
       "3          495       1    0.0  0.35      0.0  0.0020  0.0  0.0  \n",
       "4          242       1    0.0  0.35      0.0  0.0041  0.0  0.0  "
      ]
     },
     "execution_count": 6,
     "metadata": {},
     "output_type": "execute_result"
    }
   ],
   "source": [
    "df_sel.head()"
   ]
  },
  {
   "attachments": {
    "image.png": {
     "image/png": "[encoded data removed]"
    }
   },
   "cell_type": "markdown",
   "id": "a44ce856",
   "metadata": {},
   "source": [
    "\n",
    "![image.png](attachment:image.png)"
   ]
  },
  {
   "cell_type": "code",
   "execution_count": 7,
   "id": "07ed9654",
   "metadata": {},
   "outputs": [
    {
     "data": {
      "text/html": [
       "<div>\n",
       "<style scoped>\n",
       "    .dataframe tbody tr th:only-of-type {\n",
       "        vertical-align: middle;\n",
       "    }\n",
       "\n",
       "    .dataframe tbody tr th {\n",
       "        vertical-align: top;\n",
       "    }\n",
       "\n",
       "    .dataframe thead th {\n",
       "        text-align: right;\n",
       "    }\n",
       "</style>\n",
       "<table border=\"1\" class=\"dataframe\">\n",
       "  <thead>\n",
       "    <tr style=\"text-align: right;\">\n",
       "      <th></th>\n",
       "      <th>Ad - Length</th>\n",
       "      <th>Ad- Width</th>\n",
       "      <th>Ad Size</th>\n",
       "      <th>Available_Impressions</th>\n",
       "      <th>Matched_Queries</th>\n",
       "      <th>Impressions</th>\n",
       "      <th>Clicks</th>\n",
       "      <th>Spend</th>\n",
       "      <th>Fee</th>\n",
       "      <th>Revenue</th>\n",
       "      <th>CTR</th>\n",
       "      <th>CPM</th>\n",
       "      <th>CPC</th>\n",
       "    </tr>\n",
       "  </thead>\n",
       "  <tbody>\n",
       "    <tr>\n",
       "      <th>count</th>\n",
       "      <td>23066.000000</td>\n",
       "      <td>23066.000000</td>\n",
       "      <td>23066.000000</td>\n",
       "      <td>2.306600e+04</td>\n",
       "      <td>2.306600e+04</td>\n",
       "      <td>2.306600e+04</td>\n",
       "      <td>23066.000000</td>\n",
       "      <td>23066.000000</td>\n",
       "      <td>23066.000000</td>\n",
       "      <td>23066.000000</td>\n",
       "      <td>18330.000000</td>\n",
       "      <td>18330.000000</td>\n",
       "      <td>18330.000000</td>\n",
       "    </tr>\n",
       "    <tr>\n",
       "      <th>mean</th>\n",
       "      <td>385.163097</td>\n",
       "      <td>337.896037</td>\n",
       "      <td>96674.468048</td>\n",
       "      <td>2.432044e+06</td>\n",
       "      <td>1.295099e+06</td>\n",
       "      <td>1.241520e+06</td>\n",
       "      <td>10678.518816</td>\n",
       "      <td>2706.625689</td>\n",
       "      <td>0.335123</td>\n",
       "      <td>1924.252331</td>\n",
       "      <td>0.073661</td>\n",
       "      <td>7.672045</td>\n",
       "      <td>0.351061</td>\n",
       "    </tr>\n",
       "    <tr>\n",
       "      <th>std</th>\n",
       "      <td>233.651434</td>\n",
       "      <td>203.092885</td>\n",
       "      <td>61538.329557</td>\n",
       "      <td>4.742888e+06</td>\n",
       "      <td>2.512970e+06</td>\n",
       "      <td>2.429400e+06</td>\n",
       "      <td>17353.409363</td>\n",
       "      <td>4067.927273</td>\n",
       "      <td>0.031963</td>\n",
       "      <td>3105.238410</td>\n",
       "      <td>0.075160</td>\n",
       "      <td>6.481391</td>\n",
       "      <td>0.343334</td>\n",
       "    </tr>\n",
       "    <tr>\n",
       "      <th>min</th>\n",
       "      <td>120.000000</td>\n",
       "      <td>70.000000</td>\n",
       "      <td>33600.000000</td>\n",
       "      <td>1.000000e+00</td>\n",
       "      <td>1.000000e+00</td>\n",
       "      <td>1.000000e+00</td>\n",
       "      <td>1.000000</td>\n",
       "      <td>0.000000</td>\n",
       "      <td>0.210000</td>\n",
       "      <td>0.000000</td>\n",
       "      <td>0.000100</td>\n",
       "      <td>0.000000</td>\n",
       "      <td>0.000000</td>\n",
       "    </tr>\n",
       "    <tr>\n",
       "      <th>25%</th>\n",
       "      <td>120.000000</td>\n",
       "      <td>250.000000</td>\n",
       "      <td>72000.000000</td>\n",
       "      <td>3.367225e+04</td>\n",
       "      <td>1.828250e+04</td>\n",
       "      <td>7.990500e+03</td>\n",
       "      <td>710.000000</td>\n",
       "      <td>85.180000</td>\n",
       "      <td>0.330000</td>\n",
       "      <td>55.365375</td>\n",
       "      <td>0.002600</td>\n",
       "      <td>1.710000</td>\n",
       "      <td>0.090000</td>\n",
       "    </tr>\n",
       "    <tr>\n",
       "      <th>50%</th>\n",
       "      <td>300.000000</td>\n",
       "      <td>300.000000</td>\n",
       "      <td>72000.000000</td>\n",
       "      <td>4.837710e+05</td>\n",
       "      <td>2.580875e+05</td>\n",
       "      <td>2.252900e+05</td>\n",
       "      <td>4425.000000</td>\n",
       "      <td>1425.125000</td>\n",
       "      <td>0.350000</td>\n",
       "      <td>926.335000</td>\n",
       "      <td>0.082550</td>\n",
       "      <td>7.660000</td>\n",
       "      <td>0.160000</td>\n",
       "    </tr>\n",
       "    <tr>\n",
       "      <th>75%</th>\n",
       "      <td>720.000000</td>\n",
       "      <td>600.000000</td>\n",
       "      <td>84000.000000</td>\n",
       "      <td>2.527712e+06</td>\n",
       "      <td>1.180700e+06</td>\n",
       "      <td>1.112428e+06</td>\n",
       "      <td>12793.750000</td>\n",
       "      <td>3121.400000</td>\n",
       "      <td>0.350000</td>\n",
       "      <td>2091.338150</td>\n",
       "      <td>0.130000</td>\n",
       "      <td>12.510000</td>\n",
       "      <td>0.570000</td>\n",
       "    </tr>\n",
       "    <tr>\n",
       "      <th>max</th>\n",
       "      <td>728.000000</td>\n",
       "      <td>600.000000</td>\n",
       "      <td>216000.000000</td>\n",
       "      <td>2.759286e+07</td>\n",
       "      <td>1.470202e+07</td>\n",
       "      <td>1.419477e+07</td>\n",
       "      <td>143049.000000</td>\n",
       "      <td>26931.870000</td>\n",
       "      <td>0.350000</td>\n",
       "      <td>21276.180000</td>\n",
       "      <td>1.000000</td>\n",
       "      <td>81.560000</td>\n",
       "      <td>7.260000</td>\n",
       "    </tr>\n",
       "  </tbody>\n",
       "</table>\n",
       "</div>"
      ],
      "text/plain": [
       "        Ad - Length     Ad- Width        Ad Size  Available_Impressions  \\\n",
       "count  23066.000000  23066.000000   23066.000000           2.306600e+04   \n",
       "mean     385.163097    337.896037   96674.468048           2.432044e+06   \n",
       "std      233.651434    203.092885   61538.329557           4.742888e+06   \n",
       "min      120.000000     70.000000   33600.000000           1.000000e+00   \n",
       "25%      120.000000    250.000000   72000.000000           3.367225e+04   \n",
       "50%      300.000000    300.000000   72000.000000           4.837710e+05   \n",
       "75%      720.000000    600.000000   84000.000000           2.527712e+06   \n",
       "max      728.000000    600.000000  216000.000000           2.759286e+07   \n",
       "\n",
       "       Matched_Queries   Impressions         Clicks         Spend  \\\n",
       "count     2.306600e+04  2.306600e+04   23066.000000  23066.000000   \n",
       "mean      1.295099e+06  1.241520e+06   10678.518816   2706.625689   \n",
       "std       2.512970e+06  2.429400e+06   17353.409363   4067.927273   \n",
       "min       1.000000e+00  1.000000e+00       1.000000      0.000000   \n",
       "25%       1.828250e+04  7.990500e+03     710.000000     85.180000   \n",
       "50%       2.580875e+05  2.252900e+05    4425.000000   1425.125000   \n",
       "75%       1.180700e+06  1.112428e+06   12793.750000   3121.400000   \n",
       "max       1.470202e+07  1.419477e+07  143049.000000  26931.870000   \n",
       "\n",
       "                Fee       Revenue           CTR           CPM           CPC  \n",
       "count  23066.000000  23066.000000  18330.000000  18330.000000  18330.000000  \n",
       "mean       0.335123   1924.252331      0.073661      7.672045      0.351061  \n",
       "std        0.031963   3105.238410      0.075160      6.481391      0.343334  \n",
       "min        0.210000      0.000000      0.000100      0.000000      0.000000  \n",
       "25%        0.330000     55.365375      0.002600      1.710000      0.090000  \n",
       "50%        0.350000    926.335000      0.082550      7.660000      0.160000  \n",
       "75%        0.350000   2091.338150      0.130000     12.510000      0.570000  \n",
       "max        0.350000  21276.180000      1.000000     81.560000      7.260000  "
      ]
     },
     "execution_count": 7,
     "metadata": {},
     "output_type": "execute_result"
    }
   ],
   "source": [
    "df_sel.describe()"
   ]
  },
  {
   "cell_type": "code",
   "execution_count": 8,
   "id": "0988e330",
   "metadata": {},
   "outputs": [
    {
     "data": {
      "text/html": [
       "<div>\n",
       "<style scoped>\n",
       "    .dataframe tbody tr th:only-of-type {\n",
       "        vertical-align: middle;\n",
       "    }\n",
       "\n",
       "    .dataframe tbody tr th {\n",
       "        vertical-align: top;\n",
       "    }\n",
       "\n",
       "    .dataframe thead th {\n",
       "        text-align: right;\n",
       "    }\n",
       "</style>\n",
       "<table border=\"1\" class=\"dataframe\">\n",
       "  <thead>\n",
       "    <tr style=\"text-align: right;\">\n",
       "      <th></th>\n",
       "      <th>Ad - Length</th>\n",
       "      <th>Ad- Width</th>\n",
       "      <th>Ad Size</th>\n",
       "      <th>Available_Impressions</th>\n",
       "      <th>Matched_Queries</th>\n",
       "      <th>Impressions</th>\n",
       "      <th>Clicks</th>\n",
       "      <th>Spend</th>\n",
       "      <th>Fee</th>\n",
       "      <th>Revenue</th>\n",
       "      <th>CTR</th>\n",
       "      <th>CPM</th>\n",
       "      <th>CPC</th>\n",
       "    </tr>\n",
       "  </thead>\n",
       "  <tbody>\n",
       "    <tr>\n",
       "      <th>count</th>\n",
       "      <td>23066.000000</td>\n",
       "      <td>23066.000000</td>\n",
       "      <td>23066.000000</td>\n",
       "      <td>2.306600e+04</td>\n",
       "      <td>2.306600e+04</td>\n",
       "      <td>2.306600e+04</td>\n",
       "      <td>23066.000000</td>\n",
       "      <td>23066.000000</td>\n",
       "      <td>23066.000000</td>\n",
       "      <td>23066.000000</td>\n",
       "      <td>18330.000000</td>\n",
       "      <td>18330.000000</td>\n",
       "      <td>18330.000000</td>\n",
       "    </tr>\n",
       "    <tr>\n",
       "      <th>mean</th>\n",
       "      <td>385.163097</td>\n",
       "      <td>337.896037</td>\n",
       "      <td>96674.468048</td>\n",
       "      <td>2.432044e+06</td>\n",
       "      <td>1.295099e+06</td>\n",
       "      <td>1.241520e+06</td>\n",
       "      <td>10678.518816</td>\n",
       "      <td>2706.625689</td>\n",
       "      <td>0.335123</td>\n",
       "      <td>1924.252331</td>\n",
       "      <td>0.073661</td>\n",
       "      <td>7.672045</td>\n",
       "      <td>0.351061</td>\n",
       "    </tr>\n",
       "    <tr>\n",
       "      <th>std</th>\n",
       "      <td>233.651434</td>\n",
       "      <td>203.092885</td>\n",
       "      <td>61538.329557</td>\n",
       "      <td>4.742888e+06</td>\n",
       "      <td>2.512970e+06</td>\n",
       "      <td>2.429400e+06</td>\n",
       "      <td>17353.409363</td>\n",
       "      <td>4067.927273</td>\n",
       "      <td>0.031963</td>\n",
       "      <td>3105.238410</td>\n",
       "      <td>0.075160</td>\n",
       "      <td>6.481391</td>\n",
       "      <td>0.343334</td>\n",
       "    </tr>\n",
       "    <tr>\n",
       "      <th>min</th>\n",
       "      <td>120.000000</td>\n",
       "      <td>70.000000</td>\n",
       "      <td>33600.000000</td>\n",
       "      <td>1.000000e+00</td>\n",
       "      <td>1.000000e+00</td>\n",
       "      <td>1.000000e+00</td>\n",
       "      <td>1.000000</td>\n",
       "      <td>0.000000</td>\n",
       "      <td>0.210000</td>\n",
       "      <td>0.000000</td>\n",
       "      <td>0.000100</td>\n",
       "      <td>0.000000</td>\n",
       "      <td>0.000000</td>\n",
       "    </tr>\n",
       "    <tr>\n",
       "      <th>25%</th>\n",
       "      <td>120.000000</td>\n",
       "      <td>250.000000</td>\n",
       "      <td>72000.000000</td>\n",
       "      <td>3.367225e+04</td>\n",
       "      <td>1.828250e+04</td>\n",
       "      <td>7.990500e+03</td>\n",
       "      <td>710.000000</td>\n",
       "      <td>85.180000</td>\n",
       "      <td>0.330000</td>\n",
       "      <td>55.365375</td>\n",
       "      <td>0.002600</td>\n",
       "      <td>1.710000</td>\n",
       "      <td>0.090000</td>\n",
       "    </tr>\n",
       "    <tr>\n",
       "      <th>50%</th>\n",
       "      <td>300.000000</td>\n",
       "      <td>300.000000</td>\n",
       "      <td>72000.000000</td>\n",
       "      <td>4.837710e+05</td>\n",
       "      <td>2.580875e+05</td>\n",
       "      <td>2.252900e+05</td>\n",
       "      <td>4425.000000</td>\n",
       "      <td>1425.125000</td>\n",
       "      <td>0.350000</td>\n",
       "      <td>926.335000</td>\n",
       "      <td>0.082550</td>\n",
       "      <td>7.660000</td>\n",
       "      <td>0.160000</td>\n",
       "    </tr>\n",
       "    <tr>\n",
       "      <th>75%</th>\n",
       "      <td>720.000000</td>\n",
       "      <td>600.000000</td>\n",
       "      <td>84000.000000</td>\n",
       "      <td>2.527712e+06</td>\n",
       "      <td>1.180700e+06</td>\n",
       "      <td>1.112428e+06</td>\n",
       "      <td>12793.750000</td>\n",
       "      <td>3121.400000</td>\n",
       "      <td>0.350000</td>\n",
       "      <td>2091.338150</td>\n",
       "      <td>0.130000</td>\n",
       "      <td>12.510000</td>\n",
       "      <td>0.570000</td>\n",
       "    </tr>\n",
       "    <tr>\n",
       "      <th>max</th>\n",
       "      <td>728.000000</td>\n",
       "      <td>600.000000</td>\n",
       "      <td>216000.000000</td>\n",
       "      <td>2.759286e+07</td>\n",
       "      <td>1.470202e+07</td>\n",
       "      <td>1.419477e+07</td>\n",
       "      <td>143049.000000</td>\n",
       "      <td>26931.870000</td>\n",
       "      <td>0.350000</td>\n",
       "      <td>21276.180000</td>\n",
       "      <td>1.000000</td>\n",
       "      <td>81.560000</td>\n",
       "      <td>7.260000</td>\n",
       "    </tr>\n",
       "  </tbody>\n",
       "</table>\n",
       "</div>"
      ],
      "text/plain": [
       "        Ad - Length     Ad- Width        Ad Size  Available_Impressions  \\\n",
       "count  23066.000000  23066.000000   23066.000000           2.306600e+04   \n",
       "mean     385.163097    337.896037   96674.468048           2.432044e+06   \n",
       "std      233.651434    203.092885   61538.329557           4.742888e+06   \n",
       "min      120.000000     70.000000   33600.000000           1.000000e+00   \n",
       "25%      120.000000    250.000000   72000.000000           3.367225e+04   \n",
       "50%      300.000000    300.000000   72000.000000           4.837710e+05   \n",
       "75%      720.000000    600.000000   84000.000000           2.527712e+06   \n",
       "max      728.000000    600.000000  216000.000000           2.759286e+07   \n",
       "\n",
       "       Matched_Queries   Impressions         Clicks         Spend  \\\n",
       "count     2.306600e+04  2.306600e+04   23066.000000  23066.000000   \n",
       "mean      1.295099e+06  1.241520e+06   10678.518816   2706.625689   \n",
       "std       2.512970e+06  2.429400e+06   17353.409363   4067.927273   \n",
       "min       1.000000e+00  1.000000e+00       1.000000      0.000000   \n",
       "25%       1.828250e+04  7.990500e+03     710.000000     85.180000   \n",
       "50%       2.580875e+05  2.252900e+05    4425.000000   1425.125000   \n",
       "75%       1.180700e+06  1.112428e+06   12793.750000   3121.400000   \n",
       "max       1.470202e+07  1.419477e+07  143049.000000  26931.870000   \n",
       "\n",
       "                Fee       Revenue           CTR           CPM           CPC  \n",
       "count  23066.000000  23066.000000  18330.000000  18330.000000  18330.000000  \n",
       "mean       0.335123   1924.252331      0.073661      7.672045      0.351061  \n",
       "std        0.031963   3105.238410      0.075160      6.481391      0.343334  \n",
       "min        0.210000      0.000000      0.000100      0.000000      0.000000  \n",
       "25%        0.330000     55.365375      0.002600      1.710000      0.090000  \n",
       "50%        0.350000    926.335000      0.082550      7.660000      0.160000  \n",
       "75%        0.350000   2091.338150      0.130000     12.510000      0.570000  \n",
       "max        0.350000  21276.180000      1.000000     81.560000      7.260000  "
      ]
     },
     "execution_count": 8,
     "metadata": {},
     "output_type": "execute_result"
    }
   ],
   "source": [
    "df_sel.describe()"
   ]
  },
  {
   "cell_type": "code",
   "execution_count": 9,
   "id": "daefc6f2",
   "metadata": {},
   "outputs": [
    {
     "data": {
      "text/html": [
       "<div>\n",
       "<style scoped>\n",
       "    .dataframe tbody tr th:only-of-type {\n",
       "        vertical-align: middle;\n",
       "    }\n",
       "\n",
       "    .dataframe tbody tr th {\n",
       "        vertical-align: top;\n",
       "    }\n",
       "\n",
       "    .dataframe thead th {\n",
       "        text-align: right;\n",
       "    }\n",
       "</style>\n",
       "<table border=\"1\" class=\"dataframe\">\n",
       "  <thead>\n",
       "    <tr style=\"text-align: right;\">\n",
       "      <th></th>\n",
       "      <th>Ad - Length</th>\n",
       "      <th>Ad- Width</th>\n",
       "      <th>Ad Size</th>\n",
       "      <th>Available_Impressions</th>\n",
       "      <th>Matched_Queries</th>\n",
       "      <th>Impressions</th>\n",
       "      <th>Clicks</th>\n",
       "      <th>Spend</th>\n",
       "      <th>Fee</th>\n",
       "      <th>Revenue</th>\n",
       "      <th>CTR</th>\n",
       "      <th>CPM</th>\n",
       "      <th>CPC</th>\n",
       "    </tr>\n",
       "  </thead>\n",
       "  <tbody>\n",
       "    <tr>\n",
       "      <th>5</th>\n",
       "      <td>300</td>\n",
       "      <td>250</td>\n",
       "      <td>75000</td>\n",
       "      <td>490</td>\n",
       "      <td>64</td>\n",
       "      <td>64</td>\n",
       "      <td>2</td>\n",
       "      <td>0.00</td>\n",
       "      <td>0.35</td>\n",
       "      <td>0.0000</td>\n",
       "      <td>0.0313</td>\n",
       "      <td>0.01</td>\n",
       "      <td>0.00</td>\n",
       "    </tr>\n",
       "    <tr>\n",
       "      <th>6</th>\n",
       "      <td>300</td>\n",
       "      <td>250</td>\n",
       "      <td>75000</td>\n",
       "      <td>1197</td>\n",
       "      <td>202</td>\n",
       "      <td>202</td>\n",
       "      <td>1</td>\n",
       "      <td>0.01</td>\n",
       "      <td>0.35</td>\n",
       "      <td>0.0000</td>\n",
       "      <td>0.0050</td>\n",
       "      <td>0.03</td>\n",
       "      <td>0.01</td>\n",
       "    </tr>\n",
       "    <tr>\n",
       "      <th>8</th>\n",
       "      <td>300</td>\n",
       "      <td>250</td>\n",
       "      <td>75000</td>\n",
       "      <td>1402</td>\n",
       "      <td>137</td>\n",
       "      <td>136</td>\n",
       "      <td>1</td>\n",
       "      <td>0.00</td>\n",
       "      <td>0.35</td>\n",
       "      <td>0.0000</td>\n",
       "      <td>0.0074</td>\n",
       "      <td>0.02</td>\n",
       "      <td>0.00</td>\n",
       "    </tr>\n",
       "    <tr>\n",
       "      <th>20</th>\n",
       "      <td>300</td>\n",
       "      <td>250</td>\n",
       "      <td>75000</td>\n",
       "      <td>2203</td>\n",
       "      <td>345</td>\n",
       "      <td>343</td>\n",
       "      <td>1</td>\n",
       "      <td>0.00</td>\n",
       "      <td>0.35</td>\n",
       "      <td>0.0000</td>\n",
       "      <td>0.0029</td>\n",
       "      <td>0.01</td>\n",
       "      <td>0.00</td>\n",
       "    </tr>\n",
       "    <tr>\n",
       "      <th>31</th>\n",
       "      <td>336</td>\n",
       "      <td>250</td>\n",
       "      <td>84000</td>\n",
       "      <td>1804</td>\n",
       "      <td>352</td>\n",
       "      <td>343</td>\n",
       "      <td>1</td>\n",
       "      <td>0.00</td>\n",
       "      <td>0.35</td>\n",
       "      <td>0.0000</td>\n",
       "      <td>0.0029</td>\n",
       "      <td>0.01</td>\n",
       "      <td>0.00</td>\n",
       "    </tr>\n",
       "    <tr>\n",
       "      <th>...</th>\n",
       "      <td>...</td>\n",
       "      <td>...</td>\n",
       "      <td>...</td>\n",
       "      <td>...</td>\n",
       "      <td>...</td>\n",
       "      <td>...</td>\n",
       "      <td>...</td>\n",
       "      <td>...</td>\n",
       "      <td>...</td>\n",
       "      <td>...</td>\n",
       "      <td>...</td>\n",
       "      <td>...</td>\n",
       "      <td>...</td>\n",
       "    </tr>\n",
       "    <tr>\n",
       "      <th>18354</th>\n",
       "      <td>336</td>\n",
       "      <td>250</td>\n",
       "      <td>84000</td>\n",
       "      <td>80771</td>\n",
       "      <td>45701</td>\n",
       "      <td>39115</td>\n",
       "      <td>5346</td>\n",
       "      <td>481.59</td>\n",
       "      <td>0.35</td>\n",
       "      <td>313.0335</td>\n",
       "      <td>0.1367</td>\n",
       "      <td>12.31</td>\n",
       "      <td>0.09</td>\n",
       "    </tr>\n",
       "    <tr>\n",
       "      <th>18355</th>\n",
       "      <td>720</td>\n",
       "      <td>300</td>\n",
       "      <td>216000</td>\n",
       "      <td>505442</td>\n",
       "      <td>196734</td>\n",
       "      <td>169895</td>\n",
       "      <td>25169</td>\n",
       "      <td>1491.26</td>\n",
       "      <td>0.35</td>\n",
       "      <td>969.3190</td>\n",
       "      <td>0.1481</td>\n",
       "      <td>8.78</td>\n",
       "      <td>0.06</td>\n",
       "    </tr>\n",
       "    <tr>\n",
       "      <th>18356</th>\n",
       "      <td>336</td>\n",
       "      <td>250</td>\n",
       "      <td>84000</td>\n",
       "      <td>169677</td>\n",
       "      <td>99969</td>\n",
       "      <td>84664</td>\n",
       "      <td>15807</td>\n",
       "      <td>794.39</td>\n",
       "      <td>0.35</td>\n",
       "      <td>516.3535</td>\n",
       "      <td>0.1867</td>\n",
       "      <td>9.38</td>\n",
       "      <td>0.05</td>\n",
       "    </tr>\n",
       "    <tr>\n",
       "      <th>18357</th>\n",
       "      <td>300</td>\n",
       "      <td>250</td>\n",
       "      <td>75000</td>\n",
       "      <td>3955744</td>\n",
       "      <td>2028909</td>\n",
       "      <td>2002900</td>\n",
       "      <td>5062</td>\n",
       "      <td>3586.57</td>\n",
       "      <td>0.33</td>\n",
       "      <td>2403.0019</td>\n",
       "      <td>0.0025</td>\n",
       "      <td>1.79</td>\n",
       "      <td>0.71</td>\n",
       "    </tr>\n",
       "    <tr>\n",
       "      <th>18358</th>\n",
       "      <td>336</td>\n",
       "      <td>250</td>\n",
       "      <td>84000</td>\n",
       "      <td>2503645</td>\n",
       "      <td>1054558</td>\n",
       "      <td>989967</td>\n",
       "      <td>4139</td>\n",
       "      <td>1777.90</td>\n",
       "      <td>0.35</td>\n",
       "      <td>1155.6350</td>\n",
       "      <td>0.0042</td>\n",
       "      <td>1.80</td>\n",
       "      <td>0.43</td>\n",
       "    </tr>\n",
       "  </tbody>\n",
       "</table>\n",
       "<p>18270 rows × 13 columns</p>\n",
       "</div>"
      ],
      "text/plain": [
       "       Ad - Length  Ad- Width  Ad Size  Available_Impressions  \\\n",
       "5              300        250    75000                    490   \n",
       "6              300        250    75000                   1197   \n",
       "8              300        250    75000                   1402   \n",
       "20             300        250    75000                   2203   \n",
       "31             336        250    84000                   1804   \n",
       "...            ...        ...      ...                    ...   \n",
       "18354          336        250    84000                  80771   \n",
       "18355          720        300   216000                 505442   \n",
       "18356          336        250    84000                 169677   \n",
       "18357          300        250    75000                3955744   \n",
       "18358          336        250    84000                2503645   \n",
       "\n",
       "       Matched_Queries  Impressions  Clicks    Spend   Fee    Revenue     CTR  \\\n",
       "5                   64           64       2     0.00  0.35     0.0000  0.0313   \n",
       "6                  202          202       1     0.01  0.35     0.0000  0.0050   \n",
       "8                  137          136       1     0.00  0.35     0.0000  0.0074   \n",
       "20                 345          343       1     0.00  0.35     0.0000  0.0029   \n",
       "31                 352          343       1     0.00  0.35     0.0000  0.0029   \n",
       "...                ...          ...     ...      ...   ...        ...     ...   \n",
       "18354            45701        39115    5346   481.59  0.35   313.0335  0.1367   \n",
       "18355           196734       169895   25169  1491.26  0.35   969.3190  0.1481   \n",
       "18356            99969        84664   15807   794.39  0.35   516.3535  0.1867   \n",
       "18357          2028909      2002900    5062  3586.57  0.33  2403.0019  0.0025   \n",
       "18358          1054558       989967    4139  1777.90  0.35  1155.6350  0.0042   \n",
       "\n",
       "         CPM   CPC  \n",
       "5       0.01  0.00  \n",
       "6       0.03  0.01  \n",
       "8       0.02  0.00  \n",
       "20      0.01  0.00  \n",
       "31      0.01  0.00  \n",
       "...      ...   ...  \n",
       "18354  12.31  0.09  \n",
       "18355   8.78  0.06  \n",
       "18356   9.38  0.05  \n",
       "18357   1.79  0.71  \n",
       "18358   1.80  0.43  \n",
       "\n",
       "[18270 rows x 13 columns]"
      ]
     },
     "execution_count": 9,
     "metadata": {},
     "output_type": "execute_result"
    }
   ],
   "source": [
    "df_sel[df_sel['CPM']>0]"
   ]
  },
  {
   "cell_type": "code",
   "execution_count": 10,
   "id": "98d58ba7",
   "metadata": {},
   "outputs": [
    {
     "data": {
      "text/plain": [
       "12.312156461715453"
      ]
     },
     "execution_count": 10,
     "metadata": {},
     "output_type": "execute_result"
    }
   ],
   "source": [
    "(481.59/39115)*1000"
   ]
  },
  {
   "cell_type": "code",
   "execution_count": 11,
   "id": "a069bc16",
   "metadata": {},
   "outputs": [],
   "source": [
    "df_sel['CTR'] = np.where(df_sel['CTR'].isnull(), round(df_sel['Clicks']/df_sel['Impressions'],4),df_sel['CTR'])\n",
    "df_sel['CPM'] = np.where(df_sel['CPM'].isnull(), round((df_sel['Spend']/df_sel['Impressions'])*1000,2),df_sel['CPM'])\n",
    "df_sel['CPC'] = np.where(df_sel['CPC'].isnull(), round(df_sel['Spend']/df_sel['Clicks'],2),df_sel['CPC'])"
   ]
  },
  {
   "cell_type": "code",
   "execution_count": 12,
   "id": "9c5f38e5",
   "metadata": {},
   "outputs": [
    {
     "name": "stdout",
     "output_type": "stream",
     "text": [
      "<class 'pandas.core.frame.DataFrame'>\n",
      "RangeIndex: 23066 entries, 0 to 23065\n",
      "Data columns (total 13 columns):\n",
      " #   Column                 Non-Null Count  Dtype  \n",
      "---  ------                 --------------  -----  \n",
      " 0   Ad - Length            23066 non-null  int64  \n",
      " 1   Ad- Width              23066 non-null  int64  \n",
      " 2   Ad Size                23066 non-null  int64  \n",
      " 3   Available_Impressions  23066 non-null  int64  \n",
      " 4   Matched_Queries        23066 non-null  int64  \n",
      " 5   Impressions            23066 non-null  int64  \n",
      " 6   Clicks                 23066 non-null  int64  \n",
      " 7   Spend                  23066 non-null  float64\n",
      " 8   Fee                    23066 non-null  float64\n",
      " 9   Revenue                23066 non-null  float64\n",
      " 10  CTR                    23066 non-null  float64\n",
      " 11  CPM                    23066 non-null  float64\n",
      " 12  CPC                    23066 non-null  float64\n",
      "dtypes: float64(6), int64(7)\n",
      "memory usage: 2.3 MB\n"
     ]
    }
   ],
   "source": [
    "df_sel.info()"
   ]
  },
  {
   "cell_type": "code",
   "execution_count": 13,
   "id": "24bd2d76",
   "metadata": {},
   "outputs": [
    {
     "data": {
      "image/png": "[encoded data removed]",
      "text/plain": [
       "<Figure size 1080x1080 with 13 Axes>"
      ]
     },
     "metadata": {
      "needs_background": "light"
     },
     "output_type": "display_data"
    }
   ],
   "source": [
    "plt.figure(figsize=(15,15))\n",
    "for i,j in enumerate(df_sel.columns):\n",
    "    plt.subplot(4,4,i+1)\n",
    "    sns.boxplot(x=df_sel[j])"
   ]
  },
  {
   "cell_type": "code",
   "execution_count": 14,
   "id": "da96f309",
   "metadata": {},
   "outputs": [
    {
     "name": "stdout",
     "output_type": "stream",
     "text": [
      "0\n",
      "0\n",
      "0\n",
      "0\n",
      "3540\n",
      "4908\n",
      "0\n",
      "2378\n",
      "0\n",
      "3192\n",
      "0\n",
      "3269\n",
      "0\n",
      "1691\n",
      "0\n",
      "2081\n",
      "3517\n",
      "0\n",
      "0\n",
      "2325\n",
      "0\n",
      "34\n",
      "0\n",
      "25\n",
      "0\n",
      "479\n"
     ]
    }
   ],
   "source": [
    "for i in df_sel.columns:\n",
    "    low = df_sel[i].quantile(0.25)\n",
    "    high = df_sel[i].quantile(0.75)\n",
    "    iqr = high-low\n",
    "    low = low-(iqr*1.5)\n",
    "    high = high + (iqr*1.5)\n",
    "    print(sum(df[i]<low))\n",
    "    print(sum(df[i]>high))"
   ]
  },
  {
   "cell_type": "code",
   "execution_count": 15,
   "id": "2003d21f",
   "metadata": {},
   "outputs": [
    {
     "data": {
      "text/plain": [
       "(23066, 13)"
      ]
     },
     "execution_count": 15,
     "metadata": {},
     "output_type": "execute_result"
    }
   ],
   "source": [
    "df_sel.shape"
   ]
  },
  {
   "cell_type": "code",
   "execution_count": 16,
   "id": "25dec2ff",
   "metadata": {},
   "outputs": [],
   "source": [
    "df_scaled = df_sel.apply(zscore)"
   ]
  },
  {
   "cell_type": "code",
   "execution_count": 17,
   "id": "4454ca57",
   "metadata": {},
   "outputs": [
    {
     "data": {
      "text/html": [
       "<div>\n",
       "<style scoped>\n",
       "    .dataframe tbody tr th:only-of-type {\n",
       "        vertical-align: middle;\n",
       "    }\n",
       "\n",
       "    .dataframe tbody tr th {\n",
       "        vertical-align: top;\n",
       "    }\n",
       "\n",
       "    .dataframe thead th {\n",
       "        text-align: right;\n",
       "    }\n",
       "</style>\n",
       "<table border=\"1\" class=\"dataframe\">\n",
       "  <thead>\n",
       "    <tr style=\"text-align: right;\">\n",
       "      <th></th>\n",
       "      <th>Ad - Length</th>\n",
       "      <th>Ad- Width</th>\n",
       "      <th>Ad Size</th>\n",
       "      <th>Available_Impressions</th>\n",
       "      <th>Matched_Queries</th>\n",
       "      <th>Impressions</th>\n",
       "      <th>Clicks</th>\n",
       "      <th>Spend</th>\n",
       "      <th>Fee</th>\n",
       "      <th>Revenue</th>\n",
       "      <th>CTR</th>\n",
       "      <th>CPM</th>\n",
       "      <th>CPC</th>\n",
       "    </tr>\n",
       "  </thead>\n",
       "  <tbody>\n",
       "    <tr>\n",
       "      <th>count</th>\n",
       "      <td>2.306600e+04</td>\n",
       "      <td>2.306600e+04</td>\n",
       "      <td>2.306600e+04</td>\n",
       "      <td>2.306600e+04</td>\n",
       "      <td>2.306600e+04</td>\n",
       "      <td>2.306600e+04</td>\n",
       "      <td>2.306600e+04</td>\n",
       "      <td>2.306600e+04</td>\n",
       "      <td>2.306600e+04</td>\n",
       "      <td>2.306600e+04</td>\n",
       "      <td>2.306600e+04</td>\n",
       "      <td>2.306600e+04</td>\n",
       "      <td>2.306600e+04</td>\n",
       "    </tr>\n",
       "    <tr>\n",
       "      <th>mean</th>\n",
       "      <td>1.281478e-16</td>\n",
       "      <td>-1.182903e-16</td>\n",
       "      <td>2.464381e-17</td>\n",
       "      <td>-1.971505e-17</td>\n",
       "      <td>-5.914515e-17</td>\n",
       "      <td>-1.971505e-17</td>\n",
       "      <td>-3.943010e-17</td>\n",
       "      <td>-3.943010e-17</td>\n",
       "      <td>6.703117e-16</td>\n",
       "      <td>7.886020e-17</td>\n",
       "      <td>-9.857525e-17</td>\n",
       "      <td>-5.914515e-17</td>\n",
       "      <td>-9.364649e-17</td>\n",
       "    </tr>\n",
       "    <tr>\n",
       "      <th>std</th>\n",
       "      <td>1.000022e+00</td>\n",
       "      <td>1.000022e+00</td>\n",
       "      <td>1.000022e+00</td>\n",
       "      <td>1.000022e+00</td>\n",
       "      <td>1.000022e+00</td>\n",
       "      <td>1.000022e+00</td>\n",
       "      <td>1.000022e+00</td>\n",
       "      <td>1.000022e+00</td>\n",
       "      <td>1.000022e+00</td>\n",
       "      <td>1.000022e+00</td>\n",
       "      <td>1.000022e+00</td>\n",
       "      <td>1.000022e+00</td>\n",
       "      <td>1.000022e+00</td>\n",
       "    </tr>\n",
       "    <tr>\n",
       "      <th>min</th>\n",
       "      <td>-1.134891e+00</td>\n",
       "      <td>-1.319110e+00</td>\n",
       "      <td>-1.024985e+00</td>\n",
       "      <td>-5.127879e-01</td>\n",
       "      <td>-5.153767e-01</td>\n",
       "      <td>-5.110502e-01</td>\n",
       "      <td>-6.153114e-01</td>\n",
       "      <td>-6.653719e-01</td>\n",
       "      <td>-3.914682e+00</td>\n",
       "      <td>-6.196929e-01</td>\n",
       "      <td>-9.069414e-01</td>\n",
       "      <td>-9.271098e-01</td>\n",
       "      <td>-9.865308e-01</td>\n",
       "    </tr>\n",
       "    <tr>\n",
       "      <th>25%</th>\n",
       "      <td>-1.134891e+00</td>\n",
       "      <td>-4.327968e-01</td>\n",
       "      <td>-4.009697e-01</td>\n",
       "      <td>-5.056884e-01</td>\n",
       "      <td>-5.081017e-01</td>\n",
       "      <td>-5.077615e-01</td>\n",
       "      <td>-5.744540e-01</td>\n",
       "      <td>-6.444320e-01</td>\n",
       "      <td>-1.602853e-01</td>\n",
       "      <td>-6.018628e-01</td>\n",
       "      <td>-8.788693e-01</td>\n",
       "      <td>-7.338866e-01</td>\n",
       "      <td>-7.227788e-01</td>\n",
       "    </tr>\n",
       "    <tr>\n",
       "      <th>50%</th>\n",
       "      <td>-3.644957e-01</td>\n",
       "      <td>-1.865987e-01</td>\n",
       "      <td>-4.009697e-01</td>\n",
       "      <td>-4.107866e-01</td>\n",
       "      <td>-4.126727e-01</td>\n",
       "      <td>-4.183138e-01</td>\n",
       "      <td>-3.603704e-01</td>\n",
       "      <td>-3.150323e-01</td>\n",
       "      <td>4.654474e-01</td>\n",
       "      <td>-3.213727e-01</td>\n",
       "      <td>1.058166e-01</td>\n",
       "      <td>-2.950609e-03</td>\n",
       "      <td>-5.762499e-01</td>\n",
       "    </tr>\n",
       "    <tr>\n",
       "      <th>75%</th>\n",
       "      <td>1.433093e+00</td>\n",
       "      <td>1.290590e+00</td>\n",
       "      <td>-2.059650e-01</td>\n",
       "      <td>2.017129e-02</td>\n",
       "      <td>-4.552447e-02</td>\n",
       "      <td>-5.313815e-02</td>\n",
       "      <td>1.218940e-01</td>\n",
       "      <td>1.019643e-01</td>\n",
       "      <td>4.654474e-01</td>\n",
       "      <td>5.380889e-02</td>\n",
       "      <td>5.463339e-01</td>\n",
       "      <td>5.126794e-01</td>\n",
       "      <td>6.252869e-01</td>\n",
       "    </tr>\n",
       "    <tr>\n",
       "      <th>max</th>\n",
       "      <td>1.467332e+00</td>\n",
       "      <td>1.290590e+00</td>\n",
       "      <td>1.939086e+00</td>\n",
       "      <td>5.305072e+00</td>\n",
       "      <td>5.335208e+00</td>\n",
       "      <td>5.331990e+00</td>\n",
       "      <td>7.628089e+00</td>\n",
       "      <td>5.955310e+00</td>\n",
       "      <td>4.654474e-01</td>\n",
       "      <td>6.232161e+00</td>\n",
       "      <td>2.068597e+01</td>\n",
       "      <td>7.801839e+01</td>\n",
       "      <td>2.028946e+01</td>\n",
       "    </tr>\n",
       "  </tbody>\n",
       "</table>\n",
       "</div>"
      ],
      "text/plain": [
       "        Ad - Length     Ad- Width       Ad Size  Available_Impressions  \\\n",
       "count  2.306600e+04  2.306600e+04  2.306600e+04           2.306600e+04   \n",
       "mean   1.281478e-16 -1.182903e-16  2.464381e-17          -1.971505e-17   \n",
       "std    1.000022e+00  1.000022e+00  1.000022e+00           1.000022e+00   \n",
       "min   -1.134891e+00 -1.319110e+00 -1.024985e+00          -5.127879e-01   \n",
       "25%   -1.134891e+00 -4.327968e-01 -4.009697e-01          -5.056884e-01   \n",
       "50%   -3.644957e-01 -1.865987e-01 -4.009697e-01          -4.107866e-01   \n",
       "75%    1.433093e+00  1.290590e+00 -2.059650e-01           2.017129e-02   \n",
       "max    1.467332e+00  1.290590e+00  1.939086e+00           5.305072e+00   \n",
       "\n",
       "       Matched_Queries   Impressions        Clicks         Spend  \\\n",
       "count     2.306600e+04  2.306600e+04  2.306600e+04  2.306600e+04   \n",
       "mean     -5.914515e-17 -1.971505e-17 -3.943010e-17 -3.943010e-17   \n",
       "std       1.000022e+00  1.000022e+00  1.000022e+00  1.000022e+00   \n",
       "min      -5.153767e-01 -5.110502e-01 -6.153114e-01 -6.653719e-01   \n",
       "25%      -5.081017e-01 -5.077615e-01 -5.744540e-01 -6.444320e-01   \n",
       "50%      -4.126727e-01 -4.183138e-01 -3.603704e-01 -3.150323e-01   \n",
       "75%      -4.552447e-02 -5.313815e-02  1.218940e-01  1.019643e-01   \n",
       "max       5.335208e+00  5.331990e+00  7.628089e+00  5.955310e+00   \n",
       "\n",
       "                Fee       Revenue           CTR           CPM           CPC  \n",
       "count  2.306600e+04  2.306600e+04  2.306600e+04  2.306600e+04  2.306600e+04  \n",
       "mean   6.703117e-16  7.886020e-17 -9.857525e-17 -5.914515e-17 -9.364649e-17  \n",
       "std    1.000022e+00  1.000022e+00  1.000022e+00  1.000022e+00  1.000022e+00  \n",
       "min   -3.914682e+00 -6.196929e-01 -9.069414e-01 -9.271098e-01 -9.865308e-01  \n",
       "25%   -1.602853e-01 -6.018628e-01 -8.788693e-01 -7.338866e-01 -7.227788e-01  \n",
       "50%    4.654474e-01 -3.213727e-01  1.058166e-01 -2.950609e-03 -5.762499e-01  \n",
       "75%    4.654474e-01  5.380889e-02  5.463339e-01  5.126794e-01  6.252869e-01  \n",
       "max    4.654474e-01  6.232161e+00  2.068597e+01  7.801839e+01  2.028946e+01  "
      ]
     },
     "execution_count": 17,
     "metadata": {},
     "output_type": "execute_result"
    }
   ],
   "source": [
    "df_scaled.describe()"
   ]
  },
  {
   "cell_type": "code",
   "execution_count": 18,
   "id": "89d17c64",
   "metadata": {},
   "outputs": [
    {
     "data": {
      "text/plain": [
       "(23065, 4)"
      ]
     },
     "execution_count": 18,
     "metadata": {},
     "output_type": "execute_result"
    }
   ],
   "source": [
    "ward = linkage(df_sel,method='ward')\n",
    "ward.shape"
   ]
  },
  {
   "cell_type": "code",
   "execution_count": 19,
   "id": "a1c1672f",
   "metadata": {},
   "outputs": [
    {
     "data": {
      "text/plain": [
       "array([[2.27260000e+04, 2.29900000e+04, 0.00000000e+00, 2.00000000e+00],\n",
       "       [2.28670000e+04, 2.29750000e+04, 0.00000000e+00, 2.00000000e+00],\n",
       "       [2.24920000e+04, 2.30220000e+04, 0.00000000e+00, 2.00000000e+00],\n",
       "       ...,\n",
       "       [4.61210000e+04, 4.61250000e+04, 2.05971942e+08, 1.36500000e+03],\n",
       "       [4.61260000e+04, 4.61270000e+04, 4.59274514e+08, 2.17010000e+04],\n",
       "       [4.61280000e+04, 4.61290000e+04, 1.11701714e+09, 2.30660000e+04]])"
      ]
     },
     "execution_count": 19,
     "metadata": {},
     "output_type": "execute_result"
    }
   ],
   "source": [
    "ward"
   ]
  },
  {
   "cell_type": "code",
   "execution_count": 20,
   "id": "681009e6",
   "metadata": {},
   "outputs": [
    {
     "data": {
      "image/png": "[encoded data removed]",
      "text/plain": [
       "<Figure size 432x288 with 1 Axes>"
      ]
     },
     "metadata": {
      "needs_background": "light"
     },
     "output_type": "display_data"
    }
   ],
   "source": [
    "dend = dendrogram(ward, p=30,truncate_mode='lastp')"
   ]
  },
  {
   "cell_type": "code",
   "execution_count": 21,
   "id": "86981756",
   "metadata": {},
   "outputs": [],
   "source": [
    "df['cluster'] = fcluster(ward , 3, criterion='maxclust')"
   ]
  },
  {
   "cell_type": "code",
   "execution_count": 22,
   "id": "489b7edd",
   "metadata": {},
   "outputs": [],
   "source": [
    "df.to_csv('scaled.csv')"
   ]
  },
  {
   "cell_type": "code",
   "execution_count": 23,
   "id": "f66ecfd8",
   "metadata": {},
   "outputs": [
    {
     "data": {
      "text/html": [
       "<div>\n",
       "<style scoped>\n",
       "    .dataframe tbody tr th:only-of-type {\n",
       "        vertical-align: middle;\n",
       "    }\n",
       "\n",
       "    .dataframe tbody tr th {\n",
       "        vertical-align: top;\n",
       "    }\n",
       "\n",
       "    .dataframe thead th {\n",
       "        text-align: right;\n",
       "    }\n",
       "</style>\n",
       "<table border=\"1\" class=\"dataframe\">\n",
       "  <thead>\n",
       "    <tr style=\"text-align: right;\">\n",
       "      <th></th>\n",
       "      <th>Ad - Length</th>\n",
       "      <th>Ad- Width</th>\n",
       "      <th>Ad Size</th>\n",
       "      <th>Available_Impressions</th>\n",
       "      <th>Matched_Queries</th>\n",
       "      <th>Impressions</th>\n",
       "      <th>Clicks</th>\n",
       "      <th>Spend</th>\n",
       "      <th>Fee</th>\n",
       "      <th>Revenue</th>\n",
       "      <th>CTR</th>\n",
       "      <th>CPM</th>\n",
       "      <th>CPC</th>\n",
       "      <th>cluster</th>\n",
       "    </tr>\n",
       "  </thead>\n",
       "  <tbody>\n",
       "    <tr>\n",
       "      <th>count</th>\n",
       "      <td>1365.000000</td>\n",
       "      <td>1365.000000</td>\n",
       "      <td>1365.000000</td>\n",
       "      <td>1.365000e+03</td>\n",
       "      <td>1.365000e+03</td>\n",
       "      <td>1.365000e+03</td>\n",
       "      <td>1365.000000</td>\n",
       "      <td>1365.000000</td>\n",
       "      <td>1365.000000</td>\n",
       "      <td>1365.000000</td>\n",
       "      <td>1151.000000</td>\n",
       "      <td>1151.000000</td>\n",
       "      <td>1151.000000</td>\n",
       "      <td>1365.0</td>\n",
       "    </tr>\n",
       "    <tr>\n",
       "      <th>mean</th>\n",
       "      <td>670.361905</td>\n",
       "      <td>122.227106</td>\n",
       "      <td>70511.296703</td>\n",
       "      <td>1.915262e+07</td>\n",
       "      <td>1.012429e+07</td>\n",
       "      <td>9.754027e+06</td>\n",
       "      <td>18721.103297</td>\n",
       "      <td>16049.223670</td>\n",
       "      <td>0.237018</td>\n",
       "      <td>12310.057183</td>\n",
       "      <td>0.001927</td>\n",
       "      <td>1.644075</td>\n",
       "      <td>0.857672</td>\n",
       "      <td>1.0</td>\n",
       "    </tr>\n",
       "    <tr>\n",
       "      <th>std</th>\n",
       "      <td>141.812320</td>\n",
       "      <td>94.671951</td>\n",
       "      <td>19058.899181</td>\n",
       "      <td>4.129167e+06</td>\n",
       "      <td>2.012777e+06</td>\n",
       "      <td>1.946882e+06</td>\n",
       "      <td>3989.515666</td>\n",
       "      <td>3635.918353</td>\n",
       "      <td>0.019309</td>\n",
       "      <td>2988.106450</td>\n",
       "      <td>0.000200</td>\n",
       "      <td>0.250081</td>\n",
       "      <td>0.128665</td>\n",
       "      <td>0.0</td>\n",
       "    </tr>\n",
       "    <tr>\n",
       "      <th>min</th>\n",
       "      <td>300.000000</td>\n",
       "      <td>90.000000</td>\n",
       "      <td>65520.000000</td>\n",
       "      <td>1.035163e+07</td>\n",
       "      <td>4.224390e+06</td>\n",
       "      <td>4.154167e+06</td>\n",
       "      <td>9088.000000</td>\n",
       "      <td>3978.650000</td>\n",
       "      <td>0.210000</td>\n",
       "      <td>2665.690000</td>\n",
       "      <td>0.001400</td>\n",
       "      <td>0.930000</td>\n",
       "      <td>0.380000</td>\n",
       "      <td>1.0</td>\n",
       "    </tr>\n",
       "    <tr>\n",
       "      <th>25%</th>\n",
       "      <td>728.000000</td>\n",
       "      <td>90.000000</td>\n",
       "      <td>65520.000000</td>\n",
       "      <td>1.603851e+07</td>\n",
       "      <td>8.874883e+06</td>\n",
       "      <td>8.535893e+06</td>\n",
       "      <td>16419.000000</td>\n",
       "      <td>14144.050000</td>\n",
       "      <td>0.230000</td>\n",
       "      <td>10608.040000</td>\n",
       "      <td>0.001800</td>\n",
       "      <td>1.470000</td>\n",
       "      <td>0.790000</td>\n",
       "      <td>1.0</td>\n",
       "    </tr>\n",
       "    <tr>\n",
       "      <th>50%</th>\n",
       "      <td>728.000000</td>\n",
       "      <td>90.000000</td>\n",
       "      <td>65520.000000</td>\n",
       "      <td>1.950637e+07</td>\n",
       "      <td>1.047592e+07</td>\n",
       "      <td>1.006484e+07</td>\n",
       "      <td>19388.000000</td>\n",
       "      <td>16410.630000</td>\n",
       "      <td>0.230000</td>\n",
       "      <td>12636.185100</td>\n",
       "      <td>0.001900</td>\n",
       "      <td>1.640000</td>\n",
       "      <td>0.840000</td>\n",
       "      <td>1.0</td>\n",
       "    </tr>\n",
       "    <tr>\n",
       "      <th>75%</th>\n",
       "      <td>728.000000</td>\n",
       "      <td>90.000000</td>\n",
       "      <td>65520.000000</td>\n",
       "      <td>2.248436e+07</td>\n",
       "      <td>1.167975e+07</td>\n",
       "      <td>1.126495e+07</td>\n",
       "      <td>21535.000000</td>\n",
       "      <td>18648.180000</td>\n",
       "      <td>0.250000</td>\n",
       "      <td>14359.100000</td>\n",
       "      <td>0.002000</td>\n",
       "      <td>1.805000</td>\n",
       "      <td>0.910000</td>\n",
       "      <td>1.0</td>\n",
       "    </tr>\n",
       "    <tr>\n",
       "      <th>max</th>\n",
       "      <td>728.000000</td>\n",
       "      <td>600.000000</td>\n",
       "      <td>180000.000000</td>\n",
       "      <td>2.759286e+07</td>\n",
       "      <td>1.470202e+07</td>\n",
       "      <td>1.419477e+07</td>\n",
       "      <td>28734.000000</td>\n",
       "      <td>26931.870000</td>\n",
       "      <td>0.330000</td>\n",
       "      <td>21276.180000</td>\n",
       "      <td>0.002900</td>\n",
       "      <td>2.320000</td>\n",
       "      <td>1.340000</td>\n",
       "      <td>1.0</td>\n",
       "    </tr>\n",
       "  </tbody>\n",
       "</table>\n",
       "</div>"
      ],
      "text/plain": [
       "       Ad - Length    Ad- Width        Ad Size  Available_Impressions  \\\n",
       "count  1365.000000  1365.000000    1365.000000           1.365000e+03   \n",
       "mean    670.361905   122.227106   70511.296703           1.915262e+07   \n",
       "std     141.812320    94.671951   19058.899181           4.129167e+06   \n",
       "min     300.000000    90.000000   65520.000000           1.035163e+07   \n",
       "25%     728.000000    90.000000   65520.000000           1.603851e+07   \n",
       "50%     728.000000    90.000000   65520.000000           1.950637e+07   \n",
       "75%     728.000000    90.000000   65520.000000           2.248436e+07   \n",
       "max     728.000000   600.000000  180000.000000           2.759286e+07   \n",
       "\n",
       "       Matched_Queries   Impressions        Clicks         Spend          Fee  \\\n",
       "count     1.365000e+03  1.365000e+03   1365.000000   1365.000000  1365.000000   \n",
       "mean      1.012429e+07  9.754027e+06  18721.103297  16049.223670     0.237018   \n",
       "std       2.012777e+06  1.946882e+06   3989.515666   3635.918353     0.019309   \n",
       "min       4.224390e+06  4.154167e+06   9088.000000   3978.650000     0.210000   \n",
       "25%       8.874883e+06  8.535893e+06  16419.000000  14144.050000     0.230000   \n",
       "50%       1.047592e+07  1.006484e+07  19388.000000  16410.630000     0.230000   \n",
       "75%       1.167975e+07  1.126495e+07  21535.000000  18648.180000     0.250000   \n",
       "max       1.470202e+07  1.419477e+07  28734.000000  26931.870000     0.330000   \n",
       "\n",
       "            Revenue          CTR          CPM          CPC  cluster  \n",
       "count   1365.000000  1151.000000  1151.000000  1151.000000   1365.0  \n",
       "mean   12310.057183     0.001927     1.644075     0.857672      1.0  \n",
       "std     2988.106450     0.000200     0.250081     0.128665      0.0  \n",
       "min     2665.690000     0.001400     0.930000     0.380000      1.0  \n",
       "25%    10608.040000     0.001800     1.470000     0.790000      1.0  \n",
       "50%    12636.185100     0.001900     1.640000     0.840000      1.0  \n",
       "75%    14359.100000     0.002000     1.805000     0.910000      1.0  \n",
       "max    21276.180000     0.002900     2.320000     1.340000      1.0  "
      ]
     },
     "execution_count": 23,
     "metadata": {},
     "output_type": "execute_result"
    }
   ],
   "source": [
    "df[df.cluster==1].describe()"
   ]
  },
  {
   "cell_type": "code",
   "execution_count": 24,
   "id": "b5611b9a",
   "metadata": {},
   "outputs": [
    {
     "data": {
      "text/html": [
       "<div>\n",
       "<style scoped>\n",
       "    .dataframe tbody tr th:only-of-type {\n",
       "        vertical-align: middle;\n",
       "    }\n",
       "\n",
       "    .dataframe tbody tr th {\n",
       "        vertical-align: top;\n",
       "    }\n",
       "\n",
       "    .dataframe thead th {\n",
       "        text-align: right;\n",
       "    }\n",
       "</style>\n",
       "<table border=\"1\" class=\"dataframe\">\n",
       "  <thead>\n",
       "    <tr style=\"text-align: right;\">\n",
       "      <th></th>\n",
       "      <th>Ad - Length</th>\n",
       "      <th>Ad- Width</th>\n",
       "      <th>Ad Size</th>\n",
       "      <th>Available_Impressions</th>\n",
       "      <th>Matched_Queries</th>\n",
       "      <th>Impressions</th>\n",
       "      <th>Clicks</th>\n",
       "      <th>Spend</th>\n",
       "      <th>Fee</th>\n",
       "      <th>Revenue</th>\n",
       "      <th>CTR</th>\n",
       "      <th>CPM</th>\n",
       "      <th>CPC</th>\n",
       "      <th>cluster</th>\n",
       "    </tr>\n",
       "  </thead>\n",
       "  <tbody>\n",
       "    <tr>\n",
       "      <th>count</th>\n",
       "      <td>2716.000000</td>\n",
       "      <td>2716.000000</td>\n",
       "      <td>2716.000000</td>\n",
       "      <td>2.716000e+03</td>\n",
       "      <td>2.716000e+03</td>\n",
       "      <td>2.716000e+03</td>\n",
       "      <td>2716.000000</td>\n",
       "      <td>2716.000000</td>\n",
       "      <td>2716.000000</td>\n",
       "      <td>2716.00000</td>\n",
       "      <td>2321.000000</td>\n",
       "      <td>2321.000000</td>\n",
       "      <td>2321.000000</td>\n",
       "      <td>2716.0</td>\n",
       "    </tr>\n",
       "    <tr>\n",
       "      <th>mean</th>\n",
       "      <td>360.319588</td>\n",
       "      <td>238.530928</td>\n",
       "      <td>77499.941090</td>\n",
       "      <td>5.935235e+06</td>\n",
       "      <td>3.334439e+06</td>\n",
       "      <td>3.253896e+06</td>\n",
       "      <td>7439.298233</td>\n",
       "      <td>4856.261138</td>\n",
       "      <td>0.318078</td>\n",
       "      <td>3336.38311</td>\n",
       "      <td>0.002298</td>\n",
       "      <td>1.517398</td>\n",
       "      <td>0.699978</td>\n",
       "      <td>2.0</td>\n",
       "    </tr>\n",
       "    <tr>\n",
       "      <th>std</th>\n",
       "      <td>144.610485</td>\n",
       "      <td>82.267225</td>\n",
       "      <td>18062.708904</td>\n",
       "      <td>1.613672e+06</td>\n",
       "      <td>8.714671e+05</td>\n",
       "      <td>8.440554e+05</td>\n",
       "      <td>2128.337973</td>\n",
       "      <td>1407.783734</td>\n",
       "      <td>0.019690</td>\n",
       "      <td>1094.14970</td>\n",
       "      <td>0.000407</td>\n",
       "      <td>0.309797</td>\n",
       "      <td>0.276371</td>\n",
       "      <td>0.0</td>\n",
       "    </tr>\n",
       "    <tr>\n",
       "      <th>min</th>\n",
       "      <td>300.000000</td>\n",
       "      <td>70.000000</td>\n",
       "      <td>33600.000000</td>\n",
       "      <td>3.120660e+06</td>\n",
       "      <td>1.811970e+06</td>\n",
       "      <td>1.771384e+06</td>\n",
       "      <td>2123.000000</td>\n",
       "      <td>2394.170000</td>\n",
       "      <td>0.250000</td>\n",
       "      <td>1556.21000</td>\n",
       "      <td>0.001000</td>\n",
       "      <td>0.850000</td>\n",
       "      <td>0.260000</td>\n",
       "      <td>2.0</td>\n",
       "    </tr>\n",
       "    <tr>\n",
       "      <th>25%</th>\n",
       "      <td>300.000000</td>\n",
       "      <td>250.000000</td>\n",
       "      <td>75000.000000</td>\n",
       "      <td>4.679952e+06</td>\n",
       "      <td>2.633024e+06</td>\n",
       "      <td>2.564995e+06</td>\n",
       "      <td>5955.750000</td>\n",
       "      <td>4050.025000</td>\n",
       "      <td>0.300000</td>\n",
       "      <td>2713.52000</td>\n",
       "      <td>0.002200</td>\n",
       "      <td>1.290000</td>\n",
       "      <td>0.540000</td>\n",
       "      <td>2.0</td>\n",
       "    </tr>\n",
       "    <tr>\n",
       "      <th>50%</th>\n",
       "      <td>300.000000</td>\n",
       "      <td>250.000000</td>\n",
       "      <td>75000.000000</td>\n",
       "      <td>5.640922e+06</td>\n",
       "      <td>3.315100e+06</td>\n",
       "      <td>3.242107e+06</td>\n",
       "      <td>7471.500000</td>\n",
       "      <td>4611.625000</td>\n",
       "      <td>0.330000</td>\n",
       "      <td>3089.78740</td>\n",
       "      <td>0.002400</td>\n",
       "      <td>1.500000</td>\n",
       "      <td>0.610000</td>\n",
       "      <td>2.0</td>\n",
       "    </tr>\n",
       "    <tr>\n",
       "      <th>75%</th>\n",
       "      <td>300.000000</td>\n",
       "      <td>250.000000</td>\n",
       "      <td>75000.000000</td>\n",
       "      <td>7.013278e+06</td>\n",
       "      <td>3.865880e+06</td>\n",
       "      <td>3.780063e+06</td>\n",
       "      <td>8903.500000</td>\n",
       "      <td>5232.415000</td>\n",
       "      <td>0.330000</td>\n",
       "      <td>3662.68750</td>\n",
       "      <td>0.002500</td>\n",
       "      <td>1.690000</td>\n",
       "      <td>0.720000</td>\n",
       "      <td>2.0</td>\n",
       "    </tr>\n",
       "    <tr>\n",
       "      <th>max</th>\n",
       "      <td>728.000000</td>\n",
       "      <td>600.000000</td>\n",
       "      <td>180000.000000</td>\n",
       "      <td>1.073357e+07</td>\n",
       "      <td>6.025607e+06</td>\n",
       "      <td>5.822450e+06</td>\n",
       "      <td>13902.000000</td>\n",
       "      <td>12919.740000</td>\n",
       "      <td>0.350000</td>\n",
       "      <td>9689.80000</td>\n",
       "      <td>0.006500</td>\n",
       "      <td>2.460000</td>\n",
       "      <td>1.840000</td>\n",
       "      <td>2.0</td>\n",
       "    </tr>\n",
       "  </tbody>\n",
       "</table>\n",
       "</div>"
      ],
      "text/plain": [
       "       Ad - Length    Ad- Width        Ad Size  Available_Impressions  \\\n",
       "count  2716.000000  2716.000000    2716.000000           2.716000e+03   \n",
       "mean    360.319588   238.530928   77499.941090           5.935235e+06   \n",
       "std     144.610485    82.267225   18062.708904           1.613672e+06   \n",
       "min     300.000000    70.000000   33600.000000           3.120660e+06   \n",
       "25%     300.000000   250.000000   75000.000000           4.679952e+06   \n",
       "50%     300.000000   250.000000   75000.000000           5.640922e+06   \n",
       "75%     300.000000   250.000000   75000.000000           7.013278e+06   \n",
       "max     728.000000   600.000000  180000.000000           1.073357e+07   \n",
       "\n",
       "       Matched_Queries   Impressions        Clicks         Spend          Fee  \\\n",
       "count     2.716000e+03  2.716000e+03   2716.000000   2716.000000  2716.000000   \n",
       "mean      3.334439e+06  3.253896e+06   7439.298233   4856.261138     0.318078   \n",
       "std       8.714671e+05  8.440554e+05   2128.337973   1407.783734     0.019690   \n",
       "min       1.811970e+06  1.771384e+06   2123.000000   2394.170000     0.250000   \n",
       "25%       2.633024e+06  2.564995e+06   5955.750000   4050.025000     0.300000   \n",
       "50%       3.315100e+06  3.242107e+06   7471.500000   4611.625000     0.330000   \n",
       "75%       3.865880e+06  3.780063e+06   8903.500000   5232.415000     0.330000   \n",
       "max       6.025607e+06  5.822450e+06  13902.000000  12919.740000     0.350000   \n",
       "\n",
       "          Revenue          CTR          CPM          CPC  cluster  \n",
       "count  2716.00000  2321.000000  2321.000000  2321.000000   2716.0  \n",
       "mean   3336.38311     0.002298     1.517398     0.699978      2.0  \n",
       "std    1094.14970     0.000407     0.309797     0.276371      0.0  \n",
       "min    1556.21000     0.001000     0.850000     0.260000      2.0  \n",
       "25%    2713.52000     0.002200     1.290000     0.540000      2.0  \n",
       "50%    3089.78740     0.002400     1.500000     0.610000      2.0  \n",
       "75%    3662.68750     0.002500     1.690000     0.720000      2.0  \n",
       "max    9689.80000     0.006500     2.460000     1.840000      2.0  "
      ]
     },
     "execution_count": 24,
     "metadata": {},
     "output_type": "execute_result"
    }
   ],
   "source": [
    "df[df.cluster==2].describe()"
   ]
  },
  {
   "cell_type": "code",
   "execution_count": 25,
   "id": "fc8f284d",
   "metadata": {},
   "outputs": [],
   "source": [
    "wss = []\n",
    "for i in range(1,11):\n",
    "    km = KMeans(n_clusters=i, random_state=0)\n",
    "    km.fit(df_scaled)\n",
    "    wss.append(km.inertia_)"
   ]
  },
  {
   "cell_type": "code",
   "execution_count": 26,
   "id": "d5705651",
   "metadata": {},
   "outputs": [
    {
     "data": {
      "text/plain": [
       "<AxesSubplot:>"
      ]
     },
     "execution_count": 26,
     "metadata": {},
     "output_type": "execute_result"
    },
    {
     "data": {
      "image/png": "[encoded data removed]",
      "text/plain": [
       "<Figure size 432x288 with 1 Axes>"
      ]
     },
     "metadata": {
      "needs_background": "light"
     },
     "output_type": "display_data"
    }
   ],
   "source": [
    "sns.lineplot(x=range(1,11), y = wss,markers=\"*\")"
   ]
  },
  {
   "cell_type": "code",
   "execution_count": 27,
   "id": "385b9e33",
   "metadata": {},
   "outputs": [
    {
     "data": {
      "text/plain": [
       "[299858.00000000023,\n",
       " 188279.25270762132,\n",
       " 130710.02856819822,\n",
       " 94684.06422740684,\n",
       " 66287.17999899405,\n",
       " 55262.17263699083,\n",
       " 49134.92716681172,\n",
       " 43849.63461638031,\n",
       " 38917.037859796124,\n",
       " 34825.27088587703]"
      ]
     },
     "execution_count": 27,
     "metadata": {},
     "output_type": "execute_result"
    }
   ],
   "source": [
    "wss"
   ]
  },
  {
   "cell_type": "code",
   "execution_count": 28,
   "id": "e98b9936",
   "metadata": {},
   "outputs": [
    {
     "data": {
      "text/plain": [
       "66287.17994990322"
      ]
     },
     "execution_count": 28,
     "metadata": {},
     "output_type": "execute_result"
    }
   ],
   "source": [
    "km = KMeans(n_clusters=5, random_state=5)\n",
    "km.fit(df_scaled)\n",
    "km.inertia_"
   ]
  },
  {
   "cell_type": "code",
   "execution_count": 29,
   "id": "4e29b382",
   "metadata": {},
   "outputs": [
    {
     "data": {
      "text/plain": [
       "array([0, 0, 0, ..., 3, 1, 3])"
      ]
     },
     "execution_count": 29,
     "metadata": {},
     "output_type": "execute_result"
    }
   ],
   "source": [
    "km.labels_"
   ]
  },
  {
   "cell_type": "code",
   "execution_count": 30,
   "id": "6ee3675e",
   "metadata": {},
   "outputs": [
    {
     "data": {
      "text/html": [
       "<div>\n",
       "<style scoped>\n",
       "    .dataframe tbody tr th:only-of-type {\n",
       "        vertical-align: middle;\n",
       "    }\n",
       "\n",
       "    .dataframe tbody tr th {\n",
       "        vertical-align: top;\n",
       "    }\n",
       "\n",
       "    .dataframe thead th {\n",
       "        text-align: right;\n",
       "    }\n",
       "</style>\n",
       "<table border=\"1\" class=\"dataframe\">\n",
       "  <thead>\n",
       "    <tr style=\"text-align: right;\">\n",
       "      <th></th>\n",
       "      <th>Timestamp</th>\n",
       "      <th>InventoryType</th>\n",
       "      <th>Ad - Length</th>\n",
       "      <th>Ad- Width</th>\n",
       "      <th>Ad Size</th>\n",
       "      <th>Ad Type</th>\n",
       "      <th>Platform</th>\n",
       "      <th>Device Type</th>\n",
       "      <th>Format</th>\n",
       "      <th>Available_Impressions</th>\n",
       "      <th>Matched_Queries</th>\n",
       "      <th>Impressions</th>\n",
       "      <th>Clicks</th>\n",
       "      <th>Spend</th>\n",
       "      <th>Fee</th>\n",
       "      <th>Revenue</th>\n",
       "      <th>CTR</th>\n",
       "      <th>CPM</th>\n",
       "      <th>CPC</th>\n",
       "      <th>cluster</th>\n",
       "    </tr>\n",
       "  </thead>\n",
       "  <tbody>\n",
       "    <tr>\n",
       "      <th>23061</th>\n",
       "      <td>2020-9-13-7</td>\n",
       "      <td>Format5</td>\n",
       "      <td>720</td>\n",
       "      <td>300</td>\n",
       "      <td>216000</td>\n",
       "      <td>Inter220</td>\n",
       "      <td>Web</td>\n",
       "      <td>Mobile</td>\n",
       "      <td>Video</td>\n",
       "      <td>1</td>\n",
       "      <td>1</td>\n",
       "      <td>1</td>\n",
       "      <td>1</td>\n",
       "      <td>0.07</td>\n",
       "      <td>0.35</td>\n",
       "      <td>0.0455</td>\n",
       "      <td>NaN</td>\n",
       "      <td>NaN</td>\n",
       "      <td>NaN</td>\n",
       "      <td>3</td>\n",
       "    </tr>\n",
       "    <tr>\n",
       "      <th>23062</th>\n",
       "      <td>2020-11-2-7</td>\n",
       "      <td>Format5</td>\n",
       "      <td>720</td>\n",
       "      <td>300</td>\n",
       "      <td>216000</td>\n",
       "      <td>Inter224</td>\n",
       "      <td>Web</td>\n",
       "      <td>Desktop</td>\n",
       "      <td>Video</td>\n",
       "      <td>3</td>\n",
       "      <td>2</td>\n",
       "      <td>2</td>\n",
       "      <td>1</td>\n",
       "      <td>0.04</td>\n",
       "      <td>0.35</td>\n",
       "      <td>0.0260</td>\n",
       "      <td>NaN</td>\n",
       "      <td>NaN</td>\n",
       "      <td>NaN</td>\n",
       "      <td>3</td>\n",
       "    </tr>\n",
       "    <tr>\n",
       "      <th>23063</th>\n",
       "      <td>2020-9-14-22</td>\n",
       "      <td>Format5</td>\n",
       "      <td>720</td>\n",
       "      <td>300</td>\n",
       "      <td>216000</td>\n",
       "      <td>Inter218</td>\n",
       "      <td>App</td>\n",
       "      <td>Mobile</td>\n",
       "      <td>Video</td>\n",
       "      <td>2</td>\n",
       "      <td>1</td>\n",
       "      <td>1</td>\n",
       "      <td>1</td>\n",
       "      <td>0.05</td>\n",
       "      <td>0.35</td>\n",
       "      <td>0.0325</td>\n",
       "      <td>NaN</td>\n",
       "      <td>NaN</td>\n",
       "      <td>NaN</td>\n",
       "      <td>3</td>\n",
       "    </tr>\n",
       "    <tr>\n",
       "      <th>23064</th>\n",
       "      <td>2020-11-18-2</td>\n",
       "      <td>Format4</td>\n",
       "      <td>120</td>\n",
       "      <td>600</td>\n",
       "      <td>72000</td>\n",
       "      <td>inter230</td>\n",
       "      <td>Video</td>\n",
       "      <td>Mobile</td>\n",
       "      <td>Video</td>\n",
       "      <td>7</td>\n",
       "      <td>1</td>\n",
       "      <td>1</td>\n",
       "      <td>1</td>\n",
       "      <td>0.07</td>\n",
       "      <td>0.35</td>\n",
       "      <td>0.0455</td>\n",
       "      <td>NaN</td>\n",
       "      <td>NaN</td>\n",
       "      <td>NaN</td>\n",
       "      <td>3</td>\n",
       "    </tr>\n",
       "    <tr>\n",
       "      <th>23065</th>\n",
       "      <td>2020-9-14-0</td>\n",
       "      <td>Format5</td>\n",
       "      <td>720</td>\n",
       "      <td>300</td>\n",
       "      <td>216000</td>\n",
       "      <td>Inter221</td>\n",
       "      <td>App</td>\n",
       "      <td>Mobile</td>\n",
       "      <td>Video</td>\n",
       "      <td>2</td>\n",
       "      <td>2</td>\n",
       "      <td>2</td>\n",
       "      <td>1</td>\n",
       "      <td>0.09</td>\n",
       "      <td>0.35</td>\n",
       "      <td>0.0585</td>\n",
       "      <td>NaN</td>\n",
       "      <td>NaN</td>\n",
       "      <td>NaN</td>\n",
       "      <td>3</td>\n",
       "    </tr>\n",
       "  </tbody>\n",
       "</table>\n",
       "</div>"
      ],
      "text/plain": [
       "          Timestamp InventoryType  Ad - Length  Ad- Width  Ad Size   Ad Type  \\\n",
       "23061   2020-9-13-7       Format5          720        300   216000  Inter220   \n",
       "23062   2020-11-2-7       Format5          720        300   216000  Inter224   \n",
       "23063  2020-9-14-22       Format5          720        300   216000  Inter218   \n",
       "23064  2020-11-18-2       Format4          120        600    72000  inter230   \n",
       "23065   2020-9-14-0       Format5          720        300   216000  Inter221   \n",
       "\n",
       "      Platform Device Type Format  Available_Impressions  Matched_Queries  \\\n",
       "23061      Web      Mobile  Video                      1                1   \n",
       "23062      Web     Desktop  Video                      3                2   \n",
       "23063      App      Mobile  Video                      2                1   \n",
       "23064    Video      Mobile  Video                      7                1   \n",
       "23065      App      Mobile  Video                      2                2   \n",
       "\n",
       "       Impressions  Clicks  Spend   Fee  Revenue  CTR  CPM  CPC  cluster  \n",
       "23061            1       1   0.07  0.35   0.0455  NaN  NaN  NaN        3  \n",
       "23062            2       1   0.04  0.35   0.0260  NaN  NaN  NaN        3  \n",
       "23063            1       1   0.05  0.35   0.0325  NaN  NaN  NaN        3  \n",
       "23064            1       1   0.07  0.35   0.0455  NaN  NaN  NaN        3  \n",
       "23065            2       1   0.09  0.35   0.0585  NaN  NaN  NaN        3  "
      ]
     },
     "execution_count": 30,
     "metadata": {},
     "output_type": "execute_result"
    }
   ],
   "source": [
    "df.tail()"
   ]
  },
  {
   "cell_type": "code",
   "execution_count": 31,
   "id": "2987b14e",
   "metadata": {},
   "outputs": [],
   "source": [
    "df['cluster'] = km.labels_"
   ]
  },
  {
   "cell_type": "code",
   "execution_count": 32,
   "id": "31003205",
   "metadata": {},
   "outputs": [],
   "source": [
    "df.to_csv('second.csv')"
   ]
  },
  {
   "cell_type": "code",
   "execution_count": 33,
   "id": "08ac240d",
   "metadata": {},
   "outputs": [],
   "source": [
    "from sklearn.metrics import silhouette_samples, silhouette_score"
   ]
  },
  {
   "cell_type": "code",
   "execution_count": 34,
   "id": "ff1cff5a",
   "metadata": {},
   "outputs": [
    {
     "data": {
      "text/plain": [
       "0.5571150450254707"
      ]
     },
     "execution_count": 34,
     "metadata": {},
     "output_type": "execute_result"
    }
   ],
   "source": [
    "silhouette_score(df_scaled, km.labels_)"
   ]
  },
  {
   "cell_type": "code",
   "execution_count": 35,
   "id": "54200f19",
   "metadata": {},
   "outputs": [],
   "source": [
    "scores = silhouette_samples(df_scaled, km.labels_)"
   ]
  },
  {
   "cell_type": "code",
   "execution_count": 36,
   "id": "582f724d",
   "metadata": {},
   "outputs": [
    {
     "data": {
      "text/plain": [
       "59"
      ]
     },
     "execution_count": 36,
     "metadata": {},
     "output_type": "execute_result"
    }
   ],
   "source": [
    "len(scores[scores<0])"
   ]
  },
  {
   "cell_type": "code",
   "execution_count": 37,
   "id": "26466a75",
   "metadata": {},
   "outputs": [],
   "source": [
    "clusters = fcluster(ward , 3, criterion='maxclust')"
   ]
  },
  {
   "cell_type": "code",
   "execution_count": 38,
   "id": "bab41494",
   "metadata": {},
   "outputs": [
    {
     "data": {
      "text/plain": [
       "0.2229255485602659"
      ]
     },
     "execution_count": 38,
     "metadata": {},
     "output_type": "execute_result"
    }
   ],
   "source": [
    "silhouette_score(df_scaled, clusters)"
   ]
  },
  {
   "cell_type": "code",
   "execution_count": 39,
   "id": "b704e0e3",
   "metadata": {},
   "outputs": [],
   "source": [
    "scores2 = silhouette_samples(df_scaled, clusters)"
   ]
  },
  {
   "cell_type": "code",
   "execution_count": 40,
   "id": "b9faf4f3",
   "metadata": {},
   "outputs": [
    {
     "data": {
      "text/plain": [
       "5788"
      ]
     },
     "execution_count": 40,
     "metadata": {},
     "output_type": "execute_result"
    }
   ],
   "source": [
    "len(scores2[scores2<0])"
   ]
  },
  {
   "cell_type": "code",
   "execution_count": 41,
   "id": "ec8e6e80",
   "metadata": {},
   "outputs": [
    {
     "data": {
      "text/html": [
       "<div>\n",
       "<style scoped>\n",
       "    .dataframe tbody tr th:only-of-type {\n",
       "        vertical-align: middle;\n",
       "    }\n",
       "\n",
       "    .dataframe tbody tr th {\n",
       "        vertical-align: top;\n",
       "    }\n",
       "\n",
       "    .dataframe thead th {\n",
       "        text-align: right;\n",
       "    }\n",
       "</style>\n",
       "<table border=\"1\" class=\"dataframe\">\n",
       "  <thead>\n",
       "    <tr style=\"text-align: right;\">\n",
       "      <th></th>\n",
       "      <th>Ad - Length</th>\n",
       "      <th>Ad- Width</th>\n",
       "      <th>Ad Size</th>\n",
       "      <th>Available_Impressions</th>\n",
       "      <th>Matched_Queries</th>\n",
       "      <th>Impressions</th>\n",
       "      <th>Clicks</th>\n",
       "      <th>Spend</th>\n",
       "      <th>Fee</th>\n",
       "      <th>Revenue</th>\n",
       "      <th>CTR</th>\n",
       "      <th>CPM</th>\n",
       "      <th>CPC</th>\n",
       "    </tr>\n",
       "  </thead>\n",
       "  <tbody>\n",
       "    <tr>\n",
       "      <th>count</th>\n",
       "      <td>2.306600e+04</td>\n",
       "      <td>2.306600e+04</td>\n",
       "      <td>2.306600e+04</td>\n",
       "      <td>2.306600e+04</td>\n",
       "      <td>2.306600e+04</td>\n",
       "      <td>2.306600e+04</td>\n",
       "      <td>2.306600e+04</td>\n",
       "      <td>2.306600e+04</td>\n",
       "      <td>2.306600e+04</td>\n",
       "      <td>2.306600e+04</td>\n",
       "      <td>2.306600e+04</td>\n",
       "      <td>2.306600e+04</td>\n",
       "      <td>2.306600e+04</td>\n",
       "    </tr>\n",
       "    <tr>\n",
       "      <th>mean</th>\n",
       "      <td>1.281478e-16</td>\n",
       "      <td>-1.182903e-16</td>\n",
       "      <td>2.464381e-17</td>\n",
       "      <td>-1.971505e-17</td>\n",
       "      <td>-5.914515e-17</td>\n",
       "      <td>-1.971505e-17</td>\n",
       "      <td>-3.943010e-17</td>\n",
       "      <td>-3.943010e-17</td>\n",
       "      <td>6.703117e-16</td>\n",
       "      <td>7.886020e-17</td>\n",
       "      <td>-9.857525e-17</td>\n",
       "      <td>-5.914515e-17</td>\n",
       "      <td>-9.364649e-17</td>\n",
       "    </tr>\n",
       "    <tr>\n",
       "      <th>std</th>\n",
       "      <td>1.000022e+00</td>\n",
       "      <td>1.000022e+00</td>\n",
       "      <td>1.000022e+00</td>\n",
       "      <td>1.000022e+00</td>\n",
       "      <td>1.000022e+00</td>\n",
       "      <td>1.000022e+00</td>\n",
       "      <td>1.000022e+00</td>\n",
       "      <td>1.000022e+00</td>\n",
       "      <td>1.000022e+00</td>\n",
       "      <td>1.000022e+00</td>\n",
       "      <td>1.000022e+00</td>\n",
       "      <td>1.000022e+00</td>\n",
       "      <td>1.000022e+00</td>\n",
       "    </tr>\n",
       "    <tr>\n",
       "      <th>min</th>\n",
       "      <td>-1.134891e+00</td>\n",
       "      <td>-1.319110e+00</td>\n",
       "      <td>-1.024985e+00</td>\n",
       "      <td>-5.127879e-01</td>\n",
       "      <td>-5.153767e-01</td>\n",
       "      <td>-5.110502e-01</td>\n",
       "      <td>-6.153114e-01</td>\n",
       "      <td>-6.653719e-01</td>\n",
       "      <td>-3.914682e+00</td>\n",
       "      <td>-6.196929e-01</td>\n",
       "      <td>-9.069414e-01</td>\n",
       "      <td>-9.271098e-01</td>\n",
       "      <td>-9.865308e-01</td>\n",
       "    </tr>\n",
       "    <tr>\n",
       "      <th>25%</th>\n",
       "      <td>-1.134891e+00</td>\n",
       "      <td>-4.327968e-01</td>\n",
       "      <td>-4.009697e-01</td>\n",
       "      <td>-5.056884e-01</td>\n",
       "      <td>-5.081017e-01</td>\n",
       "      <td>-5.077615e-01</td>\n",
       "      <td>-5.744540e-01</td>\n",
       "      <td>-6.444320e-01</td>\n",
       "      <td>-1.602853e-01</td>\n",
       "      <td>-6.018628e-01</td>\n",
       "      <td>-8.788693e-01</td>\n",
       "      <td>-7.338866e-01</td>\n",
       "      <td>-7.227788e-01</td>\n",
       "    </tr>\n",
       "    <tr>\n",
       "      <th>50%</th>\n",
       "      <td>-3.644957e-01</td>\n",
       "      <td>-1.865987e-01</td>\n",
       "      <td>-4.009697e-01</td>\n",
       "      <td>-4.107866e-01</td>\n",
       "      <td>-4.126727e-01</td>\n",
       "      <td>-4.183138e-01</td>\n",
       "      <td>-3.603704e-01</td>\n",
       "      <td>-3.150323e-01</td>\n",
       "      <td>4.654474e-01</td>\n",
       "      <td>-3.213727e-01</td>\n",
       "      <td>1.058166e-01</td>\n",
       "      <td>-2.950609e-03</td>\n",
       "      <td>-5.762499e-01</td>\n",
       "    </tr>\n",
       "    <tr>\n",
       "      <th>75%</th>\n",
       "      <td>1.433093e+00</td>\n",
       "      <td>1.290590e+00</td>\n",
       "      <td>-2.059650e-01</td>\n",
       "      <td>2.017129e-02</td>\n",
       "      <td>-4.552447e-02</td>\n",
       "      <td>-5.313815e-02</td>\n",
       "      <td>1.218940e-01</td>\n",
       "      <td>1.019643e-01</td>\n",
       "      <td>4.654474e-01</td>\n",
       "      <td>5.380889e-02</td>\n",
       "      <td>5.463339e-01</td>\n",
       "      <td>5.126794e-01</td>\n",
       "      <td>6.252869e-01</td>\n",
       "    </tr>\n",
       "    <tr>\n",
       "      <th>max</th>\n",
       "      <td>1.467332e+00</td>\n",
       "      <td>1.290590e+00</td>\n",
       "      <td>1.939086e+00</td>\n",
       "      <td>5.305072e+00</td>\n",
       "      <td>5.335208e+00</td>\n",
       "      <td>5.331990e+00</td>\n",
       "      <td>7.628089e+00</td>\n",
       "      <td>5.955310e+00</td>\n",
       "      <td>4.654474e-01</td>\n",
       "      <td>6.232161e+00</td>\n",
       "      <td>2.068597e+01</td>\n",
       "      <td>7.801839e+01</td>\n",
       "      <td>2.028946e+01</td>\n",
       "    </tr>\n",
       "  </tbody>\n",
       "</table>\n",
       "</div>"
      ],
      "text/plain": [
       "        Ad - Length     Ad- Width       Ad Size  Available_Impressions  \\\n",
       "count  2.306600e+04  2.306600e+04  2.306600e+04           2.306600e+04   \n",
       "mean   1.281478e-16 -1.182903e-16  2.464381e-17          -1.971505e-17   \n",
       "std    1.000022e+00  1.000022e+00  1.000022e+00           1.000022e+00   \n",
       "min   -1.134891e+00 -1.319110e+00 -1.024985e+00          -5.127879e-01   \n",
       "25%   -1.134891e+00 -4.327968e-01 -4.009697e-01          -5.056884e-01   \n",
       "50%   -3.644957e-01 -1.865987e-01 -4.009697e-01          -4.107866e-01   \n",
       "75%    1.433093e+00  1.290590e+00 -2.059650e-01           2.017129e-02   \n",
       "max    1.467332e+00  1.290590e+00  1.939086e+00           5.305072e+00   \n",
       "\n",
       "       Matched_Queries   Impressions        Clicks         Spend  \\\n",
       "count     2.306600e+04  2.306600e+04  2.306600e+04  2.306600e+04   \n",
       "mean     -5.914515e-17 -1.971505e-17 -3.943010e-17 -3.943010e-17   \n",
       "std       1.000022e+00  1.000022e+00  1.000022e+00  1.000022e+00   \n",
       "min      -5.153767e-01 -5.110502e-01 -6.153114e-01 -6.653719e-01   \n",
       "25%      -5.081017e-01 -5.077615e-01 -5.744540e-01 -6.444320e-01   \n",
       "50%      -4.126727e-01 -4.183138e-01 -3.603704e-01 -3.150323e-01   \n",
       "75%      -4.552447e-02 -5.313815e-02  1.218940e-01  1.019643e-01   \n",
       "max       5.335208e+00  5.331990e+00  7.628089e+00  5.955310e+00   \n",
       "\n",
       "                Fee       Revenue           CTR           CPM           CPC  \n",
       "count  2.306600e+04  2.306600e+04  2.306600e+04  2.306600e+04  2.306600e+04  \n",
       "mean   6.703117e-16  7.886020e-17 -9.857525e-17 -5.914515e-17 -9.364649e-17  \n",
       "std    1.000022e+00  1.000022e+00  1.000022e+00  1.000022e+00  1.000022e+00  \n",
       "min   -3.914682e+00 -6.196929e-01 -9.069414e-01 -9.271098e-01 -9.865308e-01  \n",
       "25%   -1.602853e-01 -6.018628e-01 -8.788693e-01 -7.338866e-01 -7.227788e-01  \n",
       "50%    4.654474e-01 -3.213727e-01  1.058166e-01 -2.950609e-03 -5.762499e-01  \n",
       "75%    4.654474e-01  5.380889e-02  5.463339e-01  5.126794e-01  6.252869e-01  \n",
       "max    4.654474e-01  6.232161e+00  2.068597e+01  7.801839e+01  2.028946e+01  "
      ]
     },
     "execution_count": 41,
     "metadata": {},
     "output_type": "execute_result"
    }
   ],
   "source": [
    "df_scaled.describe()"
   ]
  },
  {
   "cell_type": "code",
   "execution_count": 43,
   "id": "3ffa6fbe",
   "metadata": {},
   "outputs": [
    {
     "data": {
      "text/plain": [
       "<AxesSubplot:>"
      ]
     },
     "execution_count": 43,
     "metadata": {},
     "output_type": "execute_result"
    },
    {
     "data": {
      "image/png": "[encoded data removed]",
      "text/plain": [
       "<Figure size 432x288 with 2 Axes>"
      ]
     },
     "metadata": {
      "needs_background": "light"
     },
     "output_type": "display_data"
    }
   ],
   "source": [
    "sns.heatmap(df_scaled.corr())"
   ]
  },
  {
   "cell_type": "code",
   "execution_count": 44,
   "id": "3c57f6a8",
   "metadata": {},
   "outputs": [],
   "source": [
    "from factor_analyzer.factor_analyzer import calculate_bartlett_sphericity,calculate_kmo"
   ]
  },
  {
   "cell_type": "code",
   "execution_count": 45,
   "id": "ce174da6",
   "metadata": {},
   "outputs": [
    {
     "data": {
      "text/plain": [
       "(755276.7406901544, 0.0)"
      ]
     },
     "execution_count": 45,
     "metadata": {},
     "output_type": "execute_result"
    }
   ],
   "source": [
    "calculate_bartlett_sphericity(df_scaled)"
   ]
  },
  {
   "cell_type": "code",
   "execution_count": 46,
   "id": "10c0b645",
   "metadata": {},
   "outputs": [
    {
     "name": "stderr",
     "output_type": "stream",
     "text": [
      "c:\\users\\hp\\appdata\\local\\programs\\python\\python39\\lib\\site-packages\\factor_analyzer\\utils.py:244: UserWarning: The inverse of the variance-covariance matrix was calculated using the Moore-Penrose generalized matrix inversion, due to its determinant being at or very close to zero.\n",
      "  warnings.warn(\n"
     ]
    },
    {
     "data": {
      "text/plain": [
       "(array([0.35901102, 0.514856  , 0.26208632, 0.96479195, 0.72889256,\n",
       "        0.72204388, 0.38425128, 0.7446586 , 0.95012889, 0.75105049,\n",
       "        0.81265181, 0.84005286, 0.81474026]),\n",
       " 0.7082944652891625)"
      ]
     },
     "execution_count": 46,
     "metadata": {},
     "output_type": "execute_result"
    }
   ],
   "source": [
    "calculate_kmo(df_scaled)"
   ]
  },
  {
   "cell_type": "code",
   "execution_count": 48,
   "id": "3d9e0c75",
   "metadata": {},
   "outputs": [],
   "source": [
    "from sklearn.decomposition import PCA"
   ]
  },
  {
   "cell_type": "code",
   "execution_count": 49,
   "id": "2302586f",
   "metadata": {},
   "outputs": [],
   "source": [
    "pca = PCA(n_components=12)\n",
    "output = pca.fit_transform(df_scaled)"
   ]
  },
  {
   "cell_type": "code",
   "execution_count": 51,
   "id": "76a0f40d",
   "metadata": {},
   "outputs": [
    {
     "data": {
      "text/plain": [
       "array([0.5168769 , 0.70581197, 0.83531454, 0.90443106, 0.94288367,\n",
       "       0.97259712, 0.98870323, 0.99442011, 0.99737772, 0.99954775,\n",
       "       0.99995845, 0.99999794])"
      ]
     },
     "execution_count": 51,
     "metadata": {},
     "output_type": "execute_result"
    }
   ],
   "source": [
    "np.cumsum(pca.explained_variance_ratio_)"
   ]
  },
  {
   "cell_type": "code",
   "execution_count": 99,
   "id": "0279ad58",
   "metadata": {},
   "outputs": [],
   "source": [
    "pca = PCA(n_components=2)\n",
    "output = pca.fit_transform(df_scaled)"
   ]
  },
  {
   "cell_type": "code",
   "execution_count": 100,
   "id": "441d627a",
   "metadata": {},
   "outputs": [
    {
     "data": {
      "text/plain": [
       "(23066, 2)"
      ]
     },
     "execution_count": 100,
     "metadata": {},
     "output_type": "execute_result"
    }
   ],
   "source": [
    "output.shape"
   ]
  },
  {
   "cell_type": "code",
   "execution_count": 101,
   "id": "4446dc7b",
   "metadata": {},
   "outputs": [
    {
     "data": {
      "text/plain": [
       "(23066,)"
      ]
     },
     "execution_count": 101,
     "metadata": {},
     "output_type": "execute_result"
    }
   ],
   "source": [
    "output[:,1].shape"
   ]
  },
  {
   "cell_type": "code",
   "execution_count": 102,
   "id": "f0e2a9f6",
   "metadata": {},
   "outputs": [
    {
     "data": {
      "text/plain": [
       "<AxesSubplot:>"
      ]
     },
     "execution_count": 102,
     "metadata": {},
     "output_type": "execute_result"
    },
    {
     "data": {
      "image/png": "[encoded data removed]",
      "text/plain": [
       "<Figure size 432x288 with 1 Axes>"
      ]
     },
     "metadata": {
      "needs_background": "light"
     },
     "output_type": "display_data"
    }
   ],
   "source": [
    "sns.scatterplot(x=output[:,0],y=output[:,1])"
   ]
  },
  {
   "cell_type": "code",
   "execution_count": null,
   "id": "2dc02efd",
   "metadata": {},
   "outputs": [],
   "source": []
  },
  {
   "cell_type": "code",
   "execution_count": null,
   "id": "26a1f40e",
   "metadata": {},
   "outputs": [],
   "source": []
  },
  {
   "cell_type": "code",
   "execution_count": null,
   "id": "4f92a185",
   "metadata": {},
   "outputs": [],
   "source": []
  },
  {
   "cell_type": "code",
   "execution_count": 52,
   "id": "92b422a8",
   "metadata": {},
   "outputs": [],
   "source": [
    "pca = PCA(n_components=5)\n",
    "output = pca.fit_transform(df_scaled)"
   ]
  },
  {
   "cell_type": "code",
   "execution_count": 53,
   "id": "8d682c39",
   "metadata": {},
   "outputs": [
    {
     "data": {
      "text/plain": [
       "(23066, 5)"
      ]
     },
     "execution_count": 53,
     "metadata": {},
     "output_type": "execute_result"
    }
   ],
   "source": [
    "output.shape"
   ]
  },
  {
   "cell_type": "code",
   "execution_count": 54,
   "id": "824bff0f",
   "metadata": {},
   "outputs": [],
   "source": [
    "df_pca = pd.DataFrame(output,columns=['PC1','PC2','PC3','PC4','PC5'])"
   ]
  },
  {
   "cell_type": "code",
   "execution_count": 55,
   "id": "07594e0f",
   "metadata": {},
   "outputs": [
    {
     "data": {
      "text/html": [
       "<div>\n",
       "<style scoped>\n",
       "    .dataframe tbody tr th:only-of-type {\n",
       "        vertical-align: middle;\n",
       "    }\n",
       "\n",
       "    .dataframe tbody tr th {\n",
       "        vertical-align: top;\n",
       "    }\n",
       "\n",
       "    .dataframe thead th {\n",
       "        text-align: right;\n",
       "    }\n",
       "</style>\n",
       "<table border=\"1\" class=\"dataframe\">\n",
       "  <thead>\n",
       "    <tr style=\"text-align: right;\">\n",
       "      <th></th>\n",
       "      <th>PC1</th>\n",
       "      <th>PC2</th>\n",
       "      <th>PC3</th>\n",
       "      <th>PC4</th>\n",
       "      <th>PC5</th>\n",
       "    </tr>\n",
       "  </thead>\n",
       "  <tbody>\n",
       "    <tr>\n",
       "      <th>0</th>\n",
       "      <td>1.069385</td>\n",
       "      <td>-1.376346</td>\n",
       "      <td>-0.486865</td>\n",
       "      <td>-0.610151</td>\n",
       "      <td>-0.741934</td>\n",
       "    </tr>\n",
       "    <tr>\n",
       "      <th>1</th>\n",
       "      <td>1.070330</td>\n",
       "      <td>-1.374590</td>\n",
       "      <td>-0.486297</td>\n",
       "      <td>-0.608679</td>\n",
       "      <td>-0.741266</td>\n",
       "    </tr>\n",
       "    <tr>\n",
       "      <th>2</th>\n",
       "      <td>1.068605</td>\n",
       "      <td>-1.377653</td>\n",
       "      <td>-0.487292</td>\n",
       "      <td>-0.611207</td>\n",
       "      <td>-0.742464</td>\n",
       "    </tr>\n",
       "    <tr>\n",
       "      <th>3</th>\n",
       "      <td>1.066723</td>\n",
       "      <td>-1.381166</td>\n",
       "      <td>-0.488427</td>\n",
       "      <td>-0.614156</td>\n",
       "      <td>-0.743798</td>\n",
       "    </tr>\n",
       "    <tr>\n",
       "      <th>4</th>\n",
       "      <td>1.071784</td>\n",
       "      <td>-1.371961</td>\n",
       "      <td>-0.485445</td>\n",
       "      <td>-0.606496</td>\n",
       "      <td>-0.740248</td>\n",
       "    </tr>\n",
       "  </tbody>\n",
       "</table>\n",
       "</div>"
      ],
      "text/plain": [
       "        PC1       PC2       PC3       PC4       PC5\n",
       "0  1.069385 -1.376346 -0.486865 -0.610151 -0.741934\n",
       "1  1.070330 -1.374590 -0.486297 -0.608679 -0.741266\n",
       "2  1.068605 -1.377653 -0.487292 -0.611207 -0.742464\n",
       "3  1.066723 -1.381166 -0.488427 -0.614156 -0.743798\n",
       "4  1.071784 -1.371961 -0.485445 -0.606496 -0.740248"
      ]
     },
     "execution_count": 55,
     "metadata": {},
     "output_type": "execute_result"
    }
   ],
   "source": [
    "df_pca.head()"
   ]
  },
  {
   "cell_type": "code",
   "execution_count": 56,
   "id": "9cceeb25",
   "metadata": {},
   "outputs": [],
   "source": [
    "ward_pca = linkage(df_pca, method='ward')"
   ]
  },
  {
   "cell_type": "code",
   "execution_count": 57,
   "id": "f70e70e3",
   "metadata": {},
   "outputs": [
    {
     "data": {
      "text/plain": [
       "array([[2.27260000e+04, 2.29900000e+04, 0.00000000e+00, 2.00000000e+00],\n",
       "       [2.28670000e+04, 2.29750000e+04, 0.00000000e+00, 2.00000000e+00],\n",
       "       [2.28520000e+04, 2.29050000e+04, 0.00000000e+00, 2.00000000e+00],\n",
       "       ...,\n",
       "       [4.61250000e+04, 4.61270000e+04, 2.68496369e+02, 1.27170000e+04],\n",
       "       [4.61260000e+04, 4.61280000e+04, 3.48587101e+02, 2.19210000e+04],\n",
       "       [4.61150000e+04, 4.61290000e+04, 4.54708422e+02, 2.30660000e+04]])"
      ]
     },
     "execution_count": 57,
     "metadata": {},
     "output_type": "execute_result"
    }
   ],
   "source": [
    "ward_pca"
   ]
  },
  {
   "cell_type": "code",
   "execution_count": 58,
   "id": "46210759",
   "metadata": {},
   "outputs": [
    {
     "data": {
      "image/png": "[encoded data removed]",
      "text/plain": [
       "<Figure size 432x288 with 1 Axes>"
      ]
     },
     "metadata": {
      "needs_background": "light"
     },
     "output_type": "display_data"
    }
   ],
   "source": [
    "dend = dendrogram(ward_pca, p=30, truncate_mode='lastp')"
   ]
  },
  {
   "cell_type": "code",
   "execution_count": 76,
   "id": "f95c63d7",
   "metadata": {},
   "outputs": [],
   "source": [
    "clusters = fcluster(ward_pca, t=3,criterion='maxclust')"
   ]
  },
  {
   "cell_type": "code",
   "execution_count": 77,
   "id": "e12f30e6",
   "metadata": {},
   "outputs": [
    {
     "data": {
      "text/plain": [
       "array([2, 2, 2, ..., 3, 3, 3], dtype=int32)"
      ]
     },
     "execution_count": 77,
     "metadata": {},
     "output_type": "execute_result"
    }
   ],
   "source": [
    "clusters"
   ]
  },
  {
   "cell_type": "code",
   "execution_count": 78,
   "id": "a7f1e629",
   "metadata": {},
   "outputs": [],
   "source": [
    "df['cluster'] = clusters"
   ]
  },
  {
   "cell_type": "code",
   "execution_count": 79,
   "id": "2d2b16ce",
   "metadata": {},
   "outputs": [
    {
     "data": {
      "text/plain": [
       "0.42180759480514146"
      ]
     },
     "execution_count": 79,
     "metadata": {},
     "output_type": "execute_result"
    }
   ],
   "source": [
    "silhouette_score(df_pca,clusters)"
   ]
  },
  {
   "cell_type": "code",
   "execution_count": 80,
   "id": "f8287764",
   "metadata": {},
   "outputs": [
    {
     "data": {
      "text/plain": [
       "0.3830908627607469"
      ]
     },
     "execution_count": 80,
     "metadata": {},
     "output_type": "execute_result"
    }
   ],
   "source": [
    "silhouette_score(df_scaled,clusters)"
   ]
  },
  {
   "cell_type": "code",
   "execution_count": 81,
   "id": "9ca1c7c6",
   "metadata": {},
   "outputs": [],
   "source": [
    "scores = silhouette_samples(df_pca,clusters)"
   ]
  },
  {
   "cell_type": "code",
   "execution_count": 82,
   "id": "6f1150ad",
   "metadata": {},
   "outputs": [
    {
     "data": {
      "text/plain": [
       "296"
      ]
     },
     "execution_count": 82,
     "metadata": {},
     "output_type": "execute_result"
    }
   ],
   "source": [
    "sum(scores<0)"
   ]
  },
  {
   "cell_type": "code",
   "execution_count": 84,
   "id": "2134a3cc",
   "metadata": {},
   "outputs": [],
   "source": [
    "wss = []\n",
    "for i in range(1,11):\n",
    "    km = KMeans(n_clusters=i)\n",
    "    km.fit(df_pca)\n",
    "    wss.append(km.inertia_)"
   ]
  },
  {
   "cell_type": "code",
   "execution_count": 85,
   "id": "b5c961b5",
   "metadata": {},
   "outputs": [
    {
     "data": {
      "text/plain": [
       "<AxesSubplot:>"
      ]
     },
     "execution_count": 85,
     "metadata": {},
     "output_type": "execute_result"
    },
    {
     "data": {
      "image/png": "[encoded data removed]",
      "text/plain": [
       "<Figure size 432x288 with 1 Axes>"
      ]
     },
     "metadata": {
      "needs_background": "light"
     },
     "output_type": "display_data"
    }
   ],
   "source": [
    "sns.lineplot(x=range(1,11), y=wss)"
   ]
  },
  {
   "cell_type": "code",
   "execution_count": 86,
   "id": "1c903650",
   "metadata": {},
   "outputs": [
    {
     "data": {
      "text/plain": [
       "[282731.2110287221,\n",
       " 171279.3171055027,\n",
       " 113831.32097355303,\n",
       " 77846.24917319296,\n",
       " 49504.88654320585,\n",
       " 39401.7394386318,\n",
       " 33464.09604548536,\n",
       " 29903.751640479124,\n",
       " 26847.79085992764,\n",
       " 24010.296685505862]"
      ]
     },
     "execution_count": 86,
     "metadata": {},
     "output_type": "execute_result"
    }
   ],
   "source": [
    "wss"
   ]
  },
  {
   "cell_type": "code",
   "execution_count": 87,
   "id": "0c36b38a",
   "metadata": {},
   "outputs": [
    {
     "data": {
      "text/plain": [
       "array([2, 2, 2, ..., 3, 1, 3])"
      ]
     },
     "execution_count": 87,
     "metadata": {},
     "output_type": "execute_result"
    }
   ],
   "source": [
    "km = KMeans(n_clusters=5)\n",
    "km.fit(df_pca)\n",
    "km.labels_"
   ]
  },
  {
   "cell_type": "code",
   "execution_count": 88,
   "id": "106ca913",
   "metadata": {},
   "outputs": [
    {
     "data": {
      "text/plain": [
       "0.6159404328357528"
      ]
     },
     "execution_count": 88,
     "metadata": {},
     "output_type": "execute_result"
    }
   ],
   "source": [
    "silhouette_score(df_pca, km.labels_)"
   ]
  },
  {
   "cell_type": "code",
   "execution_count": 89,
   "id": "6bc7e024",
   "metadata": {},
   "outputs": [],
   "source": [
    "scores = silhouette_samples(df_pca, km.labels_)"
   ]
  },
  {
   "cell_type": "code",
   "execution_count": 90,
   "id": "0bb8a210",
   "metadata": {},
   "outputs": [
    {
     "data": {
      "text/plain": [
       "31"
      ]
     },
     "execution_count": 90,
     "metadata": {},
     "output_type": "execute_result"
    }
   ],
   "source": [
    "sum(scores<0)"
   ]
  },
  {
   "cell_type": "code",
   "execution_count": 91,
   "id": "92b17a06",
   "metadata": {},
   "outputs": [
    {
     "data": {
      "text/plain": [
       "Index(['Timestamp', 'InventoryType', 'Ad - Length', 'Ad- Width', 'Ad Size',\n",
       "       'Ad Type', 'Platform', 'Device Type', 'Format', 'Available_Impressions',\n",
       "       'Matched_Queries', 'Impressions', 'Clicks', 'Spend', 'Fee', 'Revenue',\n",
       "       'CTR', 'CPM', 'CPC', 'cluster'],\n",
       "      dtype='object')"
      ]
     },
     "execution_count": 91,
     "metadata": {},
     "output_type": "execute_result"
    }
   ],
   "source": [
    "df.columns"
   ]
  },
  {
   "cell_type": "code",
   "execution_count": 94,
   "id": "a2c05897",
   "metadata": {},
   "outputs": [],
   "source": [
    "df['CPC'] = df_sel['CPC']"
   ]
  },
  {
   "cell_type": "code",
   "execution_count": 95,
   "id": "de6680e1",
   "metadata": {},
   "outputs": [],
   "source": [
    "df['cluster'] = km.labels_"
   ]
  },
  {
   "cell_type": "code",
   "execution_count": 96,
   "id": "a292972c",
   "metadata": {},
   "outputs": [],
   "source": [
    "df.to_csv('kmpca.csv')"
   ]
  },
  {
   "cell_type": "code",
   "execution_count": 97,
   "id": "82e7b04e",
   "metadata": {},
   "outputs": [
    {
     "data": {
      "text/plain": [
       "array([-0.00406897, -0.00319185, -0.02288855, -0.02665736, -0.02275901,\n",
       "       -0.00615175, -0.00482009, -0.02691689, -0.01469182, -0.02812692,\n",
       "       -0.01921153, -0.01734832, -0.02246142, -0.00440013, -0.01326934,\n",
       "       -0.03202685, -0.01433034, -0.0110048 , -0.0082055 , -0.003015  ,\n",
       "       -0.02103051, -0.00830368, -0.00935185, -0.02214431, -0.00819186,\n",
       "       -0.02153414, -0.03677459, -0.00576562, -0.00751522, -0.00517775,\n",
       "       -0.01766555])"
      ]
     },
     "execution_count": 97,
     "metadata": {},
     "output_type": "execute_result"
    }
   ],
   "source": [
    "scores[scores<0]"
   ]
  },
  {
   "cell_type": "code",
   "execution_count": null,
   "id": "fbb242fb",
   "metadata": {},
   "outputs": [],
   "source": []
  }
 ],
 "metadata": {
  "kernelspec": {
   "display_name": "Python 3",
   "language": "python",
   "name": "python3"
  },
  "language_info": {
   "codemirror_mode": {
    "name": "ipython",
    "version": 3
   },
   "file_extension": ".py",
   "mimetype": "text/x-python",
   "name": "python",
   "nbconvert_exporter": "python",
   "pygments_lexer": "ipython3",
   "version": "3.9.4"
  }
 },
 "nbformat": 4,
 "nbformat_minor": 5
}
