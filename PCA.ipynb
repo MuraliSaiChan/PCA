{
 "cells": [
  {
   "cell_type": "code",
   "execution_count": 2,
   "id": "e43b841f",
   "metadata": {},
   "outputs": [],
   "source": [
    "import pandas as pd\n",
    "import numpy as np\n",
    "from scipy.stats import zscore\n",
    "from sklearn.decomposition import PCA"
   ]
  },
  {
   "cell_type": "code",
   "execution_count": 16,
   "id": "9940fbe7",
   "metadata": {},
   "outputs": [],
   "source": [
    "import seaborn as sns"
   ]
  },
  {
   "cell_type": "code",
   "execution_count": 3,
   "id": "d2bf3308",
   "metadata": {},
   "outputs": [
    {
     "data": {
      "text/html": [
       "<div>\n",
       "<style scoped>\n",
       "    .dataframe tbody tr th:only-of-type {\n",
       "        vertical-align: middle;\n",
       "    }\n",
       "\n",
       "    .dataframe tbody tr th {\n",
       "        vertical-align: top;\n",
       "    }\n",
       "\n",
       "    .dataframe thead th {\n",
       "        text-align: right;\n",
       "    }\n",
       "</style>\n",
       "<table border=\"1\" class=\"dataframe\">\n",
       "  <thead>\n",
       "    <tr style=\"text-align: right;\">\n",
       "      <th></th>\n",
       "      <th>State Code</th>\n",
       "      <th>Dist.Code</th>\n",
       "      <th>State</th>\n",
       "      <th>Area Name</th>\n",
       "      <th>No_HH</th>\n",
       "      <th>TOT_M</th>\n",
       "      <th>TOT_F</th>\n",
       "      <th>M_06</th>\n",
       "      <th>F_06</th>\n",
       "      <th>M_SC</th>\n",
       "      <th>...</th>\n",
       "      <th>MARG_CL_0_3_M</th>\n",
       "      <th>MARG_CL_0_3_F</th>\n",
       "      <th>MARG_AL_0_3_M</th>\n",
       "      <th>MARG_AL_0_3_F</th>\n",
       "      <th>MARG_HH_0_3_M</th>\n",
       "      <th>MARG_HH_0_3_F</th>\n",
       "      <th>MARG_OT_0_3_M</th>\n",
       "      <th>MARG_OT_0_3_F</th>\n",
       "      <th>NON_WORK_M</th>\n",
       "      <th>NON_WORK_F</th>\n",
       "    </tr>\n",
       "  </thead>\n",
       "  <tbody>\n",
       "    <tr>\n",
       "      <th>0</th>\n",
       "      <td>1</td>\n",
       "      <td>1</td>\n",
       "      <td>Jammu &amp; Kashmir</td>\n",
       "      <td>Kupwara</td>\n",
       "      <td>7707</td>\n",
       "      <td>23388</td>\n",
       "      <td>29796</td>\n",
       "      <td>5862</td>\n",
       "      <td>6196</td>\n",
       "      <td>3</td>\n",
       "      <td>...</td>\n",
       "      <td>1150</td>\n",
       "      <td>749</td>\n",
       "      <td>180</td>\n",
       "      <td>237</td>\n",
       "      <td>680</td>\n",
       "      <td>252</td>\n",
       "      <td>32</td>\n",
       "      <td>46</td>\n",
       "      <td>258</td>\n",
       "      <td>214</td>\n",
       "    </tr>\n",
       "    <tr>\n",
       "      <th>1</th>\n",
       "      <td>1</td>\n",
       "      <td>2</td>\n",
       "      <td>Jammu &amp; Kashmir</td>\n",
       "      <td>Badgam</td>\n",
       "      <td>6218</td>\n",
       "      <td>19585</td>\n",
       "      <td>23102</td>\n",
       "      <td>4482</td>\n",
       "      <td>3733</td>\n",
       "      <td>7</td>\n",
       "      <td>...</td>\n",
       "      <td>525</td>\n",
       "      <td>715</td>\n",
       "      <td>123</td>\n",
       "      <td>229</td>\n",
       "      <td>186</td>\n",
       "      <td>148</td>\n",
       "      <td>76</td>\n",
       "      <td>178</td>\n",
       "      <td>140</td>\n",
       "      <td>160</td>\n",
       "    </tr>\n",
       "    <tr>\n",
       "      <th>2</th>\n",
       "      <td>1</td>\n",
       "      <td>3</td>\n",
       "      <td>Jammu &amp; Kashmir</td>\n",
       "      <td>Leh(Ladakh)</td>\n",
       "      <td>4452</td>\n",
       "      <td>6546</td>\n",
       "      <td>10964</td>\n",
       "      <td>1082</td>\n",
       "      <td>1018</td>\n",
       "      <td>3</td>\n",
       "      <td>...</td>\n",
       "      <td>114</td>\n",
       "      <td>188</td>\n",
       "      <td>44</td>\n",
       "      <td>89</td>\n",
       "      <td>3</td>\n",
       "      <td>34</td>\n",
       "      <td>0</td>\n",
       "      <td>4</td>\n",
       "      <td>67</td>\n",
       "      <td>61</td>\n",
       "    </tr>\n",
       "    <tr>\n",
       "      <th>3</th>\n",
       "      <td>1</td>\n",
       "      <td>4</td>\n",
       "      <td>Jammu &amp; Kashmir</td>\n",
       "      <td>Kargil</td>\n",
       "      <td>1320</td>\n",
       "      <td>2784</td>\n",
       "      <td>4206</td>\n",
       "      <td>563</td>\n",
       "      <td>677</td>\n",
       "      <td>0</td>\n",
       "      <td>...</td>\n",
       "      <td>194</td>\n",
       "      <td>247</td>\n",
       "      <td>61</td>\n",
       "      <td>128</td>\n",
       "      <td>13</td>\n",
       "      <td>50</td>\n",
       "      <td>4</td>\n",
       "      <td>10</td>\n",
       "      <td>116</td>\n",
       "      <td>59</td>\n",
       "    </tr>\n",
       "    <tr>\n",
       "      <th>4</th>\n",
       "      <td>1</td>\n",
       "      <td>5</td>\n",
       "      <td>Jammu &amp; Kashmir</td>\n",
       "      <td>Punch</td>\n",
       "      <td>11654</td>\n",
       "      <td>20591</td>\n",
       "      <td>29981</td>\n",
       "      <td>5157</td>\n",
       "      <td>4587</td>\n",
       "      <td>20</td>\n",
       "      <td>...</td>\n",
       "      <td>874</td>\n",
       "      <td>1928</td>\n",
       "      <td>465</td>\n",
       "      <td>1043</td>\n",
       "      <td>205</td>\n",
       "      <td>302</td>\n",
       "      <td>24</td>\n",
       "      <td>105</td>\n",
       "      <td>180</td>\n",
       "      <td>478</td>\n",
       "    </tr>\n",
       "  </tbody>\n",
       "</table>\n",
       "<p>5 rows × 61 columns</p>\n",
       "</div>"
      ],
      "text/plain": [
       "   State Code  Dist.Code            State    Area Name  No_HH  TOT_M  TOT_F  \\\n",
       "0           1          1  Jammu & Kashmir      Kupwara   7707  23388  29796   \n",
       "1           1          2  Jammu & Kashmir       Badgam   6218  19585  23102   \n",
       "2           1          3  Jammu & Kashmir  Leh(Ladakh)   4452   6546  10964   \n",
       "3           1          4  Jammu & Kashmir       Kargil   1320   2784   4206   \n",
       "4           1          5  Jammu & Kashmir        Punch  11654  20591  29981   \n",
       "\n",
       "   M_06  F_06  M_SC  ...  MARG_CL_0_3_M  MARG_CL_0_3_F  MARG_AL_0_3_M  \\\n",
       "0  5862  6196     3  ...           1150            749            180   \n",
       "1  4482  3733     7  ...            525            715            123   \n",
       "2  1082  1018     3  ...            114            188             44   \n",
       "3   563   677     0  ...            194            247             61   \n",
       "4  5157  4587    20  ...            874           1928            465   \n",
       "\n",
       "   MARG_AL_0_3_F  MARG_HH_0_3_M  MARG_HH_0_3_F  MARG_OT_0_3_M  MARG_OT_0_3_F  \\\n",
       "0            237            680            252             32             46   \n",
       "1            229            186            148             76            178   \n",
       "2             89              3             34              0              4   \n",
       "3            128             13             50              4             10   \n",
       "4           1043            205            302             24            105   \n",
       "\n",
       "   NON_WORK_M  NON_WORK_F  \n",
       "0         258         214  \n",
       "1         140         160  \n",
       "2          67          61  \n",
       "3         116          59  \n",
       "4         180         478  \n",
       "\n",
       "[5 rows x 61 columns]"
      ]
     },
     "execution_count": 3,
     "metadata": {},
     "output_type": "execute_result"
    }
   ],
   "source": [
    "df = pd.read_excel('PCA India Data_Census.xlsx')\n",
    "df.head()"
   ]
  },
  {
   "cell_type": "code",
   "execution_count": 4,
   "id": "c8b8c569",
   "metadata": {},
   "outputs": [
    {
     "data": {
      "text/plain": [
       "(640, 61)"
      ]
     },
     "execution_count": 4,
     "metadata": {},
     "output_type": "execute_result"
    }
   ],
   "source": [
    "df.shape"
   ]
  },
  {
   "cell_type": "code",
   "execution_count": 5,
   "id": "b83de07b",
   "metadata": {},
   "outputs": [
    {
     "name": "stdout",
     "output_type": "stream",
     "text": [
      "<class 'pandas.core.frame.DataFrame'>\n",
      "RangeIndex: 640 entries, 0 to 639\n",
      "Data columns (total 61 columns):\n",
      " #   Column          Non-Null Count  Dtype \n",
      "---  ------          --------------  ----- \n",
      " 0   State Code      640 non-null    int64 \n",
      " 1   Dist.Code       640 non-null    int64 \n",
      " 2   State           640 non-null    object\n",
      " 3   Area Name       640 non-null    object\n",
      " 4   No_HH           640 non-null    int64 \n",
      " 5   TOT_M           640 non-null    int64 \n",
      " 6   TOT_F           640 non-null    int64 \n",
      " 7   M_06            640 non-null    int64 \n",
      " 8   F_06            640 non-null    int64 \n",
      " 9   M_SC            640 non-null    int64 \n",
      " 10  F_SC            640 non-null    int64 \n",
      " 11  M_ST            640 non-null    int64 \n",
      " 12  F_ST            640 non-null    int64 \n",
      " 13  M_LIT           640 non-null    int64 \n",
      " 14  F_LIT           640 non-null    int64 \n",
      " 15  M_ILL           640 non-null    int64 \n",
      " 16  F_ILL           640 non-null    int64 \n",
      " 17  TOT_WORK_M      640 non-null    int64 \n",
      " 18  TOT_WORK_F      640 non-null    int64 \n",
      " 19  MAINWORK_M      640 non-null    int64 \n",
      " 20  MAINWORK_F      640 non-null    int64 \n",
      " 21  MAIN_CL_M       640 non-null    int64 \n",
      " 22  MAIN_CL_F       640 non-null    int64 \n",
      " 23  MAIN_AL_M       640 non-null    int64 \n",
      " 24  MAIN_AL_F       640 non-null    int64 \n",
      " 25  MAIN_HH_M       640 non-null    int64 \n",
      " 26  MAIN_HH_F       640 non-null    int64 \n",
      " 27  MAIN_OT_M       640 non-null    int64 \n",
      " 28  MAIN_OT_F       640 non-null    int64 \n",
      " 29  MARGWORK_M      640 non-null    int64 \n",
      " 30  MARGWORK_F      640 non-null    int64 \n",
      " 31  MARG_CL_M       640 non-null    int64 \n",
      " 32  MARG_CL_F       640 non-null    int64 \n",
      " 33  MARG_AL_M       640 non-null    int64 \n",
      " 34  MARG_AL_F       640 non-null    int64 \n",
      " 35  MARG_HH_M       640 non-null    int64 \n",
      " 36  MARG_HH_F       640 non-null    int64 \n",
      " 37  MARG_OT_M       640 non-null    int64 \n",
      " 38  MARG_OT_F       640 non-null    int64 \n",
      " 39  MARGWORK_3_6_M  640 non-null    int64 \n",
      " 40  MARGWORK_3_6_F  640 non-null    int64 \n",
      " 41  MARG_CL_3_6_M   640 non-null    int64 \n",
      " 42  MARG_CL_3_6_F   640 non-null    int64 \n",
      " 43  MARG_AL_3_6_M   640 non-null    int64 \n",
      " 44  MARG_AL_3_6_F   640 non-null    int64 \n",
      " 45  MARG_HH_3_6_M   640 non-null    int64 \n",
      " 46  MARG_HH_3_6_F   640 non-null    int64 \n",
      " 47  MARG_OT_3_6_M   640 non-null    int64 \n",
      " 48  MARG_OT_3_6_F   640 non-null    int64 \n",
      " 49  MARGWORK_0_3_M  640 non-null    int64 \n",
      " 50  MARGWORK_0_3_F  640 non-null    int64 \n",
      " 51  MARG_CL_0_3_M   640 non-null    int64 \n",
      " 52  MARG_CL_0_3_F   640 non-null    int64 \n",
      " 53  MARG_AL_0_3_M   640 non-null    int64 \n",
      " 54  MARG_AL_0_3_F   640 non-null    int64 \n",
      " 55  MARG_HH_0_3_M   640 non-null    int64 \n",
      " 56  MARG_HH_0_3_F   640 non-null    int64 \n",
      " 57  MARG_OT_0_3_M   640 non-null    int64 \n",
      " 58  MARG_OT_0_3_F   640 non-null    int64 \n",
      " 59  NON_WORK_M      640 non-null    int64 \n",
      " 60  NON_WORK_F      640 non-null    int64 \n",
      "dtypes: int64(59), object(2)\n",
      "memory usage: 305.1+ KB\n"
     ]
    }
   ],
   "source": [
    "df.info()"
   ]
  },
  {
   "cell_type": "code",
   "execution_count": 9,
   "id": "41330ff8",
   "metadata": {},
   "outputs": [
    {
     "data": {
      "text/plain": [
       "0"
      ]
     },
     "execution_count": 9,
     "metadata": {},
     "output_type": "execute_result"
    }
   ],
   "source": [
    "df.duplicated(keep=False).sum()"
   ]
  },
  {
   "cell_type": "code",
   "execution_count": 11,
   "id": "7d63e0db",
   "metadata": {},
   "outputs": [
    {
     "data": {
      "text/plain": [
       "Uttar Pradesh               71\n",
       "Madhya Pradesh              50\n",
       "Bihar                       38\n",
       "Maharashtra                 35\n",
       "Rajasthan                   33\n",
       "Tamil Nadu                  32\n",
       "Karnataka                   30\n",
       "Odisha                      30\n",
       "Assam                       27\n",
       "Gujarat                     26\n",
       "Jharkhand                   24\n",
       "Andhra Pradesh              23\n",
       "Jammu & Kashmir             22\n",
       "Haryana                     21\n",
       "Punjab                      20\n",
       "West Bengal                 19\n",
       "Chhattisgarh                18\n",
       "Arunachal Pradesh           16\n",
       "Kerala                      14\n",
       "Uttarakhand                 13\n",
       "Himachal Pradesh            12\n",
       "Nagaland                    11\n",
       "Manipur                      9\n",
       "NCT of Delhi                 9\n",
       "Mizoram                      8\n",
       "Meghalaya                    7\n",
       "Sikkim                       4\n",
       "Tripura                      4\n",
       "Puducherry                   4\n",
       "Andaman & Nicobar Island     3\n",
       "Goa                          2\n",
       "Daman & Diu                  2\n",
       "Dadara & Nagar Havelli       1\n",
       "Lakshadweep                  1\n",
       "Chandigarh                   1\n",
       "Name: State, dtype: int64"
      ]
     },
     "execution_count": 11,
     "metadata": {},
     "output_type": "execute_result"
    }
   ],
   "source": [
    "df['State'].value_counts()"
   ]
  },
  {
   "cell_type": "code",
   "execution_count": 12,
   "id": "ab0a72b1",
   "metadata": {},
   "outputs": [
    {
     "data": {
      "text/html": [
       "<div>\n",
       "<style scoped>\n",
       "    .dataframe tbody tr th:only-of-type {\n",
       "        vertical-align: middle;\n",
       "    }\n",
       "\n",
       "    .dataframe tbody tr th {\n",
       "        vertical-align: top;\n",
       "    }\n",
       "\n",
       "    .dataframe thead th {\n",
       "        text-align: right;\n",
       "    }\n",
       "</style>\n",
       "<table border=\"1\" class=\"dataframe\">\n",
       "  <thead>\n",
       "    <tr style=\"text-align: right;\">\n",
       "      <th></th>\n",
       "      <th>State Code</th>\n",
       "      <th>Dist.Code</th>\n",
       "      <th>No_HH</th>\n",
       "      <th>TOT_M</th>\n",
       "      <th>TOT_F</th>\n",
       "      <th>M_06</th>\n",
       "      <th>F_06</th>\n",
       "      <th>M_SC</th>\n",
       "      <th>F_SC</th>\n",
       "      <th>M_ST</th>\n",
       "      <th>...</th>\n",
       "      <th>MARG_CL_0_3_M</th>\n",
       "      <th>MARG_CL_0_3_F</th>\n",
       "      <th>MARG_AL_0_3_M</th>\n",
       "      <th>MARG_AL_0_3_F</th>\n",
       "      <th>MARG_HH_0_3_M</th>\n",
       "      <th>MARG_HH_0_3_F</th>\n",
       "      <th>MARG_OT_0_3_M</th>\n",
       "      <th>MARG_OT_0_3_F</th>\n",
       "      <th>NON_WORK_M</th>\n",
       "      <th>NON_WORK_F</th>\n",
       "    </tr>\n",
       "  </thead>\n",
       "  <tbody>\n",
       "    <tr>\n",
       "      <th>count</th>\n",
       "      <td>640.000000</td>\n",
       "      <td>640.000000</td>\n",
       "      <td>640.000000</td>\n",
       "      <td>640.000000</td>\n",
       "      <td>640.000000</td>\n",
       "      <td>640.000000</td>\n",
       "      <td>640.000000</td>\n",
       "      <td>640.000000</td>\n",
       "      <td>640.000000</td>\n",
       "      <td>640.000000</td>\n",
       "      <td>...</td>\n",
       "      <td>640.000000</td>\n",
       "      <td>640.000000</td>\n",
       "      <td>640.000000</td>\n",
       "      <td>640.000000</td>\n",
       "      <td>640.000000</td>\n",
       "      <td>640.000000</td>\n",
       "      <td>640.000000</td>\n",
       "      <td>640.000000</td>\n",
       "      <td>640.000000</td>\n",
       "      <td>640.000000</td>\n",
       "    </tr>\n",
       "    <tr>\n",
       "      <th>mean</th>\n",
       "      <td>17.114062</td>\n",
       "      <td>320.500000</td>\n",
       "      <td>51222.871875</td>\n",
       "      <td>79940.576563</td>\n",
       "      <td>122372.084375</td>\n",
       "      <td>12309.098438</td>\n",
       "      <td>11942.300000</td>\n",
       "      <td>13820.946875</td>\n",
       "      <td>20778.392188</td>\n",
       "      <td>6191.807813</td>\n",
       "      <td>...</td>\n",
       "      <td>1392.973438</td>\n",
       "      <td>2757.050000</td>\n",
       "      <td>250.889062</td>\n",
       "      <td>558.098438</td>\n",
       "      <td>560.690625</td>\n",
       "      <td>1293.431250</td>\n",
       "      <td>71.379688</td>\n",
       "      <td>200.742188</td>\n",
       "      <td>510.014063</td>\n",
       "      <td>704.778125</td>\n",
       "    </tr>\n",
       "    <tr>\n",
       "      <th>std</th>\n",
       "      <td>9.426486</td>\n",
       "      <td>184.896367</td>\n",
       "      <td>48135.405475</td>\n",
       "      <td>73384.511114</td>\n",
       "      <td>113600.717282</td>\n",
       "      <td>11500.906881</td>\n",
       "      <td>11326.294567</td>\n",
       "      <td>14426.373130</td>\n",
       "      <td>21727.887713</td>\n",
       "      <td>9912.668948</td>\n",
       "      <td>...</td>\n",
       "      <td>1489.707052</td>\n",
       "      <td>2788.776676</td>\n",
       "      <td>453.336594</td>\n",
       "      <td>1117.642748</td>\n",
       "      <td>762.578991</td>\n",
       "      <td>1585.377936</td>\n",
       "      <td>107.897627</td>\n",
       "      <td>309.740854</td>\n",
       "      <td>610.603187</td>\n",
       "      <td>910.209225</td>\n",
       "    </tr>\n",
       "    <tr>\n",
       "      <th>min</th>\n",
       "      <td>1.000000</td>\n",
       "      <td>1.000000</td>\n",
       "      <td>350.000000</td>\n",
       "      <td>391.000000</td>\n",
       "      <td>698.000000</td>\n",
       "      <td>56.000000</td>\n",
       "      <td>56.000000</td>\n",
       "      <td>0.000000</td>\n",
       "      <td>0.000000</td>\n",
       "      <td>0.000000</td>\n",
       "      <td>...</td>\n",
       "      <td>4.000000</td>\n",
       "      <td>30.000000</td>\n",
       "      <td>0.000000</td>\n",
       "      <td>0.000000</td>\n",
       "      <td>0.000000</td>\n",
       "      <td>0.000000</td>\n",
       "      <td>0.000000</td>\n",
       "      <td>0.000000</td>\n",
       "      <td>0.000000</td>\n",
       "      <td>5.000000</td>\n",
       "    </tr>\n",
       "    <tr>\n",
       "      <th>25%</th>\n",
       "      <td>9.000000</td>\n",
       "      <td>160.750000</td>\n",
       "      <td>19484.000000</td>\n",
       "      <td>30228.000000</td>\n",
       "      <td>46517.750000</td>\n",
       "      <td>4733.750000</td>\n",
       "      <td>4672.250000</td>\n",
       "      <td>3466.250000</td>\n",
       "      <td>5603.250000</td>\n",
       "      <td>293.750000</td>\n",
       "      <td>...</td>\n",
       "      <td>489.500000</td>\n",
       "      <td>957.250000</td>\n",
       "      <td>47.000000</td>\n",
       "      <td>109.000000</td>\n",
       "      <td>136.500000</td>\n",
       "      <td>298.000000</td>\n",
       "      <td>14.000000</td>\n",
       "      <td>43.000000</td>\n",
       "      <td>161.000000</td>\n",
       "      <td>220.500000</td>\n",
       "    </tr>\n",
       "    <tr>\n",
       "      <th>50%</th>\n",
       "      <td>18.000000</td>\n",
       "      <td>320.500000</td>\n",
       "      <td>35837.000000</td>\n",
       "      <td>58339.000000</td>\n",
       "      <td>87724.500000</td>\n",
       "      <td>9159.000000</td>\n",
       "      <td>8663.000000</td>\n",
       "      <td>9591.500000</td>\n",
       "      <td>13709.000000</td>\n",
       "      <td>2333.500000</td>\n",
       "      <td>...</td>\n",
       "      <td>949.000000</td>\n",
       "      <td>1928.000000</td>\n",
       "      <td>114.500000</td>\n",
       "      <td>247.500000</td>\n",
       "      <td>308.000000</td>\n",
       "      <td>717.000000</td>\n",
       "      <td>35.000000</td>\n",
       "      <td>113.000000</td>\n",
       "      <td>326.000000</td>\n",
       "      <td>464.500000</td>\n",
       "    </tr>\n",
       "    <tr>\n",
       "      <th>75%</th>\n",
       "      <td>24.000000</td>\n",
       "      <td>480.250000</td>\n",
       "      <td>68892.000000</td>\n",
       "      <td>107918.500000</td>\n",
       "      <td>164251.750000</td>\n",
       "      <td>16520.250000</td>\n",
       "      <td>15902.250000</td>\n",
       "      <td>19429.750000</td>\n",
       "      <td>29180.000000</td>\n",
       "      <td>7658.000000</td>\n",
       "      <td>...</td>\n",
       "      <td>1714.000000</td>\n",
       "      <td>3599.750000</td>\n",
       "      <td>270.750000</td>\n",
       "      <td>568.750000</td>\n",
       "      <td>642.000000</td>\n",
       "      <td>1710.750000</td>\n",
       "      <td>79.000000</td>\n",
       "      <td>240.000000</td>\n",
       "      <td>604.500000</td>\n",
       "      <td>853.500000</td>\n",
       "    </tr>\n",
       "    <tr>\n",
       "      <th>max</th>\n",
       "      <td>35.000000</td>\n",
       "      <td>640.000000</td>\n",
       "      <td>310450.000000</td>\n",
       "      <td>485417.000000</td>\n",
       "      <td>750392.000000</td>\n",
       "      <td>96223.000000</td>\n",
       "      <td>95129.000000</td>\n",
       "      <td>103307.000000</td>\n",
       "      <td>156429.000000</td>\n",
       "      <td>96785.000000</td>\n",
       "      <td>...</td>\n",
       "      <td>9875.000000</td>\n",
       "      <td>21611.000000</td>\n",
       "      <td>5775.000000</td>\n",
       "      <td>17153.000000</td>\n",
       "      <td>6116.000000</td>\n",
       "      <td>13714.000000</td>\n",
       "      <td>895.000000</td>\n",
       "      <td>3354.000000</td>\n",
       "      <td>6456.000000</td>\n",
       "      <td>10533.000000</td>\n",
       "    </tr>\n",
       "  </tbody>\n",
       "</table>\n",
       "<p>8 rows × 59 columns</p>\n",
       "</div>"
      ],
      "text/plain": [
       "       State Code   Dist.Code          No_HH          TOT_M          TOT_F  \\\n",
       "count  640.000000  640.000000     640.000000     640.000000     640.000000   \n",
       "mean    17.114062  320.500000   51222.871875   79940.576563  122372.084375   \n",
       "std      9.426486  184.896367   48135.405475   73384.511114  113600.717282   \n",
       "min      1.000000    1.000000     350.000000     391.000000     698.000000   \n",
       "25%      9.000000  160.750000   19484.000000   30228.000000   46517.750000   \n",
       "50%     18.000000  320.500000   35837.000000   58339.000000   87724.500000   \n",
       "75%     24.000000  480.250000   68892.000000  107918.500000  164251.750000   \n",
       "max     35.000000  640.000000  310450.000000  485417.000000  750392.000000   \n",
       "\n",
       "               M_06          F_06           M_SC           F_SC          M_ST  \\\n",
       "count    640.000000    640.000000     640.000000     640.000000    640.000000   \n",
       "mean   12309.098438  11942.300000   13820.946875   20778.392188   6191.807813   \n",
       "std    11500.906881  11326.294567   14426.373130   21727.887713   9912.668948   \n",
       "min       56.000000     56.000000       0.000000       0.000000      0.000000   \n",
       "25%     4733.750000   4672.250000    3466.250000    5603.250000    293.750000   \n",
       "50%     9159.000000   8663.000000    9591.500000   13709.000000   2333.500000   \n",
       "75%    16520.250000  15902.250000   19429.750000   29180.000000   7658.000000   \n",
       "max    96223.000000  95129.000000  103307.000000  156429.000000  96785.000000   \n",
       "\n",
       "       ...  MARG_CL_0_3_M  MARG_CL_0_3_F  MARG_AL_0_3_M  MARG_AL_0_3_F  \\\n",
       "count  ...     640.000000     640.000000     640.000000     640.000000   \n",
       "mean   ...    1392.973438    2757.050000     250.889062     558.098438   \n",
       "std    ...    1489.707052    2788.776676     453.336594    1117.642748   \n",
       "min    ...       4.000000      30.000000       0.000000       0.000000   \n",
       "25%    ...     489.500000     957.250000      47.000000     109.000000   \n",
       "50%    ...     949.000000    1928.000000     114.500000     247.500000   \n",
       "75%    ...    1714.000000    3599.750000     270.750000     568.750000   \n",
       "max    ...    9875.000000   21611.000000    5775.000000   17153.000000   \n",
       "\n",
       "       MARG_HH_0_3_M  MARG_HH_0_3_F  MARG_OT_0_3_M  MARG_OT_0_3_F  \\\n",
       "count     640.000000     640.000000     640.000000     640.000000   \n",
       "mean      560.690625    1293.431250      71.379688     200.742188   \n",
       "std       762.578991    1585.377936     107.897627     309.740854   \n",
       "min         0.000000       0.000000       0.000000       0.000000   \n",
       "25%       136.500000     298.000000      14.000000      43.000000   \n",
       "50%       308.000000     717.000000      35.000000     113.000000   \n",
       "75%       642.000000    1710.750000      79.000000     240.000000   \n",
       "max      6116.000000   13714.000000     895.000000    3354.000000   \n",
       "\n",
       "        NON_WORK_M    NON_WORK_F  \n",
       "count   640.000000    640.000000  \n",
       "mean    510.014063    704.778125  \n",
       "std     610.603187    910.209225  \n",
       "min       0.000000      5.000000  \n",
       "25%     161.000000    220.500000  \n",
       "50%     326.000000    464.500000  \n",
       "75%     604.500000    853.500000  \n",
       "max    6456.000000  10533.000000  \n",
       "\n",
       "[8 rows x 59 columns]"
      ]
     },
     "execution_count": 12,
     "metadata": {},
     "output_type": "execute_result"
    }
   ],
   "source": [
    "df.describe()"
   ]
  },
  {
   "cell_type": "code",
   "execution_count": 13,
   "id": "64894859",
   "metadata": {},
   "outputs": [
    {
     "data": {
      "text/plain": [
       "Index(['State Code', 'Dist.Code', 'State', 'Area Name', 'No_HH', 'TOT_M',\n",
       "       'TOT_F', 'M_06', 'F_06', 'M_SC', 'F_SC', 'M_ST', 'F_ST', 'M_LIT',\n",
       "       'F_LIT', 'M_ILL', 'F_ILL', 'TOT_WORK_M', 'TOT_WORK_F', 'MAINWORK_M',\n",
       "       'MAINWORK_F', 'MAIN_CL_M', 'MAIN_CL_F', 'MAIN_AL_M', 'MAIN_AL_F',\n",
       "       'MAIN_HH_M', 'MAIN_HH_F', 'MAIN_OT_M', 'MAIN_OT_F', 'MARGWORK_M',\n",
       "       'MARGWORK_F', 'MARG_CL_M', 'MARG_CL_F', 'MARG_AL_M', 'MARG_AL_F',\n",
       "       'MARG_HH_M', 'MARG_HH_F', 'MARG_OT_M', 'MARG_OT_F', 'MARGWORK_3_6_M',\n",
       "       'MARGWORK_3_6_F', 'MARG_CL_3_6_M', 'MARG_CL_3_6_F', 'MARG_AL_3_6_M',\n",
       "       'MARG_AL_3_6_F', 'MARG_HH_3_6_M', 'MARG_HH_3_6_F', 'MARG_OT_3_6_M',\n",
       "       'MARG_OT_3_6_F', 'MARGWORK_0_3_M', 'MARGWORK_0_3_F', 'MARG_CL_0_3_M',\n",
       "       'MARG_CL_0_3_F', 'MARG_AL_0_3_M', 'MARG_AL_0_3_F', 'MARG_HH_0_3_M',\n",
       "       'MARG_HH_0_3_F', 'MARG_OT_0_3_M', 'MARG_OT_0_3_F', 'NON_WORK_M',\n",
       "       'NON_WORK_F'],\n",
       "      dtype='object')"
      ]
     },
     "execution_count": 13,
     "metadata": {},
     "output_type": "execute_result"
    }
   ],
   "source": [
    "df.columns"
   ]
  },
  {
   "cell_type": "code",
   "execution_count": 14,
   "id": "e50b581d",
   "metadata": {},
   "outputs": [
    {
     "data": {
      "text/plain": [
       "(640, 57)"
      ]
     },
     "execution_count": 14,
     "metadata": {},
     "output_type": "execute_result"
    }
   ],
   "source": [
    "df_sel = df.drop(['State Code','Dist.Code','State','Area Name'],axis=1)\n",
    "df_sel.shape"
   ]
  },
  {
   "cell_type": "code",
   "execution_count": 15,
   "id": "20c04f80",
   "metadata": {},
   "outputs": [
    {
     "data": {
      "text/html": [
       "<div>\n",
       "<style scoped>\n",
       "    .dataframe tbody tr th:only-of-type {\n",
       "        vertical-align: middle;\n",
       "    }\n",
       "\n",
       "    .dataframe tbody tr th {\n",
       "        vertical-align: top;\n",
       "    }\n",
       "\n",
       "    .dataframe thead th {\n",
       "        text-align: right;\n",
       "    }\n",
       "</style>\n",
       "<table border=\"1\" class=\"dataframe\">\n",
       "  <thead>\n",
       "    <tr style=\"text-align: right;\">\n",
       "      <th></th>\n",
       "      <th>No_HH</th>\n",
       "      <th>TOT_M</th>\n",
       "      <th>TOT_F</th>\n",
       "      <th>M_06</th>\n",
       "      <th>F_06</th>\n",
       "      <th>M_SC</th>\n",
       "      <th>F_SC</th>\n",
       "      <th>M_ST</th>\n",
       "      <th>F_ST</th>\n",
       "      <th>M_LIT</th>\n",
       "      <th>...</th>\n",
       "      <th>MARG_CL_0_3_M</th>\n",
       "      <th>MARG_CL_0_3_F</th>\n",
       "      <th>MARG_AL_0_3_M</th>\n",
       "      <th>MARG_AL_0_3_F</th>\n",
       "      <th>MARG_HH_0_3_M</th>\n",
       "      <th>MARG_HH_0_3_F</th>\n",
       "      <th>MARG_OT_0_3_M</th>\n",
       "      <th>MARG_OT_0_3_F</th>\n",
       "      <th>NON_WORK_M</th>\n",
       "      <th>NON_WORK_F</th>\n",
       "    </tr>\n",
       "  </thead>\n",
       "  <tbody>\n",
       "    <tr>\n",
       "      <th>0</th>\n",
       "      <td>7707</td>\n",
       "      <td>23388</td>\n",
       "      <td>29796</td>\n",
       "      <td>5862</td>\n",
       "      <td>6196</td>\n",
       "      <td>3</td>\n",
       "      <td>0</td>\n",
       "      <td>1999</td>\n",
       "      <td>2598</td>\n",
       "      <td>13381</td>\n",
       "      <td>...</td>\n",
       "      <td>1150</td>\n",
       "      <td>749</td>\n",
       "      <td>180</td>\n",
       "      <td>237</td>\n",
       "      <td>680</td>\n",
       "      <td>252</td>\n",
       "      <td>32</td>\n",
       "      <td>46</td>\n",
       "      <td>258</td>\n",
       "      <td>214</td>\n",
       "    </tr>\n",
       "    <tr>\n",
       "      <th>1</th>\n",
       "      <td>6218</td>\n",
       "      <td>19585</td>\n",
       "      <td>23102</td>\n",
       "      <td>4482</td>\n",
       "      <td>3733</td>\n",
       "      <td>7</td>\n",
       "      <td>6</td>\n",
       "      <td>427</td>\n",
       "      <td>517</td>\n",
       "      <td>10513</td>\n",
       "      <td>...</td>\n",
       "      <td>525</td>\n",
       "      <td>715</td>\n",
       "      <td>123</td>\n",
       "      <td>229</td>\n",
       "      <td>186</td>\n",
       "      <td>148</td>\n",
       "      <td>76</td>\n",
       "      <td>178</td>\n",
       "      <td>140</td>\n",
       "      <td>160</td>\n",
       "    </tr>\n",
       "    <tr>\n",
       "      <th>2</th>\n",
       "      <td>4452</td>\n",
       "      <td>6546</td>\n",
       "      <td>10964</td>\n",
       "      <td>1082</td>\n",
       "      <td>1018</td>\n",
       "      <td>3</td>\n",
       "      <td>6</td>\n",
       "      <td>5806</td>\n",
       "      <td>9723</td>\n",
       "      <td>4534</td>\n",
       "      <td>...</td>\n",
       "      <td>114</td>\n",
       "      <td>188</td>\n",
       "      <td>44</td>\n",
       "      <td>89</td>\n",
       "      <td>3</td>\n",
       "      <td>34</td>\n",
       "      <td>0</td>\n",
       "      <td>4</td>\n",
       "      <td>67</td>\n",
       "      <td>61</td>\n",
       "    </tr>\n",
       "    <tr>\n",
       "      <th>3</th>\n",
       "      <td>1320</td>\n",
       "      <td>2784</td>\n",
       "      <td>4206</td>\n",
       "      <td>563</td>\n",
       "      <td>677</td>\n",
       "      <td>0</td>\n",
       "      <td>0</td>\n",
       "      <td>2666</td>\n",
       "      <td>3968</td>\n",
       "      <td>1842</td>\n",
       "      <td>...</td>\n",
       "      <td>194</td>\n",
       "      <td>247</td>\n",
       "      <td>61</td>\n",
       "      <td>128</td>\n",
       "      <td>13</td>\n",
       "      <td>50</td>\n",
       "      <td>4</td>\n",
       "      <td>10</td>\n",
       "      <td>116</td>\n",
       "      <td>59</td>\n",
       "    </tr>\n",
       "    <tr>\n",
       "      <th>4</th>\n",
       "      <td>11654</td>\n",
       "      <td>20591</td>\n",
       "      <td>29981</td>\n",
       "      <td>5157</td>\n",
       "      <td>4587</td>\n",
       "      <td>20</td>\n",
       "      <td>33</td>\n",
       "      <td>7670</td>\n",
       "      <td>10843</td>\n",
       "      <td>13243</td>\n",
       "      <td>...</td>\n",
       "      <td>874</td>\n",
       "      <td>1928</td>\n",
       "      <td>465</td>\n",
       "      <td>1043</td>\n",
       "      <td>205</td>\n",
       "      <td>302</td>\n",
       "      <td>24</td>\n",
       "      <td>105</td>\n",
       "      <td>180</td>\n",
       "      <td>478</td>\n",
       "    </tr>\n",
       "  </tbody>\n",
       "</table>\n",
       "<p>5 rows × 57 columns</p>\n",
       "</div>"
      ],
      "text/plain": [
       "   No_HH  TOT_M  TOT_F  M_06  F_06  M_SC  F_SC  M_ST   F_ST  M_LIT  ...  \\\n",
       "0   7707  23388  29796  5862  6196     3     0  1999   2598  13381  ...   \n",
       "1   6218  19585  23102  4482  3733     7     6   427    517  10513  ...   \n",
       "2   4452   6546  10964  1082  1018     3     6  5806   9723   4534  ...   \n",
       "3   1320   2784   4206   563   677     0     0  2666   3968   1842  ...   \n",
       "4  11654  20591  29981  5157  4587    20    33  7670  10843  13243  ...   \n",
       "\n",
       "   MARG_CL_0_3_M  MARG_CL_0_3_F  MARG_AL_0_3_M  MARG_AL_0_3_F  MARG_HH_0_3_M  \\\n",
       "0           1150            749            180            237            680   \n",
       "1            525            715            123            229            186   \n",
       "2            114            188             44             89              3   \n",
       "3            194            247             61            128             13   \n",
       "4            874           1928            465           1043            205   \n",
       "\n",
       "   MARG_HH_0_3_F  MARG_OT_0_3_M  MARG_OT_0_3_F  NON_WORK_M  NON_WORK_F  \n",
       "0            252             32             46         258         214  \n",
       "1            148             76            178         140         160  \n",
       "2             34              0              4          67          61  \n",
       "3             50              4             10         116          59  \n",
       "4            302             24            105         180         478  \n",
       "\n",
       "[5 rows x 57 columns]"
      ]
     },
     "execution_count": 15,
     "metadata": {},
     "output_type": "execute_result"
    }
   ],
   "source": [
    "df_sel.head()"
   ]
  },
  {
   "cell_type": "code",
   "execution_count": 17,
   "id": "0acd266a",
   "metadata": {},
   "outputs": [],
   "source": [
    "import matplotlib.pyplot as plt"
   ]
  },
  {
   "cell_type": "code",
   "execution_count": 20,
   "id": "cbe3e8c2",
   "metadata": {},
   "outputs": [
    {
     "data": {
      "image/png": "[encoded data removed]",
      "text/plain": [
       "<Figure size 1080x720 with 57 Axes>"
      ]
     },
     "metadata": {
      "needs_background": "light"
     },
     "output_type": "display_data"
    }
   ],
   "source": [
    "plt.figure(figsize=(15,10))\n",
    "for i,j in enumerate(df_sel.columns):\n",
    "    plt.subplot(10,6,i+1)\n",
    "    sns.boxplot(x=df_sel[j])"
   ]
  },
  {
   "cell_type": "code",
   "execution_count": 193,
   "id": "fe14bfbe",
   "metadata": {},
   "outputs": [],
   "source": [
    "from sklearn.preprocessing import StandardScaler,PowerTransformer"
   ]
  },
  {
   "cell_type": "code",
   "execution_count": 194,
   "id": "b7046eb0",
   "metadata": {},
   "outputs": [],
   "source": [
    "scaler = PowerTransformer()\n",
    "df_scaled = pd.DataFrame(scaler.fit_transform(df_sel),columns=df_sel.columns)"
   ]
  },
  {
   "cell_type": "code",
   "execution_count": 195,
   "id": "c3e0638d",
   "metadata": {},
   "outputs": [
    {
     "data": {
      "image/png": "[encoded data removed]",
      "text/plain": [
       "<Figure size 1080x720 with 57 Axes>"
      ]
     },
     "metadata": {
      "needs_background": "light"
     },
     "output_type": "display_data"
    }
   ],
   "source": [
    "plt.figure(figsize=(15,10))\n",
    "for i,j in enumerate(df_scaled.columns):\n",
    "    plt.subplot(10,6,i+1)\n",
    "    sns.boxplot(x=df_scaled[j])"
   ]
  },
  {
   "cell_type": "code",
   "execution_count": 196,
   "id": "5298eaac",
   "metadata": {},
   "outputs": [
    {
     "data": {
      "text/plain": [
       "count       640.000000\n",
       "mean      30204.446875\n",
       "std       31480.915680\n",
       "min          65.000000\n",
       "25%        9787.000000\n",
       "50%       21250.500000\n",
       "75%       40119.000000\n",
       "max      247911.000000\n",
       "Name: MAINWORK_M, dtype: float64"
      ]
     },
     "execution_count": 196,
     "metadata": {},
     "output_type": "execute_result"
    }
   ],
   "source": [
    "df['MAINWORK_M'].describe()"
   ]
  },
  {
   "cell_type": "code",
   "execution_count": 197,
   "id": "651f0a66",
   "metadata": {},
   "outputs": [
    {
     "data": {
      "text/plain": [
       "State\n",
       "Maharashtra                 247911\n",
       "West Bengal                 239755\n",
       "Karnataka                   217193\n",
       "Gujarat                     150066\n",
       "Kerala                      147448\n",
       "Tamil Nadu                  100825\n",
       "Andhra Pradesh               99584\n",
       "Uttar Pradesh                91787\n",
       "Punjab                       89444\n",
       "Bihar                        87616\n",
       "NCT of Delhi                 86850\n",
       "Rajasthan                    82206\n",
       "Madhya Pradesh               65693\n",
       "Odisha                       60452\n",
       "Assam                        53434\n",
       "Chhattisgarh                 52507\n",
       "Meghalaya                    43140\n",
       "Tripura                      34847\n",
       "Uttarakhand                  34740\n",
       "Himachal Pradesh             34669\n",
       "Jharkhand                    34306\n",
       "Jammu & Kashmir              33774\n",
       "Haryana                      32813\n",
       "Goa                          30635\n",
       "Puducherry                   22637\n",
       "Chandigarh                   19671\n",
       "Manipur                      12465\n",
       "Mizoram                      10156\n",
       "Andaman & Nicobar Island      5366\n",
       "Sikkim                        5156\n",
       "Nagaland                      4107\n",
       "Daman & Diu                   3513\n",
       "Lakshadweep                   2849\n",
       "Dadara & Nagar Havelli        2716\n",
       "Arunachal Pradesh             1528\n",
       "Name: MAINWORK_M, dtype: int64"
      ]
     },
     "execution_count": 197,
     "metadata": {},
     "output_type": "execute_result"
    }
   ],
   "source": [
    "df.groupby('State').MAINWORK_M.max().sort_values(ascending=False)"
   ]
  },
  {
   "cell_type": "code",
   "execution_count": 198,
   "id": "57d3f77a",
   "metadata": {},
   "outputs": [
    {
     "data": {
      "text/html": [
       "<div>\n",
       "<style scoped>\n",
       "    .dataframe tbody tr th:only-of-type {\n",
       "        vertical-align: middle;\n",
       "    }\n",
       "\n",
       "    .dataframe tbody tr th {\n",
       "        vertical-align: top;\n",
       "    }\n",
       "\n",
       "    .dataframe thead th {\n",
       "        text-align: right;\n",
       "    }\n",
       "</style>\n",
       "<table border=\"1\" class=\"dataframe\">\n",
       "  <thead>\n",
       "    <tr style=\"text-align: right;\">\n",
       "      <th></th>\n",
       "      <th>No_HH</th>\n",
       "      <th>TOT_M</th>\n",
       "      <th>TOT_F</th>\n",
       "      <th>M_06</th>\n",
       "      <th>F_06</th>\n",
       "      <th>M_SC</th>\n",
       "      <th>F_SC</th>\n",
       "      <th>M_ST</th>\n",
       "      <th>F_ST</th>\n",
       "      <th>M_LIT</th>\n",
       "      <th>...</th>\n",
       "      <th>MARG_CL_0_3_M</th>\n",
       "      <th>MARG_CL_0_3_F</th>\n",
       "      <th>MARG_AL_0_3_M</th>\n",
       "      <th>MARG_AL_0_3_F</th>\n",
       "      <th>MARG_HH_0_3_M</th>\n",
       "      <th>MARG_HH_0_3_F</th>\n",
       "      <th>MARG_OT_0_3_M</th>\n",
       "      <th>MARG_OT_0_3_F</th>\n",
       "      <th>NON_WORK_M</th>\n",
       "      <th>NON_WORK_F</th>\n",
       "    </tr>\n",
       "  </thead>\n",
       "  <tbody>\n",
       "    <tr>\n",
       "      <th>0</th>\n",
       "      <td>-1.285328</td>\n",
       "      <td>-0.827894</td>\n",
       "      <td>-0.970115</td>\n",
       "      <td>-0.415835</td>\n",
       "      <td>-0.326217</td>\n",
       "      <td>-1.967062</td>\n",
       "      <td>-2.042753</td>\n",
       "      <td>0.025864</td>\n",
       "      <td>-0.066315</td>\n",
       "      <td>-0.971174</td>\n",
       "      <td>...</td>\n",
       "      <td>0.177944</td>\n",
       "      <td>-0.816800</td>\n",
       "      <td>0.322411</td>\n",
       "      <td>-0.065841</td>\n",
       "      <td>0.630256</td>\n",
       "      <td>-0.695718</td>\n",
       "      <td>-0.083657</td>\n",
       "      <td>-0.594297</td>\n",
       "      <td>-0.209491</td>\n",
       "      <td>-0.622097</td>\n",
       "    </tr>\n",
       "    <tr>\n",
       "      <th>1</th>\n",
       "      <td>-1.422744</td>\n",
       "      <td>-0.962589</td>\n",
       "      <td>-1.155280</td>\n",
       "      <td>-0.647290</td>\n",
       "      <td>-0.761472</td>\n",
       "      <td>-1.925311</td>\n",
       "      <td>-1.961897</td>\n",
       "      <td>-0.582304</td>\n",
       "      <td>-0.662574</td>\n",
       "      <td>-1.141278</td>\n",
       "      <td>...</td>\n",
       "      <td>-0.548584</td>\n",
       "      <td>-0.852232</td>\n",
       "      <td>0.039554</td>\n",
       "      <td>-0.090361</td>\n",
       "      <td>-0.363101</td>\n",
       "      <td>-0.975907</td>\n",
       "      <td>0.591965</td>\n",
       "      <td>0.408850</td>\n",
       "      <td>-0.704613</td>\n",
       "      <td>-0.848194</td>\n",
       "    </tr>\n",
       "    <tr>\n",
       "      <th>2</th>\n",
       "      <td>-1.621670</td>\n",
       "      <td>-1.658668</td>\n",
       "      <td>-1.629688</td>\n",
       "      <td>-1.620122</td>\n",
       "      <td>-1.643413</td>\n",
       "      <td>-1.967062</td>\n",
       "      <td>-1.961897</td>\n",
       "      <td>0.565625</td>\n",
       "      <td>0.580173</td>\n",
       "      <td>-1.655499</td>\n",
       "      <td>...</td>\n",
       "      <td>-1.657718</td>\n",
       "      <td>-1.718183</td>\n",
       "      <td>-0.668421</td>\n",
       "      <td>-0.726465</td>\n",
       "      <td>-2.148050</td>\n",
       "      <td>-1.581237</td>\n",
       "      <td>-2.376531</td>\n",
       "      <td>-1.901413</td>\n",
       "      <td>-1.229241</td>\n",
       "      <td>-1.522093</td>\n",
       "    </tr>\n",
       "    <tr>\n",
       "      <th>3</th>\n",
       "      <td>-2.213737</td>\n",
       "      <td>-2.068805</td>\n",
       "      <td>-2.114478</td>\n",
       "      <td>-1.952413</td>\n",
       "      <td>-1.863104</td>\n",
       "      <td>-2.026171</td>\n",
       "      <td>-2.042753</td>\n",
       "      <td>0.160839</td>\n",
       "      <td>0.123480</td>\n",
       "      <td>-2.092029</td>\n",
       "      <td>...</td>\n",
       "      <td>-1.312167</td>\n",
       "      <td>-1.563264</td>\n",
       "      <td>-0.452195</td>\n",
       "      <td>-0.490593</td>\n",
       "      <td>-1.712404</td>\n",
       "      <td>-1.443823</td>\n",
       "      <td>-1.412051</td>\n",
       "      <td>-1.488092</td>\n",
       "      <td>-0.845674</td>\n",
       "      <td>-1.543417</td>\n",
       "    </tr>\n",
       "    <tr>\n",
       "      <th>4</th>\n",
       "      <td>-0.997614</td>\n",
       "      <td>-0.925260</td>\n",
       "      <td>-0.965450</td>\n",
       "      <td>-0.528501</td>\n",
       "      <td>-0.591531</td>\n",
       "      <td>-1.848154</td>\n",
       "      <td>-1.843491</td>\n",
       "      <td>0.725860</td>\n",
       "      <td>0.641318</td>\n",
       "      <td>-0.978712</td>\n",
       "      <td>...</td>\n",
       "      <td>-0.090212</td>\n",
       "      <td>-0.002578</td>\n",
       "      <td>1.077665</td>\n",
       "      <td>1.093717</td>\n",
       "      <td>-0.297503</td>\n",
       "      <td>-0.591732</td>\n",
       "      <td>-0.293837</td>\n",
       "      <td>-0.007047</td>\n",
       "      <td>-0.507999</td>\n",
       "      <td>0.063442</td>\n",
       "    </tr>\n",
       "  </tbody>\n",
       "</table>\n",
       "<p>5 rows × 57 columns</p>\n",
       "</div>"
      ],
      "text/plain": [
       "      No_HH     TOT_M     TOT_F      M_06      F_06      M_SC      F_SC  \\\n",
       "0 -1.285328 -0.827894 -0.970115 -0.415835 -0.326217 -1.967062 -2.042753   \n",
       "1 -1.422744 -0.962589 -1.155280 -0.647290 -0.761472 -1.925311 -1.961897   \n",
       "2 -1.621670 -1.658668 -1.629688 -1.620122 -1.643413 -1.967062 -1.961897   \n",
       "3 -2.213737 -2.068805 -2.114478 -1.952413 -1.863104 -2.026171 -2.042753   \n",
       "4 -0.997614 -0.925260 -0.965450 -0.528501 -0.591531 -1.848154 -1.843491   \n",
       "\n",
       "       M_ST      F_ST     M_LIT  ...  MARG_CL_0_3_M  MARG_CL_0_3_F  \\\n",
       "0  0.025864 -0.066315 -0.971174  ...       0.177944      -0.816800   \n",
       "1 -0.582304 -0.662574 -1.141278  ...      -0.548584      -0.852232   \n",
       "2  0.565625  0.580173 -1.655499  ...      -1.657718      -1.718183   \n",
       "3  0.160839  0.123480 -2.092029  ...      -1.312167      -1.563264   \n",
       "4  0.725860  0.641318 -0.978712  ...      -0.090212      -0.002578   \n",
       "\n",
       "   MARG_AL_0_3_M  MARG_AL_0_3_F  MARG_HH_0_3_M  MARG_HH_0_3_F  MARG_OT_0_3_M  \\\n",
       "0       0.322411      -0.065841       0.630256      -0.695718      -0.083657   \n",
       "1       0.039554      -0.090361      -0.363101      -0.975907       0.591965   \n",
       "2      -0.668421      -0.726465      -2.148050      -1.581237      -2.376531   \n",
       "3      -0.452195      -0.490593      -1.712404      -1.443823      -1.412051   \n",
       "4       1.077665       1.093717      -0.297503      -0.591732      -0.293837   \n",
       "\n",
       "   MARG_OT_0_3_F  NON_WORK_M  NON_WORK_F  \n",
       "0      -0.594297   -0.209491   -0.622097  \n",
       "1       0.408850   -0.704613   -0.848194  \n",
       "2      -1.901413   -1.229241   -1.522093  \n",
       "3      -1.488092   -0.845674   -1.543417  \n",
       "4      -0.007047   -0.507999    0.063442  \n",
       "\n",
       "[5 rows x 57 columns]"
      ]
     },
     "execution_count": 198,
     "metadata": {},
     "output_type": "execute_result"
    }
   ],
   "source": [
    "df_scaled.head()"
   ]
  },
  {
   "cell_type": "code",
   "execution_count": 199,
   "id": "ee1401a9",
   "metadata": {},
   "outputs": [],
   "source": [
    "pca = PCA(n_components=0.90)"
   ]
  },
  {
   "cell_type": "code",
   "execution_count": 200,
   "id": "c26f310b",
   "metadata": {},
   "outputs": [
    {
     "data": {
      "text/html": [
       "<style>#sk-container-id-6 {color: black;background-color: white;}#sk-container-id-6 pre{padding: 0;}#sk-container-id-6 div.sk-toggleable {background-color: white;}#sk-container-id-6 label.sk-toggleable__label {cursor: pointer;display: block;width: 100%;margin-bottom: 0;padding: 0.3em;box-sizing: border-box;text-align: center;}#sk-container-id-6 label.sk-toggleable__label-arrow:before {content: \"▸\";float: left;margin-right: 0.25em;color: #696969;}#sk-container-id-6 label.sk-toggleable__label-arrow:hover:before {color: black;}#sk-container-id-6 div.sk-estimator:hover label.sk-toggleable__label-arrow:before {color: black;}#sk-container-id-6 div.sk-toggleable__content {max-height: 0;max-width: 0;overflow: hidden;text-align: left;background-color: #f0f8ff;}#sk-container-id-6 div.sk-toggleable__content pre {margin: 0.2em;color: black;border-radius: 0.25em;background-color: #f0f8ff;}#sk-container-id-6 input.sk-toggleable__control:checked~div.sk-toggleable__content {max-height: 200px;max-width: 100%;overflow: auto;}#sk-container-id-6 input.sk-toggleable__control:checked~label.sk-toggleable__label-arrow:before {content: \"▾\";}#sk-container-id-6 div.sk-estimator input.sk-toggleable__control:checked~label.sk-toggleable__label {background-color: #d4ebff;}#sk-container-id-6 div.sk-label input.sk-toggleable__control:checked~label.sk-toggleable__label {background-color: #d4ebff;}#sk-container-id-6 input.sk-hidden--visually {border: 0;clip: rect(1px 1px 1px 1px);clip: rect(1px, 1px, 1px, 1px);height: 1px;margin: -1px;overflow: hidden;padding: 0;position: absolute;width: 1px;}#sk-container-id-6 div.sk-estimator {font-family: monospace;background-color: #f0f8ff;border: 1px dotted black;border-radius: 0.25em;box-sizing: border-box;margin-bottom: 0.5em;}#sk-container-id-6 div.sk-estimator:hover {background-color: #d4ebff;}#sk-container-id-6 div.sk-parallel-item::after {content: \"\";width: 100%;border-bottom: 1px solid gray;flex-grow: 1;}#sk-container-id-6 div.sk-label:hover label.sk-toggleable__label {background-color: #d4ebff;}#sk-container-id-6 div.sk-serial::before {content: \"\";position: absolute;border-left: 1px solid gray;box-sizing: border-box;top: 0;bottom: 0;left: 50%;z-index: 0;}#sk-container-id-6 div.sk-serial {display: flex;flex-direction: column;align-items: center;background-color: white;padding-right: 0.2em;padding-left: 0.2em;position: relative;}#sk-container-id-6 div.sk-item {position: relative;z-index: 1;}#sk-container-id-6 div.sk-parallel {display: flex;align-items: stretch;justify-content: center;background-color: white;position: relative;}#sk-container-id-6 div.sk-item::before, #sk-container-id-6 div.sk-parallel-item::before {content: \"\";position: absolute;border-left: 1px solid gray;box-sizing: border-box;top: 0;bottom: 0;left: 50%;z-index: -1;}#sk-container-id-6 div.sk-parallel-item {display: flex;flex-direction: column;z-index: 1;position: relative;background-color: white;}#sk-container-id-6 div.sk-parallel-item:first-child::after {align-self: flex-end;width: 50%;}#sk-container-id-6 div.sk-parallel-item:last-child::after {align-self: flex-start;width: 50%;}#sk-container-id-6 div.sk-parallel-item:only-child::after {width: 0;}#sk-container-id-6 div.sk-dashed-wrapped {border: 1px dashed gray;margin: 0 0.4em 0.5em 0.4em;box-sizing: border-box;padding-bottom: 0.4em;background-color: white;}#sk-container-id-6 div.sk-label label {font-family: monospace;font-weight: bold;display: inline-block;line-height: 1.2em;}#sk-container-id-6 div.sk-label-container {text-align: center;}#sk-container-id-6 div.sk-container {/* jupyter's `normalize.less` sets `[hidden] { display: none; }` but bootstrap.min.css set `[hidden] { display: none !important; }` so we also need the `!important` here to be able to override the default hidden behavior on the sphinx rendered scikit-learn.org. See: https://github.com/scikit-learn/scikit-learn/issues/21755 */display: inline-block !important;position: relative;}#sk-container-id-6 div.sk-text-repr-fallback {display: none;}</style><div id=\"sk-container-id-6\" class=\"sk-top-container\"><div class=\"sk-text-repr-fallback\"><pre>PCA(n_components=0.9)</pre><b>In a Jupyter environment, please rerun this cell to show the HTML representation or trust the notebook. <br />On GitHub, the HTML representation is unable to render, please try loading this page with nbviewer.org.</b></div><div class=\"sk-container\" hidden><div class=\"sk-item\"><div class=\"sk-estimator sk-toggleable\"><input class=\"sk-toggleable__control sk-hidden--visually\" id=\"sk-estimator-id-6\" type=\"checkbox\" checked><label for=\"sk-estimator-id-6\" class=\"sk-toggleable__label sk-toggleable__label-arrow\">PCA</label><div class=\"sk-toggleable__content\"><pre>PCA(n_components=0.9)</pre></div></div></div></div></div>"
      ],
      "text/plain": [
       "PCA(n_components=0.9)"
      ]
     },
     "execution_count": 200,
     "metadata": {},
     "output_type": "execute_result"
    }
   ],
   "source": [
    "pca"
   ]
  },
  {
   "cell_type": "code",
   "execution_count": 201,
   "id": "fdf49a8e",
   "metadata": {},
   "outputs": [],
   "source": [
    "output = pca.fit_transform(df_scaled)"
   ]
  },
  {
   "cell_type": "code",
   "execution_count": 202,
   "id": "492d3a13",
   "metadata": {},
   "outputs": [
    {
     "data": {
      "text/plain": [
       "<AxesSubplot:>"
      ]
     },
     "execution_count": 202,
     "metadata": {},
     "output_type": "execute_result"
    },
    {
     "data": {
      "image/png": "[encoded data removed]",
      "text/plain": [
       "<Figure size 432x288 with 1 Axes>"
      ]
     },
     "metadata": {
      "needs_background": "light"
     },
     "output_type": "display_data"
    }
   ],
   "source": [
    "sns.lineplot(x=range(1,pca.explained_variance_ratio_.shape[0]+1),y=np.cumsum(pca.explained_variance_ratio_),drawstyle='steps-pre')"
   ]
  },
  {
   "cell_type": "code",
   "execution_count": 203,
   "id": "a2d8644d",
   "metadata": {},
   "outputs": [
    {
     "data": {
      "text/plain": [
       "array([0.69697691, 0.81518473, 0.8692359 , 0.90640842])"
      ]
     },
     "execution_count": 203,
     "metadata": {},
     "output_type": "execute_result"
    }
   ],
   "source": [
    "np.cumsum(pca.explained_variance_ratio_)"
   ]
  },
  {
   "cell_type": "code",
   "execution_count": 205,
   "id": "7af94cf6",
   "metadata": {},
   "outputs": [
    {
     "data": {
      "text/plain": [
       "<AxesSubplot:>"
      ]
     },
     "execution_count": 205,
     "metadata": {},
     "output_type": "execute_result"
    },
    {
     "data": {
      "text/plain": [
       "<Figure size 360x720 with 0 Axes>"
      ]
     },
     "metadata": {},
     "output_type": "display_data"
    },
    {
     "data": {
      "image/png": "[encoded data removed]",
      "text/plain": [
       "<Figure size 432x288 with 1 Axes>"
      ]
     },
     "metadata": {
      "needs_background": "light"
     },
     "output_type": "display_data"
    }
   ],
   "source": [
    "plt.figure(figsize=(5,10))\n",
    "fig,ax = plt.subplots()\n",
    "sns.barplot(x=np.arange(1,5),y=pca.explained_variance_ratio_,ax=ax,alpha=0.5)\n",
    "sns.lineplot(x=range(1,pca.explained_variance_ratio_.shape[0]+1),y=np.cumsum(pca.explained_variance_ratio_),drawstyle='steps-pre',ax=ax)"
   ]
  },
  {
   "cell_type": "code",
   "execution_count": 206,
   "id": "7bf98390",
   "metadata": {},
   "outputs": [
    {
     "data": {
      "text/plain": [
       "<AxesSubplot:>"
      ]
     },
     "execution_count": 206,
     "metadata": {},
     "output_type": "execute_result"
    },
    {
     "data": {
      "image/png": "[encoded data removed]",
      "text/plain": [
       "<Figure size 432x288 with 1 Axes>"
      ]
     },
     "metadata": {
      "needs_background": "light"
     },
     "output_type": "display_data"
    }
   ],
   "source": [
    "sns.lineplot(x=range(1,pca.explained_variance_ratio_.shape[0]+1),y=np.cumsum(pca.explained_variance_ratio_),drawstyle='steps-pre')"
   ]
  },
  {
   "cell_type": "code",
   "execution_count": 208,
   "id": "85832edb",
   "metadata": {},
   "outputs": [
    {
     "data": {
      "image/png": "[encoded data removed]",
      "text/plain": [
       "<Figure size 432x288 with 1 Axes>"
      ]
     },
     "metadata": {
      "needs_background": "light"
     },
     "output_type": "display_data"
    }
   ],
   "source": [
    "sns.lineplot(x=np.arange(1,5),y=pca.explained_variance_ratio_,markers=[\"o\"]);"
   ]
  },
  {
   "cell_type": "code",
   "execution_count": 209,
   "id": "50d0ae06",
   "metadata": {},
   "outputs": [
    {
     "data": {
      "text/plain": [
       "array([0.69697691, 0.81518473, 0.8692359 , 0.90640842])"
      ]
     },
     "execution_count": 209,
     "metadata": {},
     "output_type": "execute_result"
    }
   ],
   "source": [
    "np.cumsum(pca.explained_variance_ratio_)"
   ]
  },
  {
   "cell_type": "code",
   "execution_count": 210,
   "id": "dbb51dd4",
   "metadata": {},
   "outputs": [
    {
     "data": {
      "text/plain": [
       "array([0.69697691, 0.11820782, 0.05405117, 0.03717253])"
      ]
     },
     "execution_count": 210,
     "metadata": {},
     "output_type": "execute_result"
    }
   ],
   "source": [
    "pca.explained_variance_ratio_"
   ]
  },
  {
   "cell_type": "code",
   "execution_count": 211,
   "id": "626f61d0",
   "metadata": {},
   "outputs": [
    {
     "data": {
      "text/plain": [
       "(640, 4)"
      ]
     },
     "execution_count": 211,
     "metadata": {},
     "output_type": "execute_result"
    }
   ],
   "source": [
    "output.shape"
   ]
  },
  {
   "cell_type": "code",
   "execution_count": 212,
   "id": "260b2261",
   "metadata": {},
   "outputs": [
    {
     "data": {
      "text/plain": [
       "(4, 57)"
      ]
     },
     "execution_count": 212,
     "metadata": {},
     "output_type": "execute_result"
    }
   ],
   "source": [
    "pca.components_.shape"
   ]
  },
  {
   "cell_type": "code",
   "execution_count": 213,
   "id": "045e1ffa",
   "metadata": {},
   "outputs": [
    {
     "data": {
      "text/html": [
       "<div>\n",
       "<style scoped>\n",
       "    .dataframe tbody tr th:only-of-type {\n",
       "        vertical-align: middle;\n",
       "    }\n",
       "\n",
       "    .dataframe tbody tr th {\n",
       "        vertical-align: top;\n",
       "    }\n",
       "\n",
       "    .dataframe thead th {\n",
       "        text-align: right;\n",
       "    }\n",
       "</style>\n",
       "<table border=\"1\" class=\"dataframe\">\n",
       "  <thead>\n",
       "    <tr style=\"text-align: right;\">\n",
       "      <th></th>\n",
       "      <th>0</th>\n",
       "      <th>1</th>\n",
       "      <th>2</th>\n",
       "      <th>3</th>\n",
       "    </tr>\n",
       "  </thead>\n",
       "  <tbody>\n",
       "    <tr>\n",
       "      <th>0</th>\n",
       "      <td>5.709755</td>\n",
       "      <td>-1.343404</td>\n",
       "      <td>-2.232624</td>\n",
       "      <td>-1.600150</td>\n",
       "    </tr>\n",
       "    <tr>\n",
       "      <th>1</th>\n",
       "      <td>5.860674</td>\n",
       "      <td>-0.620523</td>\n",
       "      <td>-2.754531</td>\n",
       "      <td>-2.123793</td>\n",
       "    </tr>\n",
       "    <tr>\n",
       "      <th>2</th>\n",
       "      <td>10.879729</td>\n",
       "      <td>-0.700656</td>\n",
       "      <td>-0.194049</td>\n",
       "      <td>1.888742</td>\n",
       "    </tr>\n",
       "    <tr>\n",
       "      <th>3</th>\n",
       "      <td>13.210620</td>\n",
       "      <td>-0.712710</td>\n",
       "      <td>-1.051717</td>\n",
       "      <td>-0.557300</td>\n",
       "    </tr>\n",
       "    <tr>\n",
       "      <th>4</th>\n",
       "      <td>5.168499</td>\n",
       "      <td>-3.171927</td>\n",
       "      <td>-1.548756</td>\n",
       "      <td>0.582625</td>\n",
       "    </tr>\n",
       "    <tr>\n",
       "      <th>...</th>\n",
       "      <td>...</td>\n",
       "      <td>...</td>\n",
       "      <td>...</td>\n",
       "      <td>...</td>\n",
       "    </tr>\n",
       "    <tr>\n",
       "      <th>635</th>\n",
       "      <td>14.641438</td>\n",
       "      <td>5.443704</td>\n",
       "      <td>-1.053806</td>\n",
       "      <td>-0.860970</td>\n",
       "    </tr>\n",
       "    <tr>\n",
       "      <th>636</th>\n",
       "      <td>9.477882</td>\n",
       "      <td>3.845752</td>\n",
       "      <td>-0.417654</td>\n",
       "      <td>-2.073315</td>\n",
       "    </tr>\n",
       "    <tr>\n",
       "      <th>637</th>\n",
       "      <td>14.011491</td>\n",
       "      <td>2.299677</td>\n",
       "      <td>-1.428141</td>\n",
       "      <td>-2.490462</td>\n",
       "    </tr>\n",
       "    <tr>\n",
       "      <th>638</th>\n",
       "      <td>12.733274</td>\n",
       "      <td>1.284046</td>\n",
       "      <td>-1.401977</td>\n",
       "      <td>-0.002303</td>\n",
       "    </tr>\n",
       "    <tr>\n",
       "      <th>639</th>\n",
       "      <td>10.731311</td>\n",
       "      <td>3.448045</td>\n",
       "      <td>-0.812753</td>\n",
       "      <td>0.159361</td>\n",
       "    </tr>\n",
       "  </tbody>\n",
       "</table>\n",
       "<p>640 rows × 4 columns</p>\n",
       "</div>"
      ],
      "text/plain": [
       "             0         1         2         3\n",
       "0     5.709755 -1.343404 -2.232624 -1.600150\n",
       "1     5.860674 -0.620523 -2.754531 -2.123793\n",
       "2    10.879729 -0.700656 -0.194049  1.888742\n",
       "3    13.210620 -0.712710 -1.051717 -0.557300\n",
       "4     5.168499 -3.171927 -1.548756  0.582625\n",
       "..         ...       ...       ...       ...\n",
       "635  14.641438  5.443704 -1.053806 -0.860970\n",
       "636   9.477882  3.845752 -0.417654 -2.073315\n",
       "637  14.011491  2.299677 -1.428141 -2.490462\n",
       "638  12.733274  1.284046 -1.401977 -0.002303\n",
       "639  10.731311  3.448045 -0.812753  0.159361\n",
       "\n",
       "[640 rows x 4 columns]"
      ]
     },
     "execution_count": 213,
     "metadata": {},
     "output_type": "execute_result"
    }
   ],
   "source": [
    "df_scaled@pca.components_.T"
   ]
  },
  {
   "cell_type": "code",
   "execution_count": 224,
   "id": "dde82f27",
   "metadata": {},
   "outputs": [],
   "source": [
    "eigens = pd.DataFrame(pca.components_.T,columns=['PC1','PC2','PC3','PC4'],index=df_scaled.columns)"
   ]
  },
  {
   "cell_type": "code",
   "execution_count": 225,
   "id": "0c08fe4b",
   "metadata": {},
   "outputs": [
    {
     "data": {
      "text/html": [
       "<div>\n",
       "<style scoped>\n",
       "    .dataframe tbody tr th:only-of-type {\n",
       "        vertical-align: middle;\n",
       "    }\n",
       "\n",
       "    .dataframe tbody tr th {\n",
       "        vertical-align: top;\n",
       "    }\n",
       "\n",
       "    .dataframe thead th {\n",
       "        text-align: right;\n",
       "    }\n",
       "</style>\n",
       "<table border=\"1\" class=\"dataframe\">\n",
       "  <thead>\n",
       "    <tr style=\"text-align: right;\">\n",
       "      <th></th>\n",
       "      <th>PC1</th>\n",
       "      <th>PC2</th>\n",
       "      <th>PC3</th>\n",
       "      <th>PC4</th>\n",
       "    </tr>\n",
       "  </thead>\n",
       "  <tbody>\n",
       "    <tr>\n",
       "      <th>No_HH</th>\n",
       "      <td>-0.147377</td>\n",
       "      <td>0.101351</td>\n",
       "      <td>0.085877</td>\n",
       "      <td>0.083603</td>\n",
       "    </tr>\n",
       "    <tr>\n",
       "      <th>TOT_M</th>\n",
       "      <td>-0.151309</td>\n",
       "      <td>0.092560</td>\n",
       "      <td>-0.032651</td>\n",
       "      <td>0.056497</td>\n",
       "    </tr>\n",
       "    <tr>\n",
       "      <th>TOT_F</th>\n",
       "      <td>-0.151335</td>\n",
       "      <td>0.093750</td>\n",
       "      <td>0.023343</td>\n",
       "      <td>0.077022</td>\n",
       "    </tr>\n",
       "    <tr>\n",
       "      <th>M_06</th>\n",
       "      <td>-0.150112</td>\n",
       "      <td>0.046301</td>\n",
       "      <td>-0.069030</td>\n",
       "      <td>0.032968</td>\n",
       "    </tr>\n",
       "    <tr>\n",
       "      <th>F_06</th>\n",
       "      <td>-0.150623</td>\n",
       "      <td>0.040524</td>\n",
       "      <td>-0.058704</td>\n",
       "      <td>0.026402</td>\n",
       "    </tr>\n",
       "    <tr>\n",
       "      <th>M_SC</th>\n",
       "      <td>-0.137523</td>\n",
       "      <td>0.092059</td>\n",
       "      <td>-0.048410</td>\n",
       "      <td>-0.026662</td>\n",
       "    </tr>\n",
       "    <tr>\n",
       "      <th>F_SC</th>\n",
       "      <td>-0.138181</td>\n",
       "      <td>0.090414</td>\n",
       "      <td>-0.003938</td>\n",
       "      <td>-0.020230</td>\n",
       "    </tr>\n",
       "    <tr>\n",
       "      <th>M_ST</th>\n",
       "      <td>-0.016571</td>\n",
       "      <td>-0.126517</td>\n",
       "      <td>0.378308</td>\n",
       "      <td>0.214351</td>\n",
       "    </tr>\n",
       "    <tr>\n",
       "      <th>F_ST</th>\n",
       "      <td>-0.016321</td>\n",
       "      <td>-0.125635</td>\n",
       "      <td>0.389950</td>\n",
       "      <td>0.208852</td>\n",
       "    </tr>\n",
       "    <tr>\n",
       "      <th>M_LIT</th>\n",
       "      <td>-0.148593</td>\n",
       "      <td>0.111926</td>\n",
       "      <td>-0.027507</td>\n",
       "      <td>0.087933</td>\n",
       "    </tr>\n",
       "    <tr>\n",
       "      <th>F_LIT</th>\n",
       "      <td>-0.142765</td>\n",
       "      <td>0.129912</td>\n",
       "      <td>-0.003030</td>\n",
       "      <td>0.132626</td>\n",
       "    </tr>\n",
       "    <tr>\n",
       "      <th>M_ILL</th>\n",
       "      <td>-0.149660</td>\n",
       "      <td>0.033456</td>\n",
       "      <td>-0.042474</td>\n",
       "      <td>-0.027755</td>\n",
       "    </tr>\n",
       "    <tr>\n",
       "      <th>F_ILL</th>\n",
       "      <td>-0.152330</td>\n",
       "      <td>0.030832</td>\n",
       "      <td>0.059888</td>\n",
       "      <td>-0.013460</td>\n",
       "    </tr>\n",
       "    <tr>\n",
       "      <th>TOT_WORK_M</th>\n",
       "      <td>-0.148273</td>\n",
       "      <td>0.119446</td>\n",
       "      <td>0.000358</td>\n",
       "      <td>0.069111</td>\n",
       "    </tr>\n",
       "    <tr>\n",
       "      <th>TOT_WORK_F</th>\n",
       "      <td>-0.143486</td>\n",
       "      <td>0.044660</td>\n",
       "      <td>0.170599</td>\n",
       "      <td>0.137463</td>\n",
       "    </tr>\n",
       "    <tr>\n",
       "      <th>MAINWORK_M</th>\n",
       "      <td>-0.140444</td>\n",
       "      <td>0.156417</td>\n",
       "      <td>0.020287</td>\n",
       "      <td>0.094801</td>\n",
       "    </tr>\n",
       "    <tr>\n",
       "      <th>MAINWORK_F</th>\n",
       "      <td>-0.132230</td>\n",
       "      <td>0.103067</td>\n",
       "      <td>0.197367</td>\n",
       "      <td>0.164802</td>\n",
       "    </tr>\n",
       "    <tr>\n",
       "      <th>MAIN_CL_M</th>\n",
       "      <td>-0.117770</td>\n",
       "      <td>-0.074077</td>\n",
       "      <td>0.017133</td>\n",
       "      <td>0.019703</td>\n",
       "    </tr>\n",
       "    <tr>\n",
       "      <th>MAIN_CL_F</th>\n",
       "      <td>-0.092190</td>\n",
       "      <td>-0.152775</td>\n",
       "      <td>0.164274</td>\n",
       "      <td>0.217903</td>\n",
       "    </tr>\n",
       "    <tr>\n",
       "      <th>MAIN_AL_M</th>\n",
       "      <td>-0.127799</td>\n",
       "      <td>0.038873</td>\n",
       "      <td>0.205564</td>\n",
       "      <td>-0.178463</td>\n",
       "    </tr>\n",
       "    <tr>\n",
       "      <th>MAIN_AL_F</th>\n",
       "      <td>-0.114135</td>\n",
       "      <td>0.016923</td>\n",
       "      <td>0.342660</td>\n",
       "      <td>-0.087503</td>\n",
       "    </tr>\n",
       "    <tr>\n",
       "      <th>MAIN_HH_M</th>\n",
       "      <td>-0.141531</td>\n",
       "      <td>0.114393</td>\n",
       "      <td>-0.078327</td>\n",
       "      <td>-0.039917</td>\n",
       "    </tr>\n",
       "    <tr>\n",
       "      <th>MAIN_HH_F</th>\n",
       "      <td>-0.136626</td>\n",
       "      <td>0.103082</td>\n",
       "      <td>0.043168</td>\n",
       "      <td>-0.056577</td>\n",
       "    </tr>\n",
       "    <tr>\n",
       "      <th>MAIN_OT_M</th>\n",
       "      <td>-0.128239</td>\n",
       "      <td>0.194597</td>\n",
       "      <td>-0.020777</td>\n",
       "      <td>0.151633</td>\n",
       "    </tr>\n",
       "    <tr>\n",
       "      <th>MAIN_OT_F</th>\n",
       "      <td>-0.125251</td>\n",
       "      <td>0.181302</td>\n",
       "      <td>0.082160</td>\n",
       "      <td>0.189649</td>\n",
       "    </tr>\n",
       "    <tr>\n",
       "      <th>MARGWORK_M</th>\n",
       "      <td>-0.152230</td>\n",
       "      <td>-0.056152</td>\n",
       "      <td>-0.070372</td>\n",
       "      <td>-0.053799</td>\n",
       "    </tr>\n",
       "    <tr>\n",
       "      <th>MARGWORK_F</th>\n",
       "      <td>-0.146591</td>\n",
       "      <td>-0.102740</td>\n",
       "      <td>0.073409</td>\n",
       "      <td>0.030294</td>\n",
       "    </tr>\n",
       "    <tr>\n",
       "      <th>MARG_CL_M</th>\n",
       "      <td>-0.098141</td>\n",
       "      <td>-0.268081</td>\n",
       "      <td>-0.156559</td>\n",
       "      <td>0.121589</td>\n",
       "    </tr>\n",
       "    <tr>\n",
       "      <th>MARG_CL_F</th>\n",
       "      <td>-0.082079</td>\n",
       "      <td>-0.287538</td>\n",
       "      <td>-0.082710</td>\n",
       "      <td>0.228714</td>\n",
       "    </tr>\n",
       "    <tr>\n",
       "      <th>MARG_AL_M</th>\n",
       "      <td>-0.131923</td>\n",
       "      <td>-0.130305</td>\n",
       "      <td>0.072405</td>\n",
       "      <td>-0.266050</td>\n",
       "    </tr>\n",
       "    <tr>\n",
       "      <th>MARG_AL_F</th>\n",
       "      <td>-0.123415</td>\n",
       "      <td>-0.130889</td>\n",
       "      <td>0.238312</td>\n",
       "      <td>-0.180661</td>\n",
       "    </tr>\n",
       "    <tr>\n",
       "      <th>MARG_HH_M</th>\n",
       "      <td>-0.143634</td>\n",
       "      <td>-0.020267</td>\n",
       "      <td>-0.129563</td>\n",
       "      <td>-0.145418</td>\n",
       "    </tr>\n",
       "    <tr>\n",
       "      <th>MARG_HH_F</th>\n",
       "      <td>-0.140814</td>\n",
       "      <td>-0.003685</td>\n",
       "      <td>-0.063725</td>\n",
       "      <td>-0.134847</td>\n",
       "    </tr>\n",
       "    <tr>\n",
       "      <th>MARG_OT_M</th>\n",
       "      <td>-0.145964</td>\n",
       "      <td>0.089496</td>\n",
       "      <td>-0.106903</td>\n",
       "      <td>0.042591</td>\n",
       "    </tr>\n",
       "    <tr>\n",
       "      <th>MARG_OT_F</th>\n",
       "      <td>-0.144871</td>\n",
       "      <td>0.087225</td>\n",
       "      <td>-0.031987</td>\n",
       "      <td>0.082314</td>\n",
       "    </tr>\n",
       "    <tr>\n",
       "      <th>MARGWORK_3_6_M</th>\n",
       "      <td>-0.150896</td>\n",
       "      <td>0.065982</td>\n",
       "      <td>-0.060015</td>\n",
       "      <td>0.042412</td>\n",
       "    </tr>\n",
       "    <tr>\n",
       "      <th>MARGWORK_3_6_F</th>\n",
       "      <td>-0.148579</td>\n",
       "      <td>0.109814</td>\n",
       "      <td>-0.046343</td>\n",
       "      <td>0.042769</td>\n",
       "    </tr>\n",
       "    <tr>\n",
       "      <th>MARG_CL_3_6_M</th>\n",
       "      <td>-0.152972</td>\n",
       "      <td>-0.042615</td>\n",
       "      <td>-0.056218</td>\n",
       "      <td>-0.067441</td>\n",
       "    </tr>\n",
       "    <tr>\n",
       "      <th>MARG_CL_3_6_F</th>\n",
       "      <td>-0.147000</td>\n",
       "      <td>-0.088620</td>\n",
       "      <td>0.095888</td>\n",
       "      <td>0.033196</td>\n",
       "    </tr>\n",
       "    <tr>\n",
       "      <th>MARG_AL_3_6_M</th>\n",
       "      <td>-0.105209</td>\n",
       "      <td>-0.252872</td>\n",
       "      <td>-0.143611</td>\n",
       "      <td>0.097053</td>\n",
       "    </tr>\n",
       "    <tr>\n",
       "      <th>MARG_AL_3_6_F</th>\n",
       "      <td>-0.085029</td>\n",
       "      <td>-0.277863</td>\n",
       "      <td>-0.063500</td>\n",
       "      <td>0.238838</td>\n",
       "    </tr>\n",
       "    <tr>\n",
       "      <th>MARG_HH_3_6_M</th>\n",
       "      <td>-0.132252</td>\n",
       "      <td>-0.122618</td>\n",
       "      <td>0.083696</td>\n",
       "      <td>-0.267015</td>\n",
       "    </tr>\n",
       "    <tr>\n",
       "      <th>MARG_HH_3_6_F</th>\n",
       "      <td>-0.122174</td>\n",
       "      <td>-0.121983</td>\n",
       "      <td>0.258052</td>\n",
       "      <td>-0.171363</td>\n",
       "    </tr>\n",
       "    <tr>\n",
       "      <th>MARG_OT_3_6_M</th>\n",
       "      <td>-0.143973</td>\n",
       "      <td>-0.013881</td>\n",
       "      <td>-0.124753</td>\n",
       "      <td>-0.144412</td>\n",
       "    </tr>\n",
       "    <tr>\n",
       "      <th>MARG_OT_3_6_F</th>\n",
       "      <td>-0.140541</td>\n",
       "      <td>0.004112</td>\n",
       "      <td>-0.058446</td>\n",
       "      <td>-0.127326</td>\n",
       "    </tr>\n",
       "    <tr>\n",
       "      <th>MARGWORK_0_3_M</th>\n",
       "      <td>-0.145745</td>\n",
       "      <td>0.094198</td>\n",
       "      <td>-0.105291</td>\n",
       "      <td>0.040269</td>\n",
       "    </tr>\n",
       "    <tr>\n",
       "      <th>MARGWORK_0_3_F</th>\n",
       "      <td>-0.144284</td>\n",
       "      <td>0.097917</td>\n",
       "      <td>-0.032499</td>\n",
       "      <td>0.081510</td>\n",
       "    </tr>\n",
       "    <tr>\n",
       "      <th>MARG_CL_0_3_M</th>\n",
       "      <td>-0.142254</td>\n",
       "      <td>-0.107081</td>\n",
       "      <td>-0.125304</td>\n",
       "      <td>-0.006186</td>\n",
       "    </tr>\n",
       "    <tr>\n",
       "      <th>MARG_CL_0_3_F</th>\n",
       "      <td>-0.138296</td>\n",
       "      <td>-0.146494</td>\n",
       "      <td>-0.005353</td>\n",
       "      <td>0.010925</td>\n",
       "    </tr>\n",
       "    <tr>\n",
       "      <th>MARG_AL_0_3_M</th>\n",
       "      <td>-0.071551</td>\n",
       "      <td>-0.298850</td>\n",
       "      <td>-0.176435</td>\n",
       "      <td>0.143947</td>\n",
       "    </tr>\n",
       "    <tr>\n",
       "      <th>MARG_AL_0_3_F</th>\n",
       "      <td>-0.067580</td>\n",
       "      <td>-0.310835</td>\n",
       "      <td>-0.131581</td>\n",
       "      <td>0.164965</td>\n",
       "    </tr>\n",
       "    <tr>\n",
       "      <th>MARG_HH_0_3_M</th>\n",
       "      <td>-0.126138</td>\n",
       "      <td>-0.159828</td>\n",
       "      <td>0.013960</td>\n",
       "      <td>-0.253642</td>\n",
       "    </tr>\n",
       "    <tr>\n",
       "      <th>MARG_HH_0_3_F</th>\n",
       "      <td>-0.122877</td>\n",
       "      <td>-0.161266</td>\n",
       "      <td>0.149202</td>\n",
       "      <td>-0.210395</td>\n",
       "    </tr>\n",
       "    <tr>\n",
       "      <th>MARG_OT_0_3_M</th>\n",
       "      <td>-0.138118</td>\n",
       "      <td>-0.036090</td>\n",
       "      <td>-0.136844</td>\n",
       "      <td>-0.148853</td>\n",
       "    </tr>\n",
       "    <tr>\n",
       "      <th>MARG_OT_0_3_F</th>\n",
       "      <td>-0.138174</td>\n",
       "      <td>-0.022757</td>\n",
       "      <td>-0.074530</td>\n",
       "      <td>-0.154589</td>\n",
       "    </tr>\n",
       "    <tr>\n",
       "      <th>NON_WORK_M</th>\n",
       "      <td>-0.143227</td>\n",
       "      <td>0.064477</td>\n",
       "      <td>-0.111795</td>\n",
       "      <td>0.048541</td>\n",
       "    </tr>\n",
       "    <tr>\n",
       "      <th>NON_WORK_F</th>\n",
       "      <td>-0.141561</td>\n",
       "      <td>0.040392</td>\n",
       "      <td>-0.024385</td>\n",
       "      <td>0.071473</td>\n",
       "    </tr>\n",
       "  </tbody>\n",
       "</table>\n",
       "</div>"
      ],
      "text/plain": [
       "                     PC1       PC2       PC3       PC4\n",
       "No_HH          -0.147377  0.101351  0.085877  0.083603\n",
       "TOT_M          -0.151309  0.092560 -0.032651  0.056497\n",
       "TOT_F          -0.151335  0.093750  0.023343  0.077022\n",
       "M_06           -0.150112  0.046301 -0.069030  0.032968\n",
       "F_06           -0.150623  0.040524 -0.058704  0.026402\n",
       "M_SC           -0.137523  0.092059 -0.048410 -0.026662\n",
       "F_SC           -0.138181  0.090414 -0.003938 -0.020230\n",
       "M_ST           -0.016571 -0.126517  0.378308  0.214351\n",
       "F_ST           -0.016321 -0.125635  0.389950  0.208852\n",
       "M_LIT          -0.148593  0.111926 -0.027507  0.087933\n",
       "F_LIT          -0.142765  0.129912 -0.003030  0.132626\n",
       "M_ILL          -0.149660  0.033456 -0.042474 -0.027755\n",
       "F_ILL          -0.152330  0.030832  0.059888 -0.013460\n",
       "TOT_WORK_M     -0.148273  0.119446  0.000358  0.069111\n",
       "TOT_WORK_F     -0.143486  0.044660  0.170599  0.137463\n",
       "MAINWORK_M     -0.140444  0.156417  0.020287  0.094801\n",
       "MAINWORK_F     -0.132230  0.103067  0.197367  0.164802\n",
       "MAIN_CL_M      -0.117770 -0.074077  0.017133  0.019703\n",
       "MAIN_CL_F      -0.092190 -0.152775  0.164274  0.217903\n",
       "MAIN_AL_M      -0.127799  0.038873  0.205564 -0.178463\n",
       "MAIN_AL_F      -0.114135  0.016923  0.342660 -0.087503\n",
       "MAIN_HH_M      -0.141531  0.114393 -0.078327 -0.039917\n",
       "MAIN_HH_F      -0.136626  0.103082  0.043168 -0.056577\n",
       "MAIN_OT_M      -0.128239  0.194597 -0.020777  0.151633\n",
       "MAIN_OT_F      -0.125251  0.181302  0.082160  0.189649\n",
       "MARGWORK_M     -0.152230 -0.056152 -0.070372 -0.053799\n",
       "MARGWORK_F     -0.146591 -0.102740  0.073409  0.030294\n",
       "MARG_CL_M      -0.098141 -0.268081 -0.156559  0.121589\n",
       "MARG_CL_F      -0.082079 -0.287538 -0.082710  0.228714\n",
       "MARG_AL_M      -0.131923 -0.130305  0.072405 -0.266050\n",
       "MARG_AL_F      -0.123415 -0.130889  0.238312 -0.180661\n",
       "MARG_HH_M      -0.143634 -0.020267 -0.129563 -0.145418\n",
       "MARG_HH_F      -0.140814 -0.003685 -0.063725 -0.134847\n",
       "MARG_OT_M      -0.145964  0.089496 -0.106903  0.042591\n",
       "MARG_OT_F      -0.144871  0.087225 -0.031987  0.082314\n",
       "MARGWORK_3_6_M -0.150896  0.065982 -0.060015  0.042412\n",
       "MARGWORK_3_6_F -0.148579  0.109814 -0.046343  0.042769\n",
       "MARG_CL_3_6_M  -0.152972 -0.042615 -0.056218 -0.067441\n",
       "MARG_CL_3_6_F  -0.147000 -0.088620  0.095888  0.033196\n",
       "MARG_AL_3_6_M  -0.105209 -0.252872 -0.143611  0.097053\n",
       "MARG_AL_3_6_F  -0.085029 -0.277863 -0.063500  0.238838\n",
       "MARG_HH_3_6_M  -0.132252 -0.122618  0.083696 -0.267015\n",
       "MARG_HH_3_6_F  -0.122174 -0.121983  0.258052 -0.171363\n",
       "MARG_OT_3_6_M  -0.143973 -0.013881 -0.124753 -0.144412\n",
       "MARG_OT_3_6_F  -0.140541  0.004112 -0.058446 -0.127326\n",
       "MARGWORK_0_3_M -0.145745  0.094198 -0.105291  0.040269\n",
       "MARGWORK_0_3_F -0.144284  0.097917 -0.032499  0.081510\n",
       "MARG_CL_0_3_M  -0.142254 -0.107081 -0.125304 -0.006186\n",
       "MARG_CL_0_3_F  -0.138296 -0.146494 -0.005353  0.010925\n",
       "MARG_AL_0_3_M  -0.071551 -0.298850 -0.176435  0.143947\n",
       "MARG_AL_0_3_F  -0.067580 -0.310835 -0.131581  0.164965\n",
       "MARG_HH_0_3_M  -0.126138 -0.159828  0.013960 -0.253642\n",
       "MARG_HH_0_3_F  -0.122877 -0.161266  0.149202 -0.210395\n",
       "MARG_OT_0_3_M  -0.138118 -0.036090 -0.136844 -0.148853\n",
       "MARG_OT_0_3_F  -0.138174 -0.022757 -0.074530 -0.154589\n",
       "NON_WORK_M     -0.143227  0.064477 -0.111795  0.048541\n",
       "NON_WORK_F     -0.141561  0.040392 -0.024385  0.071473"
      ]
     },
     "execution_count": 225,
     "metadata": {},
     "output_type": "execute_result"
    }
   ],
   "source": [
    "eigens"
   ]
  },
  {
   "cell_type": "code",
   "execution_count": 226,
   "id": "7f042114",
   "metadata": {},
   "outputs": [
    {
     "data": {
      "text/plain": [
       "(57, 4)"
      ]
     },
     "execution_count": 226,
     "metadata": {},
     "output_type": "execute_result"
    }
   ],
   "source": [
    "eigens.shape"
   ]
  },
  {
   "cell_type": "code",
   "execution_count": 227,
   "id": "6804c9fa",
   "metadata": {},
   "outputs": [
    {
     "data": {
      "text/html": [
       "<div>\n",
       "<style scoped>\n",
       "    .dataframe tbody tr th:only-of-type {\n",
       "        vertical-align: middle;\n",
       "    }\n",
       "\n",
       "    .dataframe tbody tr th {\n",
       "        vertical-align: top;\n",
       "    }\n",
       "\n",
       "    .dataframe thead th {\n",
       "        text-align: right;\n",
       "    }\n",
       "</style>\n",
       "<table border=\"1\" class=\"dataframe\">\n",
       "  <thead>\n",
       "    <tr style=\"text-align: right;\">\n",
       "      <th></th>\n",
       "      <th>PC1</th>\n",
       "    </tr>\n",
       "  </thead>\n",
       "  <tbody>\n",
       "    <tr>\n",
       "      <th>0</th>\n",
       "      <td>5.709755</td>\n",
       "    </tr>\n",
       "    <tr>\n",
       "      <th>1</th>\n",
       "      <td>5.860674</td>\n",
       "    </tr>\n",
       "    <tr>\n",
       "      <th>2</th>\n",
       "      <td>10.879729</td>\n",
       "    </tr>\n",
       "    <tr>\n",
       "      <th>3</th>\n",
       "      <td>13.210620</td>\n",
       "    </tr>\n",
       "    <tr>\n",
       "      <th>4</th>\n",
       "      <td>5.168499</td>\n",
       "    </tr>\n",
       "    <tr>\n",
       "      <th>...</th>\n",
       "      <td>...</td>\n",
       "    </tr>\n",
       "    <tr>\n",
       "      <th>635</th>\n",
       "      <td>14.641438</td>\n",
       "    </tr>\n",
       "    <tr>\n",
       "      <th>636</th>\n",
       "      <td>9.477882</td>\n",
       "    </tr>\n",
       "    <tr>\n",
       "      <th>637</th>\n",
       "      <td>14.011491</td>\n",
       "    </tr>\n",
       "    <tr>\n",
       "      <th>638</th>\n",
       "      <td>12.733274</td>\n",
       "    </tr>\n",
       "    <tr>\n",
       "      <th>639</th>\n",
       "      <td>10.731311</td>\n",
       "    </tr>\n",
       "  </tbody>\n",
       "</table>\n",
       "<p>640 rows × 1 columns</p>\n",
       "</div>"
      ],
      "text/plain": [
       "           PC1\n",
       "0     5.709755\n",
       "1     5.860674\n",
       "2    10.879729\n",
       "3    13.210620\n",
       "4     5.168499\n",
       "..         ...\n",
       "635  14.641438\n",
       "636   9.477882\n",
       "637  14.011491\n",
       "638  12.733274\n",
       "639  10.731311\n",
       "\n",
       "[640 rows x 1 columns]"
      ]
     },
     "execution_count": 227,
     "metadata": {},
     "output_type": "execute_result"
    }
   ],
   "source": [
    "df_scaled@eigens[['PC1']]"
   ]
  },
  {
   "cell_type": "code",
   "execution_count": 228,
   "id": "ef06c8c5",
   "metadata": {},
   "outputs": [
    {
     "data": {
      "text/plain": [
       "2.255140518769849e-16"
      ]
     },
     "execution_count": 228,
     "metadata": {},
     "output_type": "execute_result"
    }
   ],
   "source": [
    "eigens.PC1@eigens.PC2.T"
   ]
  },
  {
   "cell_type": "code",
   "execution_count": 229,
   "id": "ed885aeb",
   "metadata": {},
   "outputs": [
    {
     "data": {
      "text/plain": [
       "2.255140518769849e-16"
      ]
     },
     "execution_count": 229,
     "metadata": {},
     "output_type": "execute_result"
    }
   ],
   "source": [
    "np.dot(eigens.PC1,eigens.PC2)"
   ]
  },
  {
   "cell_type": "code",
   "execution_count": 230,
   "id": "3aeb5dc2",
   "metadata": {},
   "outputs": [
    {
     "data": {
      "text/plain": [
       "(640, 4)"
      ]
     },
     "execution_count": 230,
     "metadata": {},
     "output_type": "execute_result"
    }
   ],
   "source": [
    "output.shape"
   ]
  },
  {
   "cell_type": "code",
   "execution_count": 231,
   "id": "3b83fef3",
   "metadata": {},
   "outputs": [],
   "source": [
    "df_new = pd.concat([df[[i for i in df.columns if i not in df_scaled.columns]],pd.DataFrame(output,columns=eigens.columns)],axis=1)"
   ]
  },
  {
   "cell_type": "code",
   "execution_count": 232,
   "id": "9dca70c0",
   "metadata": {},
   "outputs": [
    {
     "data": {
      "text/html": [
       "<div>\n",
       "<style scoped>\n",
       "    .dataframe tbody tr th:only-of-type {\n",
       "        vertical-align: middle;\n",
       "    }\n",
       "\n",
       "    .dataframe tbody tr th {\n",
       "        vertical-align: top;\n",
       "    }\n",
       "\n",
       "    .dataframe thead th {\n",
       "        text-align: right;\n",
       "    }\n",
       "</style>\n",
       "<table border=\"1\" class=\"dataframe\">\n",
       "  <thead>\n",
       "    <tr style=\"text-align: right;\">\n",
       "      <th></th>\n",
       "      <th>State Code</th>\n",
       "      <th>Dist.Code</th>\n",
       "      <th>State</th>\n",
       "      <th>Area Name</th>\n",
       "      <th>kind</th>\n",
       "      <th>PC1</th>\n",
       "      <th>PC2</th>\n",
       "      <th>PC3</th>\n",
       "      <th>PC4</th>\n",
       "    </tr>\n",
       "  </thead>\n",
       "  <tbody>\n",
       "    <tr>\n",
       "      <th>0</th>\n",
       "      <td>1</td>\n",
       "      <td>1</td>\n",
       "      <td>Jammu &amp; Kashmir</td>\n",
       "      <td>Kupwara</td>\n",
       "      <td>Odd</td>\n",
       "      <td>5.709755</td>\n",
       "      <td>-1.343404</td>\n",
       "      <td>-2.232624</td>\n",
       "      <td>-1.600150</td>\n",
       "    </tr>\n",
       "    <tr>\n",
       "      <th>1</th>\n",
       "      <td>1</td>\n",
       "      <td>2</td>\n",
       "      <td>Jammu &amp; Kashmir</td>\n",
       "      <td>Badgam</td>\n",
       "      <td>Odd</td>\n",
       "      <td>5.860674</td>\n",
       "      <td>-0.620523</td>\n",
       "      <td>-2.754531</td>\n",
       "      <td>-2.123793</td>\n",
       "    </tr>\n",
       "    <tr>\n",
       "      <th>2</th>\n",
       "      <td>1</td>\n",
       "      <td>3</td>\n",
       "      <td>Jammu &amp; Kashmir</td>\n",
       "      <td>Leh(Ladakh)</td>\n",
       "      <td>Odd</td>\n",
       "      <td>10.879729</td>\n",
       "      <td>-0.700656</td>\n",
       "      <td>-0.194049</td>\n",
       "      <td>1.888742</td>\n",
       "    </tr>\n",
       "    <tr>\n",
       "      <th>3</th>\n",
       "      <td>1</td>\n",
       "      <td>4</td>\n",
       "      <td>Jammu &amp; Kashmir</td>\n",
       "      <td>Kargil</td>\n",
       "      <td>Odd</td>\n",
       "      <td>13.210620</td>\n",
       "      <td>-0.712710</td>\n",
       "      <td>-1.051717</td>\n",
       "      <td>-0.557300</td>\n",
       "    </tr>\n",
       "    <tr>\n",
       "      <th>4</th>\n",
       "      <td>1</td>\n",
       "      <td>5</td>\n",
       "      <td>Jammu &amp; Kashmir</td>\n",
       "      <td>Punch</td>\n",
       "      <td>Odd</td>\n",
       "      <td>5.168499</td>\n",
       "      <td>-3.171927</td>\n",
       "      <td>-1.548756</td>\n",
       "      <td>0.582625</td>\n",
       "    </tr>\n",
       "    <tr>\n",
       "      <th>...</th>\n",
       "      <td>...</td>\n",
       "      <td>...</td>\n",
       "      <td>...</td>\n",
       "      <td>...</td>\n",
       "      <td>...</td>\n",
       "      <td>...</td>\n",
       "      <td>...</td>\n",
       "      <td>...</td>\n",
       "      <td>...</td>\n",
       "    </tr>\n",
       "    <tr>\n",
       "      <th>635</th>\n",
       "      <td>34</td>\n",
       "      <td>636</td>\n",
       "      <td>Puducherry</td>\n",
       "      <td>Mahe</td>\n",
       "      <td>Even</td>\n",
       "      <td>14.641438</td>\n",
       "      <td>5.443704</td>\n",
       "      <td>-1.053806</td>\n",
       "      <td>-0.860970</td>\n",
       "    </tr>\n",
       "    <tr>\n",
       "      <th>636</th>\n",
       "      <td>34</td>\n",
       "      <td>637</td>\n",
       "      <td>Puducherry</td>\n",
       "      <td>Karaikal</td>\n",
       "      <td>Even</td>\n",
       "      <td>9.477882</td>\n",
       "      <td>3.845752</td>\n",
       "      <td>-0.417654</td>\n",
       "      <td>-2.073315</td>\n",
       "    </tr>\n",
       "    <tr>\n",
       "      <th>637</th>\n",
       "      <td>35</td>\n",
       "      <td>638</td>\n",
       "      <td>Andaman &amp; Nicobar Island</td>\n",
       "      <td>Nicobars</td>\n",
       "      <td>Odd</td>\n",
       "      <td>14.011491</td>\n",
       "      <td>2.299677</td>\n",
       "      <td>-1.428141</td>\n",
       "      <td>-2.490462</td>\n",
       "    </tr>\n",
       "    <tr>\n",
       "      <th>638</th>\n",
       "      <td>35</td>\n",
       "      <td>639</td>\n",
       "      <td>Andaman &amp; Nicobar Island</td>\n",
       "      <td>North  &amp; Middle Andaman</td>\n",
       "      <td>Odd</td>\n",
       "      <td>12.733274</td>\n",
       "      <td>1.284046</td>\n",
       "      <td>-1.401977</td>\n",
       "      <td>-0.002303</td>\n",
       "    </tr>\n",
       "    <tr>\n",
       "      <th>639</th>\n",
       "      <td>35</td>\n",
       "      <td>640</td>\n",
       "      <td>Andaman &amp; Nicobar Island</td>\n",
       "      <td>South Andaman</td>\n",
       "      <td>Odd</td>\n",
       "      <td>10.731311</td>\n",
       "      <td>3.448045</td>\n",
       "      <td>-0.812753</td>\n",
       "      <td>0.159361</td>\n",
       "    </tr>\n",
       "  </tbody>\n",
       "</table>\n",
       "<p>640 rows × 9 columns</p>\n",
       "</div>"
      ],
      "text/plain": [
       "     State Code  Dist.Code                     State                Area Name  \\\n",
       "0             1          1           Jammu & Kashmir                  Kupwara   \n",
       "1             1          2           Jammu & Kashmir                   Badgam   \n",
       "2             1          3           Jammu & Kashmir              Leh(Ladakh)   \n",
       "3             1          4           Jammu & Kashmir                   Kargil   \n",
       "4             1          5           Jammu & Kashmir                    Punch   \n",
       "..          ...        ...                       ...                      ...   \n",
       "635          34        636                Puducherry                     Mahe   \n",
       "636          34        637                Puducherry                 Karaikal   \n",
       "637          35        638  Andaman & Nicobar Island                 Nicobars   \n",
       "638          35        639  Andaman & Nicobar Island  North  & Middle Andaman   \n",
       "639          35        640  Andaman & Nicobar Island            South Andaman   \n",
       "\n",
       "     kind        PC1       PC2       PC3       PC4  \n",
       "0     Odd   5.709755 -1.343404 -2.232624 -1.600150  \n",
       "1     Odd   5.860674 -0.620523 -2.754531 -2.123793  \n",
       "2     Odd  10.879729 -0.700656 -0.194049  1.888742  \n",
       "3     Odd  13.210620 -0.712710 -1.051717 -0.557300  \n",
       "4     Odd   5.168499 -3.171927 -1.548756  0.582625  \n",
       "..    ...        ...       ...       ...       ...  \n",
       "635  Even  14.641438  5.443704 -1.053806 -0.860970  \n",
       "636  Even   9.477882  3.845752 -0.417654 -2.073315  \n",
       "637   Odd  14.011491  2.299677 -1.428141 -2.490462  \n",
       "638   Odd  12.733274  1.284046 -1.401977 -0.002303  \n",
       "639   Odd  10.731311  3.448045 -0.812753  0.159361  \n",
       "\n",
       "[640 rows x 9 columns]"
      ]
     },
     "execution_count": 232,
     "metadata": {},
     "output_type": "execute_result"
    }
   ],
   "source": [
    "df_new"
   ]
  },
  {
   "cell_type": "code",
   "execution_count": 233,
   "id": "7dbde1de",
   "metadata": {},
   "outputs": [
    {
     "name": "stdout",
     "output_type": "stream",
     "text": [
      "<class 'pandas.core.frame.DataFrame'>\n",
      "RangeIndex: 640 entries, 0 to 639\n",
      "Data columns (total 9 columns):\n",
      " #   Column      Non-Null Count  Dtype  \n",
      "---  ------      --------------  -----  \n",
      " 0   State Code  640 non-null    int64  \n",
      " 1   Dist.Code   640 non-null    int64  \n",
      " 2   State       640 non-null    object \n",
      " 3   Area Name   640 non-null    object \n",
      " 4   kind        640 non-null    object \n",
      " 5   PC1         640 non-null    float64\n",
      " 6   PC2         640 non-null    float64\n",
      " 7   PC3         640 non-null    float64\n",
      " 8   PC4         640 non-null    float64\n",
      "dtypes: float64(4), int64(2), object(3)\n",
      "memory usage: 45.1+ KB\n"
     ]
    }
   ],
   "source": [
    "df_new.info()"
   ]
  },
  {
   "cell_type": "code",
   "execution_count": 234,
   "id": "8e8462e0",
   "metadata": {},
   "outputs": [],
   "source": [
    "df_new['kind'] = np.where(df_new['State Code']%2==0,'Even','Odd')"
   ]
  },
  {
   "cell_type": "code",
   "execution_count": 237,
   "id": "16f6589e",
   "metadata": {},
   "outputs": [
    {
     "data": {
      "image/png": "[encoded data removed]",
      "text/plain": [
       "<Figure size 432x288 with 1 Axes>"
      ]
     },
     "metadata": {
      "needs_background": "light"
     },
     "output_type": "display_data"
    }
   ],
   "source": [
    "sns.scatterplot(x='PC1',y='PC2',data = df_new, hue='kind',palette='Blues');"
   ]
  },
  {
   "cell_type": "code",
   "execution_count": null,
   "id": "18df356e",
   "metadata": {},
   "outputs": [],
   "source": []
  },
  {
   "cell_type": "code",
   "execution_count": null,
   "id": "07756219",
   "metadata": {},
   "outputs": [],
   "source": []
  },
  {
   "cell_type": "code",
   "execution_count": null,
   "id": "65442af4",
   "metadata": {},
   "outputs": [],
   "source": []
  },
  {
   "cell_type": "code",
   "execution_count": null,
   "id": "4d7557cf",
   "metadata": {},
   "outputs": [],
   "source": []
  },
  {
   "cell_type": "code",
   "execution_count": 164,
   "id": "c8393440",
   "metadata": {},
   "outputs": [
    {
     "data": {
      "text/plain": [
       "<AxesSubplot:xlabel='TOT_M', ylabel='Count'>"
      ]
     },
     "execution_count": 164,
     "metadata": {},
     "output_type": "execute_result"
    },
    {
     "data": {
      "image/png": "[encoded data removed]",
      "text/plain": [
       "<Figure size 432x288 with 1 Axes>"
      ]
     },
     "metadata": {
      "needs_background": "light"
     },
     "output_type": "display_data"
    }
   ],
   "source": [
    "sns.histplot(df.TOT_M)"
   ]
  },
  {
   "cell_type": "code",
   "execution_count": 189,
   "id": "2b1092e3",
   "metadata": {},
   "outputs": [],
   "source": [
    "from sklearn.preprocessing import PowerTransformer, MinMaxScaler,StandardScaler,RobustScaler"
   ]
  },
  {
   "cell_type": "code",
   "execution_count": 187,
   "id": "56d151e9",
   "metadata": {},
   "outputs": [],
   "source": [
    "sc = StandardScaler()"
   ]
  },
  {
   "cell_type": "code",
   "execution_count": 188,
   "id": "e1f1faad",
   "metadata": {},
   "outputs": [
    {
     "data": {
      "text/plain": [
       "<AxesSubplot:ylabel='Count'>"
      ]
     },
     "execution_count": 188,
     "metadata": {},
     "output_type": "execute_result"
    },
    {
     "data": {
      "image/png": "[encoded data removed]",
      "text/plain": [
       "<Figure size 432x288 with 1 Axes>"
      ]
     },
     "metadata": {
      "needs_background": "light"
     },
     "output_type": "display_data"
    }
   ],
   "source": [
    "sns.histplot(sc.fit_transform(df[['TOT_M']]))"
   ]
  },
  {
   "cell_type": "code",
   "execution_count": 190,
   "id": "27013e12",
   "metadata": {},
   "outputs": [],
   "source": [
    "rs = RobustScaler()"
   ]
  },
  {
   "cell_type": "code",
   "execution_count": 192,
   "id": "fdd962dd",
   "metadata": {},
   "outputs": [
    {
     "name": "stderr",
     "output_type": "stream",
     "text": [
      "c:\\users\\hp\\appdata\\local\\programs\\python\\python39\\lib\\site-packages\\seaborn\\_decorators.py:36: FutureWarning: Pass the following variable as a keyword arg: x. From version 0.12, the only valid positional argument will be `data`, and passing other arguments without an explicit keyword will result in an error or misinterpretation.\n",
      "  warnings.warn(\n"
     ]
    },
    {
     "data": {
      "text/plain": [
       "<AxesSubplot:>"
      ]
     },
     "execution_count": 192,
     "metadata": {},
     "output_type": "execute_result"
    },
    {
     "data": {
      "image/png": "[encoded data removed]",
      "text/plain": [
       "<Figure size 432x288 with 1 Axes>"
      ]
     },
     "metadata": {
      "needs_background": "light"
     },
     "output_type": "display_data"
    }
   ],
   "source": [
    "sns.boxplot(rs.fit_transform(df[['TOT_M']]))"
   ]
  },
  {
   "cell_type": "code",
   "execution_count": null,
   "id": "9aaaffc0",
   "metadata": {},
   "outputs": [],
   "source": []
  },
  {
   "cell_type": "code",
   "execution_count": 172,
   "id": "79984da9",
   "metadata": {},
   "outputs": [
    {
     "data": {
      "text/html": [
       "<style>#sk-container-id-5 {color: black;background-color: white;}#sk-container-id-5 pre{padding: 0;}#sk-container-id-5 div.sk-toggleable {background-color: white;}#sk-container-id-5 label.sk-toggleable__label {cursor: pointer;display: block;width: 100%;margin-bottom: 0;padding: 0.3em;box-sizing: border-box;text-align: center;}#sk-container-id-5 label.sk-toggleable__label-arrow:before {content: \"▸\";float: left;margin-right: 0.25em;color: #696969;}#sk-container-id-5 label.sk-toggleable__label-arrow:hover:before {color: black;}#sk-container-id-5 div.sk-estimator:hover label.sk-toggleable__label-arrow:before {color: black;}#sk-container-id-5 div.sk-toggleable__content {max-height: 0;max-width: 0;overflow: hidden;text-align: left;background-color: #f0f8ff;}#sk-container-id-5 div.sk-toggleable__content pre {margin: 0.2em;color: black;border-radius: 0.25em;background-color: #f0f8ff;}#sk-container-id-5 input.sk-toggleable__control:checked~div.sk-toggleable__content {max-height: 200px;max-width: 100%;overflow: auto;}#sk-container-id-5 input.sk-toggleable__control:checked~label.sk-toggleable__label-arrow:before {content: \"▾\";}#sk-container-id-5 div.sk-estimator input.sk-toggleable__control:checked~label.sk-toggleable__label {background-color: #d4ebff;}#sk-container-id-5 div.sk-label input.sk-toggleable__control:checked~label.sk-toggleable__label {background-color: #d4ebff;}#sk-container-id-5 input.sk-hidden--visually {border: 0;clip: rect(1px 1px 1px 1px);clip: rect(1px, 1px, 1px, 1px);height: 1px;margin: -1px;overflow: hidden;padding: 0;position: absolute;width: 1px;}#sk-container-id-5 div.sk-estimator {font-family: monospace;background-color: #f0f8ff;border: 1px dotted black;border-radius: 0.25em;box-sizing: border-box;margin-bottom: 0.5em;}#sk-container-id-5 div.sk-estimator:hover {background-color: #d4ebff;}#sk-container-id-5 div.sk-parallel-item::after {content: \"\";width: 100%;border-bottom: 1px solid gray;flex-grow: 1;}#sk-container-id-5 div.sk-label:hover label.sk-toggleable__label {background-color: #d4ebff;}#sk-container-id-5 div.sk-serial::before {content: \"\";position: absolute;border-left: 1px solid gray;box-sizing: border-box;top: 0;bottom: 0;left: 50%;z-index: 0;}#sk-container-id-5 div.sk-serial {display: flex;flex-direction: column;align-items: center;background-color: white;padding-right: 0.2em;padding-left: 0.2em;position: relative;}#sk-container-id-5 div.sk-item {position: relative;z-index: 1;}#sk-container-id-5 div.sk-parallel {display: flex;align-items: stretch;justify-content: center;background-color: white;position: relative;}#sk-container-id-5 div.sk-item::before, #sk-container-id-5 div.sk-parallel-item::before {content: \"\";position: absolute;border-left: 1px solid gray;box-sizing: border-box;top: 0;bottom: 0;left: 50%;z-index: -1;}#sk-container-id-5 div.sk-parallel-item {display: flex;flex-direction: column;z-index: 1;position: relative;background-color: white;}#sk-container-id-5 div.sk-parallel-item:first-child::after {align-self: flex-end;width: 50%;}#sk-container-id-5 div.sk-parallel-item:last-child::after {align-self: flex-start;width: 50%;}#sk-container-id-5 div.sk-parallel-item:only-child::after {width: 0;}#sk-container-id-5 div.sk-dashed-wrapped {border: 1px dashed gray;margin: 0 0.4em 0.5em 0.4em;box-sizing: border-box;padding-bottom: 0.4em;background-color: white;}#sk-container-id-5 div.sk-label label {font-family: monospace;font-weight: bold;display: inline-block;line-height: 1.2em;}#sk-container-id-5 div.sk-label-container {text-align: center;}#sk-container-id-5 div.sk-container {/* jupyter's `normalize.less` sets `[hidden] { display: none; }` but bootstrap.min.css set `[hidden] { display: none !important; }` so we also need the `!important` here to be able to override the default hidden behavior on the sphinx rendered scikit-learn.org. See: https://github.com/scikit-learn/scikit-learn/issues/21755 */display: inline-block !important;position: relative;}#sk-container-id-5 div.sk-text-repr-fallback {display: none;}</style><div id=\"sk-container-id-5\" class=\"sk-top-container\"><div class=\"sk-text-repr-fallback\"><pre>PowerTransformer()</pre><b>In a Jupyter environment, please rerun this cell to show the HTML representation or trust the notebook. <br />On GitHub, the HTML representation is unable to render, please try loading this page with nbviewer.org.</b></div><div class=\"sk-container\" hidden><div class=\"sk-item\"><div class=\"sk-estimator sk-toggleable\"><input class=\"sk-toggleable__control sk-hidden--visually\" id=\"sk-estimator-id-5\" type=\"checkbox\" checked><label for=\"sk-estimator-id-5\" class=\"sk-toggleable__label sk-toggleable__label-arrow\">PowerTransformer</label><div class=\"sk-toggleable__content\"><pre>PowerTransformer()</pre></div></div></div></div></div>"
      ],
      "text/plain": [
       "PowerTransformer()"
      ]
     },
     "execution_count": 172,
     "metadata": {},
     "output_type": "execute_result"
    }
   ],
   "source": [
    "pt = PowerTransformer()\n",
    "pt"
   ]
  },
  {
   "cell_type": "code",
   "execution_count": 178,
   "id": "6e8f6a13",
   "metadata": {},
   "outputs": [
    {
     "data": {
      "text/plain": [
       "<AxesSubplot:ylabel='Count'>"
      ]
     },
     "execution_count": 178,
     "metadata": {},
     "output_type": "execute_result"
    },
    {
     "data": {
      "image/png": "[encoded data removed]",
      "text/plain": [
       "<Figure size 432x288 with 1 Axes>"
      ]
     },
     "metadata": {
      "needs_background": "light"
     },
     "output_type": "display_data"
    }
   ],
   "source": [
    "sns.histplot(pt.fit_transform(df[['TOT_M']]))"
   ]
  },
  {
   "cell_type": "code",
   "execution_count": 180,
   "id": "066636bf",
   "metadata": {},
   "outputs": [
    {
     "data": {
      "text/plain": [
       "<AxesSubplot:ylabel='Count'>"
      ]
     },
     "execution_count": 180,
     "metadata": {},
     "output_type": "execute_result"
    },
    {
     "data": {
      "image/png": "[encoded data removed]",
      "text/plain": [
       "<Figure size 432x288 with 1 Axes>"
      ]
     },
     "metadata": {
      "needs_background": "light"
     },
     "output_type": "display_data"
    }
   ],
   "source": [
    "sns.histplot(pt.fit_transform(df[['TOT_WORK_M']]))"
   ]
  },
  {
   "cell_type": "code",
   "execution_count": 184,
   "id": "8bfca8ae",
   "metadata": {},
   "outputs": [
    {
     "name": "stderr",
     "output_type": "stream",
     "text": [
      "c:\\users\\hp\\appdata\\local\\programs\\python\\python39\\lib\\site-packages\\seaborn\\_decorators.py:36: FutureWarning: Pass the following variable as a keyword arg: x. From version 0.12, the only valid positional argument will be `data`, and passing other arguments without an explicit keyword will result in an error or misinterpretation.\n",
      "  warnings.warn(\n"
     ]
    },
    {
     "data": {
      "text/plain": [
       "<AxesSubplot:xlabel='TOT_M'>"
      ]
     },
     "execution_count": 184,
     "metadata": {},
     "output_type": "execute_result"
    },
    {
     "data": {
      "image/png": "[encoded data removed]",
      "text/plain": [
       "<Figure size 432x288 with 1 Axes>"
      ]
     },
     "metadata": {
      "needs_background": "light"
     },
     "output_type": "display_data"
    }
   ],
   "source": [
    "sns.boxplot(df.TOT_M)"
   ]
  },
  {
   "cell_type": "code",
   "execution_count": 183,
   "id": "cb7651ba",
   "metadata": {},
   "outputs": [
    {
     "name": "stderr",
     "output_type": "stream",
     "text": [
      "c:\\users\\hp\\appdata\\local\\programs\\python\\python39\\lib\\site-packages\\seaborn\\_decorators.py:36: FutureWarning: Pass the following variable as a keyword arg: x. From version 0.12, the only valid positional argument will be `data`, and passing other arguments without an explicit keyword will result in an error or misinterpretation.\n",
      "  warnings.warn(\n"
     ]
    },
    {
     "data": {
      "text/plain": [
       "<AxesSubplot:>"
      ]
     },
     "execution_count": 183,
     "metadata": {},
     "output_type": "execute_result"
    },
    {
     "data": {
      "image/png": "[encoded data removed]",
      "text/plain": [
       "<Figure size 432x288 with 1 Axes>"
      ]
     },
     "metadata": {
      "needs_background": "light"
     },
     "output_type": "display_data"
    }
   ],
   "source": [
    "sns.boxplot(pt.fit_transform(df[['TOT_M']]))"
   ]
  },
  {
   "cell_type": "code",
   "execution_count": 181,
   "id": "4d87c383",
   "metadata": {},
   "outputs": [
    {
     "data": {
      "text/plain": [
       "<AxesSubplot:ylabel='Count'>"
      ]
     },
     "execution_count": 181,
     "metadata": {},
     "output_type": "execute_result"
    },
    {
     "data": {
      "image/png": "[encoded data removed]",
      "text/plain": [
       "<Figure size 432x288 with 1 Axes>"
      ]
     },
     "metadata": {
      "needs_background": "light"
     },
     "output_type": "display_data"
    }
   ],
   "source": [
    "m = MinMaxScaler()\n",
    "sns.histplot(m.fit_transform(df[['TOT_M']]))"
   ]
  },
  {
   "cell_type": "code",
   "execution_count": 185,
   "id": "c2c542c4",
   "metadata": {},
   "outputs": [
    {
     "name": "stderr",
     "output_type": "stream",
     "text": [
      "c:\\users\\hp\\appdata\\local\\programs\\python\\python39\\lib\\site-packages\\seaborn\\_decorators.py:36: FutureWarning: Pass the following variable as a keyword arg: x. From version 0.12, the only valid positional argument will be `data`, and passing other arguments without an explicit keyword will result in an error or misinterpretation.\n",
      "  warnings.warn(\n"
     ]
    },
    {
     "data": {
      "text/plain": [
       "<AxesSubplot:>"
      ]
     },
     "execution_count": 185,
     "metadata": {},
     "output_type": "execute_result"
    },
    {
     "data": {
      "image/png": "[encoded data removed]",
      "text/plain": [
       "<Figure size 432x288 with 1 Axes>"
      ]
     },
     "metadata": {
      "needs_background": "light"
     },
     "output_type": "display_data"
    }
   ],
   "source": [
    "sns.boxplot(m.fit_transform(df[['TOT_M']]))"
   ]
  },
  {
   "cell_type": "code",
   "execution_count": null,
   "id": "9adb56f2",
   "metadata": {},
   "outputs": [],
   "source": []
  }
 ],
 "metadata": {
  "kernelspec": {
   "display_name": "Python 3",
   "language": "python",
   "name": "python3"
  },
  "language_info": {
   "codemirror_mode": {
    "name": "ipython",
    "version": 3
   },
   "file_extension": ".py",
   "mimetype": "text/x-python",
   "name": "python",
   "nbconvert_exporter": "python",
   "pygments_lexer": "ipython3",
   "version": "3.9.4"
  }
 },
 "nbformat": 4,
 "nbformat_minor": 5
}
